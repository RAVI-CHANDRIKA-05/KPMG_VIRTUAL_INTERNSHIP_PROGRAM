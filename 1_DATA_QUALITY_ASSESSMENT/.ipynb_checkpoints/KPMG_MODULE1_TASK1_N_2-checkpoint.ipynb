{
 "cells": [
  {
   "cell_type": "markdown",
   "id": "f65a51a5",
   "metadata": {},
   "source": [
    "# <span style='color:Blue'> KPMG VIRTUAL INTERNSHIP PROGRAM </span>\n",
    "\n",
    "## <span style='color:Maroon'> A step-by-step approach to improve the quality of dataset  </span>\n",
    "\n",
    "\n",
    "## Potential Business: Optimizing marketing strategy\n",
    "\n",
    "### <span style='color:green'> Here is the background information on the task </span>\n",
    "\n",
    "Sprocket Central Pty Ltd , a medium size bikes & cycling accessories organization.The company is looking to leverage the insights and analysis provided by KPMG to grow its business by optimizing its marketing strategy. \n",
    "\n",
    "The client provided KPMG with 3 datasets to start the preliminary data exploration and identify ways to improve the quality of Sprocket Central Pty Ltd’s data:\n",
    "\n",
    "1.\tCustomer Demographic \n",
    "2.\tCustomer Addresses\n",
    "3.\tTransaction data\n",
    "\n",
    "In a nutshell, the tasks involve analyzing business data sets, improving their data quality and suggesting recommendations to ensure quality of future data. \n",
    "Creating customer segments based on customer behavior trends and patterns. \n",
    "Creating visualizations and dashboards in tableau to derive insights from existing customers and new customers."
   ]
  },
  {
   "cell_type": "markdown",
   "id": "9713560a",
   "metadata": {},
   "source": [
    "### <span style='color:green'> Data Quality Framework Table </span>\n",
    "\n",
    "#### Below is a list of the Data Quality dimensions to evaluate a dataset <br>\n",
    "\n",
    "<img align=\"left\" width=\"300\"  src=\"https://cdn-assets.theforage.com/vinternship_modules/kpmg_data_analytics/Screen+Shot+2018-03-20+at+2.50.59+pm.png\">\n"
   ]
  },
  {
   "cell_type": "markdown",
   "id": "f9493414",
   "metadata": {},
   "source": [
    "### <span style='color:green'> Lets Load the Required Libraries </span>"
   ]
  },
  {
   "cell_type": "code",
   "execution_count": 1,
   "id": "2e1dbb23",
   "metadata": {},
   "outputs": [],
   "source": [
    "import pandas as pd\n",
    "import numpy as np\n",
    "import scipy.stats as stats\n",
    "import seaborn as sns\n",
    "import datetime as dt\n",
    "import matplotlib.pyplot as plt\n",
    "%matplotlib inline\n",
    "from datetime import datetime\n",
    "pd.options.mode.chained_assignment = None  # default='warn'"
   ]
  },
  {
   "cell_type": "code",
   "execution_count": 2,
   "id": "db3bed6b",
   "metadata": {},
   "outputs": [],
   "source": [
    "%matplotlib inline\n",
    "\n",
    "class color:\n",
    "   BLUE = '\\033[94m'\n",
    "   BOLD = '\\033[1m'\n",
    "   END = '\\033[0m'"
   ]
  },
  {
   "cell_type": "markdown",
   "id": "e16a2a0a",
   "metadata": {},
   "source": [
    "### <span style='color:green'> read in the excel datasets and put into a panda data frame </span>"
   ]
  },
  {
   "cell_type": "code",
   "execution_count": 3,
   "id": "4cf9d433",
   "metadata": {},
   "outputs": [],
   "source": [
    "excel_sheet = pd.ExcelFile('KPMG_VI_New_raw_data_update_final.xlsx')"
   ]
  },
  {
   "cell_type": "markdown",
   "id": "fcae1eb9",
   "metadata": {},
   "source": [
    "## <span style='color:Blue'> Load Transaction data </span>\n"
   ]
  },
  {
   "cell_type": "code",
   "execution_count": 4,
   "id": "74585626",
   "metadata": {},
   "outputs": [],
   "source": [
    "transactions = pd.read_excel(excel_sheet, sheet_name=1, header=1)\n",
    "#isinstance(transactions, pd.DataFrame)"
   ]
  },
  {
   "cell_type": "markdown",
   "id": "93eacaa7",
   "metadata": {},
   "source": [
    "### <span style='color:green'> Overview of Data</span>"
   ]
  },
  {
   "cell_type": "code",
   "execution_count": 5,
   "id": "b50ab46b",
   "metadata": {},
   "outputs": [
    {
     "data": {
      "text/html": [
       "<div>\n",
       "<style scoped>\n",
       "    .dataframe tbody tr th:only-of-type {\n",
       "        vertical-align: middle;\n",
       "    }\n",
       "\n",
       "    .dataframe tbody tr th {\n",
       "        vertical-align: top;\n",
       "    }\n",
       "\n",
       "    .dataframe thead th {\n",
       "        text-align: right;\n",
       "    }\n",
       "</style>\n",
       "<table border=\"1\" class=\"dataframe\">\n",
       "  <thead>\n",
       "    <tr style=\"text-align: right;\">\n",
       "      <th></th>\n",
       "      <th>transaction_id</th>\n",
       "      <th>product_id</th>\n",
       "      <th>customer_id</th>\n",
       "      <th>transaction_date</th>\n",
       "      <th>online_order</th>\n",
       "      <th>order_status</th>\n",
       "      <th>brand</th>\n",
       "      <th>product_line</th>\n",
       "      <th>product_class</th>\n",
       "      <th>product_size</th>\n",
       "      <th>list_price</th>\n",
       "      <th>standard_cost</th>\n",
       "      <th>product_first_sold_date</th>\n",
       "    </tr>\n",
       "  </thead>\n",
       "  <tbody>\n",
       "    <tr>\n",
       "      <th>0</th>\n",
       "      <td>1</td>\n",
       "      <td>2</td>\n",
       "      <td>2950</td>\n",
       "      <td>2017-02-25</td>\n",
       "      <td>0.0</td>\n",
       "      <td>Approved</td>\n",
       "      <td>Solex</td>\n",
       "      <td>Standard</td>\n",
       "      <td>medium</td>\n",
       "      <td>medium</td>\n",
       "      <td>71.49</td>\n",
       "      <td>53.62</td>\n",
       "      <td>2012-12-02</td>\n",
       "    </tr>\n",
       "    <tr>\n",
       "      <th>1</th>\n",
       "      <td>2</td>\n",
       "      <td>3</td>\n",
       "      <td>3120</td>\n",
       "      <td>2017-05-21</td>\n",
       "      <td>1.0</td>\n",
       "      <td>Approved</td>\n",
       "      <td>Trek Bicycles</td>\n",
       "      <td>Standard</td>\n",
       "      <td>medium</td>\n",
       "      <td>large</td>\n",
       "      <td>2091.47</td>\n",
       "      <td>388.92</td>\n",
       "      <td>2014-03-03</td>\n",
       "    </tr>\n",
       "    <tr>\n",
       "      <th>2</th>\n",
       "      <td>3</td>\n",
       "      <td>37</td>\n",
       "      <td>402</td>\n",
       "      <td>2017-10-16</td>\n",
       "      <td>0.0</td>\n",
       "      <td>Approved</td>\n",
       "      <td>OHM Cycles</td>\n",
       "      <td>Standard</td>\n",
       "      <td>low</td>\n",
       "      <td>medium</td>\n",
       "      <td>1793.43</td>\n",
       "      <td>248.82</td>\n",
       "      <td>1999-07-20</td>\n",
       "    </tr>\n",
       "    <tr>\n",
       "      <th>3</th>\n",
       "      <td>4</td>\n",
       "      <td>88</td>\n",
       "      <td>3135</td>\n",
       "      <td>2017-08-31</td>\n",
       "      <td>0.0</td>\n",
       "      <td>Approved</td>\n",
       "      <td>Norco Bicycles</td>\n",
       "      <td>Standard</td>\n",
       "      <td>medium</td>\n",
       "      <td>medium</td>\n",
       "      <td>1198.46</td>\n",
       "      <td>381.10</td>\n",
       "      <td>1998-12-16</td>\n",
       "    </tr>\n",
       "    <tr>\n",
       "      <th>4</th>\n",
       "      <td>5</td>\n",
       "      <td>78</td>\n",
       "      <td>787</td>\n",
       "      <td>2017-10-01</td>\n",
       "      <td>1.0</td>\n",
       "      <td>Approved</td>\n",
       "      <td>Giant Bicycles</td>\n",
       "      <td>Standard</td>\n",
       "      <td>medium</td>\n",
       "      <td>large</td>\n",
       "      <td>1765.30</td>\n",
       "      <td>709.48</td>\n",
       "      <td>2015-08-10</td>\n",
       "    </tr>\n",
       "  </tbody>\n",
       "</table>\n",
       "</div>"
      ],
      "text/plain": [
       "   transaction_id  product_id  customer_id transaction_date  online_order  \\\n",
       "0               1           2         2950       2017-02-25           0.0   \n",
       "1               2           3         3120       2017-05-21           1.0   \n",
       "2               3          37          402       2017-10-16           0.0   \n",
       "3               4          88         3135       2017-08-31           0.0   \n",
       "4               5          78          787       2017-10-01           1.0   \n",
       "\n",
       "  order_status           brand product_line product_class product_size  \\\n",
       "0     Approved           Solex     Standard        medium       medium   \n",
       "1     Approved   Trek Bicycles     Standard        medium        large   \n",
       "2     Approved      OHM Cycles     Standard           low       medium   \n",
       "3     Approved  Norco Bicycles     Standard        medium       medium   \n",
       "4     Approved  Giant Bicycles     Standard        medium        large   \n",
       "\n",
       "   list_price  standard_cost product_first_sold_date  \n",
       "0       71.49          53.62              2012-12-02  \n",
       "1     2091.47         388.92              2014-03-03  \n",
       "2     1793.43         248.82              1999-07-20  \n",
       "3     1198.46         381.10              1998-12-16  \n",
       "4     1765.30         709.48              2015-08-10  "
      ]
     },
     "execution_count": 5,
     "metadata": {},
     "output_type": "execute_result"
    }
   ],
   "source": [
    "transactions.head()"
   ]
  },
  {
   "cell_type": "code",
   "execution_count": 6,
   "id": "16844204",
   "metadata": {},
   "outputs": [
    {
     "data": {
      "text/html": [
       "<div>\n",
       "<style scoped>\n",
       "    .dataframe tbody tr th:only-of-type {\n",
       "        vertical-align: middle;\n",
       "    }\n",
       "\n",
       "    .dataframe tbody tr th {\n",
       "        vertical-align: top;\n",
       "    }\n",
       "\n",
       "    .dataframe thead th {\n",
       "        text-align: right;\n",
       "    }\n",
       "</style>\n",
       "<table border=\"1\" class=\"dataframe\">\n",
       "  <thead>\n",
       "    <tr style=\"text-align: right;\">\n",
       "      <th></th>\n",
       "      <th>transaction_id</th>\n",
       "      <th>product_id</th>\n",
       "      <th>customer_id</th>\n",
       "      <th>transaction_date</th>\n",
       "      <th>online_order</th>\n",
       "      <th>order_status</th>\n",
       "      <th>brand</th>\n",
       "      <th>product_line</th>\n",
       "      <th>product_class</th>\n",
       "      <th>product_size</th>\n",
       "      <th>list_price</th>\n",
       "      <th>standard_cost</th>\n",
       "      <th>product_first_sold_date</th>\n",
       "    </tr>\n",
       "  </thead>\n",
       "  <tbody>\n",
       "    <tr>\n",
       "      <th>19995</th>\n",
       "      <td>19996</td>\n",
       "      <td>51</td>\n",
       "      <td>1018</td>\n",
       "      <td>2017-06-24</td>\n",
       "      <td>1.0</td>\n",
       "      <td>Approved</td>\n",
       "      <td>OHM Cycles</td>\n",
       "      <td>Standard</td>\n",
       "      <td>high</td>\n",
       "      <td>medium</td>\n",
       "      <td>2005.66</td>\n",
       "      <td>1203.40</td>\n",
       "      <td>2003-07-21</td>\n",
       "    </tr>\n",
       "    <tr>\n",
       "      <th>19996</th>\n",
       "      <td>19997</td>\n",
       "      <td>41</td>\n",
       "      <td>127</td>\n",
       "      <td>2017-11-09</td>\n",
       "      <td>1.0</td>\n",
       "      <td>Approved</td>\n",
       "      <td>Solex</td>\n",
       "      <td>Road</td>\n",
       "      <td>medium</td>\n",
       "      <td>medium</td>\n",
       "      <td>416.98</td>\n",
       "      <td>312.74</td>\n",
       "      <td>1997-05-10</td>\n",
       "    </tr>\n",
       "    <tr>\n",
       "      <th>19997</th>\n",
       "      <td>19998</td>\n",
       "      <td>87</td>\n",
       "      <td>2284</td>\n",
       "      <td>2017-04-14</td>\n",
       "      <td>1.0</td>\n",
       "      <td>Approved</td>\n",
       "      <td>OHM Cycles</td>\n",
       "      <td>Standard</td>\n",
       "      <td>medium</td>\n",
       "      <td>medium</td>\n",
       "      <td>1636.90</td>\n",
       "      <td>44.71</td>\n",
       "      <td>2010-08-20</td>\n",
       "    </tr>\n",
       "    <tr>\n",
       "      <th>19998</th>\n",
       "      <td>19999</td>\n",
       "      <td>6</td>\n",
       "      <td>2764</td>\n",
       "      <td>2017-07-03</td>\n",
       "      <td>0.0</td>\n",
       "      <td>Approved</td>\n",
       "      <td>OHM Cycles</td>\n",
       "      <td>Standard</td>\n",
       "      <td>high</td>\n",
       "      <td>medium</td>\n",
       "      <td>227.88</td>\n",
       "      <td>136.73</td>\n",
       "      <td>2004-08-17</td>\n",
       "    </tr>\n",
       "    <tr>\n",
       "      <th>19999</th>\n",
       "      <td>20000</td>\n",
       "      <td>11</td>\n",
       "      <td>1144</td>\n",
       "      <td>2017-09-22</td>\n",
       "      <td>1.0</td>\n",
       "      <td>Approved</td>\n",
       "      <td>Trek Bicycles</td>\n",
       "      <td>Standard</td>\n",
       "      <td>medium</td>\n",
       "      <td>small</td>\n",
       "      <td>1775.81</td>\n",
       "      <td>1580.47</td>\n",
       "      <td>1999-06-23</td>\n",
       "    </tr>\n",
       "  </tbody>\n",
       "</table>\n",
       "</div>"
      ],
      "text/plain": [
       "       transaction_id  product_id  customer_id transaction_date  online_order  \\\n",
       "19995           19996          51         1018       2017-06-24           1.0   \n",
       "19996           19997          41          127       2017-11-09           1.0   \n",
       "19997           19998          87         2284       2017-04-14           1.0   \n",
       "19998           19999           6         2764       2017-07-03           0.0   \n",
       "19999           20000          11         1144       2017-09-22           1.0   \n",
       "\n",
       "      order_status          brand product_line product_class product_size  \\\n",
       "19995     Approved     OHM Cycles     Standard          high       medium   \n",
       "19996     Approved          Solex         Road        medium       medium   \n",
       "19997     Approved     OHM Cycles     Standard        medium       medium   \n",
       "19998     Approved     OHM Cycles     Standard          high       medium   \n",
       "19999     Approved  Trek Bicycles     Standard        medium        small   \n",
       "\n",
       "       list_price  standard_cost product_first_sold_date  \n",
       "19995     2005.66        1203.40              2003-07-21  \n",
       "19996      416.98         312.74              1997-05-10  \n",
       "19997     1636.90          44.71              2010-08-20  \n",
       "19998      227.88         136.73              2004-08-17  \n",
       "19999     1775.81        1580.47              1999-06-23  "
      ]
     },
     "execution_count": 6,
     "metadata": {},
     "output_type": "execute_result"
    }
   ],
   "source": [
    "transactions.tail()"
   ]
  },
  {
   "cell_type": "code",
   "execution_count": 7,
   "id": "ae10a42f",
   "metadata": {},
   "outputs": [
    {
     "name": "stdout",
     "output_type": "stream",
     "text": [
      "\u001b[1mThere are 20000 rows and 13 columns in the dataset. \n",
      "\u001b[0m\n",
      "\u001b[1m\u001b[94mLet's look at the data types available in the dataset\u001b[0m\n",
      "<class 'pandas.core.frame.DataFrame'>\n",
      "RangeIndex: 20000 entries, 0 to 19999\n",
      "Data columns (total 13 columns):\n",
      " #   Column                   Non-Null Count  Dtype         \n",
      "---  ------                   --------------  -----         \n",
      " 0   transaction_id           20000 non-null  int64         \n",
      " 1   product_id               20000 non-null  int64         \n",
      " 2   customer_id              20000 non-null  int64         \n",
      " 3   transaction_date         20000 non-null  datetime64[ns]\n",
      " 4   online_order             19640 non-null  float64       \n",
      " 5   order_status             20000 non-null  object        \n",
      " 6   brand                    19803 non-null  object        \n",
      " 7   product_line             19803 non-null  object        \n",
      " 8   product_class            19803 non-null  object        \n",
      " 9   product_size             19803 non-null  object        \n",
      " 10  list_price               20000 non-null  float64       \n",
      " 11  standard_cost            19803 non-null  float64       \n",
      " 12  product_first_sold_date  19803 non-null  datetime64[ns]\n",
      "dtypes: datetime64[ns](2), float64(3), int64(3), object(5)\n",
      "memory usage: 2.0+ MB\n"
     ]
    }
   ],
   "source": [
    "print(color.BOLD + \"There are {} rows and {} columns in the dataset.\".format(transactions.shape[0],transactions.shape[1]),\"\\n\"+ color.END)\n",
    "print(color.BOLD +color.BLUE +\"Let's look at the data types available in the dataset\"+ color.END)\n",
    "transactions.info()\n",
    "\n",
    "#print(color.BOLD +color.BLUE +\"\\n\",\"Null values in the columns of dataset\"+ color.END)\n",
    "#transactions.isnull().sum()\n",
    "\n",
    "#print(color.BOLD +color.BLUE +\"\\n\",\"Summary statistics of dataset\"+ color.END)\n",
    "#transactions.describe()"
   ]
  },
  {
   "cell_type": "markdown",
   "id": "e28f2c43",
   "metadata": {},
   "source": [
    "The data types have to be changed appropriately.<br>\n",
    "Also there are some missing values in the dataset.<br>"
   ]
  },
  {
   "cell_type": "code",
   "execution_count": 8,
   "id": "62416b1a",
   "metadata": {},
   "outputs": [
    {
     "data": {
      "text/plain": [
       "count    20000.000000\n",
       "mean      1738.246050\n",
       "std       1011.951046\n",
       "min          1.000000\n",
       "25%        857.750000\n",
       "50%       1736.000000\n",
       "75%       2613.000000\n",
       "max       5034.000000\n",
       "Name: customer_id, dtype: float64"
      ]
     },
     "execution_count": 8,
     "metadata": {},
     "output_type": "execute_result"
    }
   ],
   "source": [
    "transactions.customer_id.describe()"
   ]
  },
  {
   "cell_type": "code",
   "execution_count": 9,
   "id": "cea33acc",
   "metadata": {},
   "outputs": [
    {
     "name": "stdout",
     "output_type": "stream",
     "text": [
      "All customer_id are not order in from 1 to 3500\n"
     ]
    }
   ],
   "source": [
    "#check if the customer_id are all in order from 1 to 4000\n",
    "list_1 = transactions['customer_id'].to_list()\n",
    "list_2 = list(range(1,3501))\n",
    "if list_1==list_2: \n",
    "    print (\"All customer_id are in order from 1 to 3500\") \n",
    "else: \n",
    "    print (\"All customer_id are not order in from 1 to 3500\")"
   ]
  },
  {
   "cell_type": "code",
   "execution_count": 10,
   "id": "5b1f4452",
   "metadata": {},
   "outputs": [
    {
     "name": "stdout",
     "output_type": "stream",
     "text": [
      "\u001b[1mMin value in customer_id is 1 \n",
      "\u001b[0m\n",
      "\u001b[1mMax value in customer_id is 5034 \n",
      "\u001b[0m\n",
      "\u001b[1mnumber of Unique values in customer_id are 3494 \n",
      "\u001b[0m\n"
     ]
    }
   ],
   "source": [
    "print(color.BOLD + \"Min value in customer_id is {}\".format(transactions['customer_id'].min()),\"\\n\"+ color.END)\n",
    "print(color.BOLD + \"Max value in customer_id is {}\".format(transactions['customer_id'].max()),\"\\n\"+ color.END)\n",
    "print(color.BOLD + \"number of Unique values in customer_id are {}\".format(transactions.customer_id.nunique()),\"\\n\"+ color.END)"
   ]
  },
  {
   "cell_type": "code",
   "execution_count": 11,
   "id": "d46f42e2",
   "metadata": {
    "scrolled": false
   },
   "outputs": [
    {
     "name": "stdout",
     "output_type": "stream",
     "text": [
      "\u001b[1mcustomerr_id between 1-3500 not in transactions {2660, 869, 3236, 852, 3229, 2074, 1373} \n",
      "\u001b[0m\n",
      "\u001b[1mcustomerr_id transactions not in between 1-3500 {5034} \n",
      "\u001b[0m\n"
     ]
    }
   ],
   "source": [
    "print(color.BOLD + \"customerr_id between 1-3500 not in transactions {}\".format(set(list_2).difference(list_1)),\"\\n\"+ color.END)\n",
    "print(color.BOLD + \"customerr_id transactions not in between 1-3500 {}\".format(set(list_1).difference(list_2)),\"\\n\"+ color.END)"
   ]
  },
  {
   "cell_type": "markdown",
   "id": "8f2d211c",
   "metadata": {},
   "source": [
    "we will delete the entries from the above list [2660, 869, 3236, 852, 3229, 2074, 1373, 5034] for now\n",
    "looks like customer_id 5034 is an outlier lets delete entries with that customer_id"
   ]
  },
  {
   "cell_type": "code",
   "execution_count": 12,
   "id": "c828a71d",
   "metadata": {},
   "outputs": [],
   "source": [
    "transactions = transactions[~transactions['customer_id'].isin([2660, 869, 3236, 852, 3229, 2074, 1373, 5034])]"
   ]
  },
  {
   "cell_type": "code",
   "execution_count": 13,
   "id": "fdd32aa1",
   "metadata": {},
   "outputs": [
    {
     "name": "stdout",
     "output_type": "stream",
     "text": [
      "\u001b[1mNow we have 19997 rows and 13 columns in the dataset. \n",
      "\u001b[0m\n"
     ]
    }
   ],
   "source": [
    "print(color.BOLD + \"Now we have {} rows and {} columns in the dataset.\".format(transactions.shape[0],transactions.shape[1]),\"\\n\"+ color.END)\n"
   ]
  },
  {
   "cell_type": "markdown",
   "id": "ac11c989",
   "metadata": {},
   "source": [
    "### <span style='color:green'>Check for duplicates in columns</span>"
   ]
  },
  {
   "cell_type": "code",
   "execution_count": 14,
   "id": "eddbe5b1",
   "metadata": {},
   "outputs": [
    {
     "name": "stdout",
     "output_type": "stream",
     "text": [
      "('transaction_id', True)\n",
      "('product_id', False)\n",
      "('customer_id', False)\n",
      "('transaction_date', False)\n",
      "('online_order', False)\n",
      "('order_status', False)\n",
      "('brand', False)\n",
      "('product_line', False)\n",
      "('product_class', False)\n",
      "('product_size', False)\n",
      "('list_price', False)\n",
      "('standard_cost', False)\n",
      "('product_first_sold_date', False)\n"
     ]
    }
   ],
   "source": [
    "column_names = transactions.columns\n",
    "\n",
    "for col in column_names:\n",
    "    print((col, transactions[col].is_unique))"
   ]
  },
  {
   "cell_type": "markdown",
   "id": "78d3675f",
   "metadata": {},
   "source": [
    "As required transaction_id has all unique values for this data set it might be a primary key"
   ]
  },
  {
   "cell_type": "code",
   "execution_count": 15,
   "id": "b3d8ea0d",
   "metadata": {},
   "outputs": [],
   "source": [
    "#sort the columns by customer id and transaction date\n",
    "transactions = transactions.sort_values(['transaction_date','transaction_id'])"
   ]
  },
  {
   "cell_type": "markdown",
   "id": "56d83a91",
   "metadata": {},
   "source": [
    "### <span style='color:green'>Looking at categorical vairiables</span>"
   ]
  },
  {
   "cell_type": "code",
   "execution_count": 16,
   "id": "e8029379",
   "metadata": {
    "scrolled": false
   },
   "outputs": [
    {
     "name": "stdout",
     "output_type": "stream",
     "text": [
      "\u001b[1mNumber of unique values in online_order is 2 \n",
      "\u001b[0m\n"
     ]
    },
    {
     "data": {
      "image/png": "[encoded data removed]",
      "text/plain": [
       "<Figure size 360x360 with 1 Axes>"
      ]
     },
     "metadata": {
      "needs_background": "light"
     },
     "output_type": "display_data"
    },
    {
     "name": "stdout",
     "output_type": "stream",
     "text": [
      "\n",
      " -------------------------------------------------------------------------------------------------\n",
      "\u001b[1mNumber of unique values in order_status is 2 \n",
      "\u001b[0m\n"
     ]
    },
    {
     "data": {
      "image/png": "[encoded data removed]",
      "text/plain": [
       "<Figure size 360x360 with 1 Axes>"
      ]
     },
     "metadata": {
      "needs_background": "light"
     },
     "output_type": "display_data"
    },
    {
     "name": "stdout",
     "output_type": "stream",
     "text": [
      "\n",
      " -------------------------------------------------------------------------------------------------\n",
      "\u001b[1mNumber of unique values in brand is 6 \n",
      "\u001b[0m\n"
     ]
    },
    {
     "data": {
      "image/png": "[encoded data removed]",
      "text/plain": [
       "<Figure size 360x360 with 1 Axes>"
      ]
     },
     "metadata": {
      "needs_background": "light"
     },
     "output_type": "display_data"
    },
    {
     "name": "stdout",
     "output_type": "stream",
     "text": [
      "\n",
      " -------------------------------------------------------------------------------------------------\n",
      "\u001b[1mNumber of unique values in product_line is 4 \n",
      "\u001b[0m\n"
     ]
    },
    {
     "data": {
      "image/png": "[encoded data removed]",
      "text/plain": [
       "<Figure size 360x360 with 1 Axes>"
      ]
     },
     "metadata": {
      "needs_background": "light"
     },
     "output_type": "display_data"
    },
    {
     "name": "stdout",
     "output_type": "stream",
     "text": [
      "\n",
      " -------------------------------------------------------------------------------------------------\n",
      "\u001b[1mNumber of unique values in product_class is 3 \n",
      "\u001b[0m\n"
     ]
    },
    {
     "data": {
      "image/png": "[encoded data removed]",
      "text/plain": [
       "<Figure size 360x360 with 1 Axes>"
      ]
     },
     "metadata": {
      "needs_background": "light"
     },
     "output_type": "display_data"
    },
    {
     "name": "stdout",
     "output_type": "stream",
     "text": [
      "\n",
      " -------------------------------------------------------------------------------------------------\n",
      "\u001b[1mNumber of unique values in product_size is 3 \n",
      "\u001b[0m\n"
     ]
    },
    {
     "data": {
      "image/png": "[encoded data removed]",
      "text/plain": [
       "<Figure size 360x360 with 1 Axes>"
      ]
     },
     "metadata": {
      "needs_background": "light"
     },
     "output_type": "display_data"
    },
    {
     "name": "stdout",
     "output_type": "stream",
     "text": [
      "\n",
      " -------------------------------------------------------------------------------------------------\n"
     ]
    }
   ],
   "source": [
    "%matplotlib inline\n",
    "cat_column_list = ['online_order','order_status', 'brand', 'product_line', 'product_class', 'product_size']\n",
    "\n",
    "for column in cat_column_list:\n",
    "    count_uniques = pd.DataFrame(transactions[column].value_counts()).rename(columns={column:'Total_Count'}).sort_values('Total_Count',ascending=False)\n",
    "    \n",
    "    # parameters in format function.\n",
    "    print(color.BOLD +\"Number of unique values in {} is {}\".format(column, count_uniques.shape[0]), \"\\n\"+ color.END)\n",
    "\n",
    "    # Create Figure\n",
    "    fig, ax = plt.subplots(figsize=(5,5))\n",
    "\n",
    "    ax = sns.barplot(x=count_uniques.index.values.tolist()  , y=\"Total_Count\", data=count_uniques, palette= 'viridis')\n",
    "    # rotates labels and aligns them horizontally to left \n",
    "    plt.setp( ax.xaxis.get_majorticklabels(), rotation=90, ha=\"left\" )\n",
    "\n",
    "    plt.tight_layout()\n",
    "    plt.show()\n",
    "\n",
    "    print(\"\\n\",'-------------------------------------------------------------------------------------------------')"
   ]
  },
  {
   "cell_type": "markdown",
   "id": "5ee1f8d7",
   "metadata": {},
   "source": [
    "There are rows where order status is canceled we will delete those rows"
   ]
  },
  {
   "cell_type": "code",
   "execution_count": 17,
   "id": "60c79c5d",
   "metadata": {},
   "outputs": [],
   "source": [
    "transactions = transactions[transactions['order_status'] != 'Cancelled']"
   ]
  },
  {
   "cell_type": "markdown",
   "id": "56ddc7c6",
   "metadata": {},
   "source": [
    "Since all the values in order_status are Approved we will delete this column"
   ]
  },
  {
   "cell_type": "code",
   "execution_count": 18,
   "id": "1b400455",
   "metadata": {},
   "outputs": [],
   "source": [
    "#drop order_status column\n",
    "transactions.drop('order_status', axis=1, inplace=True)"
   ]
  },
  {
   "cell_type": "markdown",
   "id": "7f2a1087",
   "metadata": {},
   "source": [
    "### <span style='color:green'>Missing Value treatment</span>"
   ]
  },
  {
   "cell_type": "code",
   "execution_count": 19,
   "id": "9fbfc18a",
   "metadata": {},
   "outputs": [
    {
     "name": "stdout",
     "output_type": "stream",
     "text": [
      "\u001b[1m\u001b[94m\n",
      " Null values in the columns of dataset\u001b[0m\n"
     ]
    },
    {
     "data": {
      "text/plain": [
       "transaction_id               0\n",
       "product_id                   0\n",
       "customer_id                  0\n",
       "transaction_date             0\n",
       "online_order               354\n",
       "brand                      196\n",
       "product_line               196\n",
       "product_class              196\n",
       "product_size               196\n",
       "list_price                   0\n",
       "standard_cost              196\n",
       "product_first_sold_date    196\n",
       "dtype: int64"
      ]
     },
     "execution_count": 19,
     "metadata": {},
     "output_type": "execute_result"
    }
   ],
   "source": [
    "print(color.BOLD +color.BLUE +\"\\n\",\"Null values in the columns of dataset\"+ color.END)\n",
    "transactions.isnull().sum()"
   ]
  },
  {
   "cell_type": "markdown",
   "id": "4e6aa31b",
   "metadata": {},
   "source": [
    "There are still 360 values missing from 'online_order' replace them with mode of online_order"
   ]
  },
  {
   "cell_type": "code",
   "execution_count": 20,
   "id": "a9eb265c",
   "metadata": {},
   "outputs": [],
   "source": [
    "transactions[\"online_order\"] = transactions['online_order'].fillna(transactions[\"online_order\"].mode()[0])"
   ]
  },
  {
   "cell_type": "markdown",
   "id": "b0dc4727",
   "metadata": {},
   "source": [
    "Get list of customer ids Rows with NaN in brand, product_line, product_class, product_size, standard_cost, product_first_sold_date"
   ]
  },
  {
   "cell_type": "code",
   "execution_count": 21,
   "id": "530663ca",
   "metadata": {},
   "outputs": [
    {
     "name": "stdout",
     "output_type": "stream",
     "text": [
      "\u001b[1mRows with NaN in brand, product_line, product_class, product_size, standard_cost, product_first_sold_date  \n",
      "\u001b[0m\n"
     ]
    },
    {
     "data": {
      "text/plain": [
       "196"
      ]
     },
     "execution_count": 21,
     "metadata": {},
     "output_type": "execute_result"
    }
   ],
   "source": [
    "print(color.BOLD +'Rows with NaN in brand, product_line, product_class, product_size, standard_cost, product_first_sold_date ',\"\\n\"+ color.END)\n",
    "\n",
    "nan_rows = transactions[transactions['brand'].isnull() \n",
    "                & transactions['product_line'].isnull()\n",
    "                & transactions['product_class'].isnull()\n",
    "                & transactions['product_size'].isnull()\n",
    "                & transactions['standard_cost'].isnull()\n",
    "                & transactions['product_first_sold_date'].isnull()]\n",
    "\n",
    "nan_rows.shape[0]\n"
   ]
  },
  {
   "cell_type": "markdown",
   "id": "40daf8ff",
   "metadata": {},
   "source": [
    "Looks like all 197 rows have no entries in the same columns brand, product_line, product_class, product_size, standard_cost, product_first_sold_date "
   ]
  },
  {
   "cell_type": "markdown",
   "id": "d236d194",
   "metadata": {},
   "source": [
    "We will look at these rows later.<br>\n",
    "But before that we can extract the customer ID information from these rows"
   ]
  },
  {
   "cell_type": "code",
   "execution_count": 22,
   "id": "16857a48",
   "metadata": {},
   "outputs": [],
   "source": [
    "nan_rows_custid=nan_rows['customer_id'].to_list()"
   ]
  },
  {
   "cell_type": "markdown",
   "id": "9dc3805d",
   "metadata": {},
   "source": [
    "for now we will delete rows where data is missing"
   ]
  },
  {
   "cell_type": "code",
   "execution_count": 23,
   "id": "4237f2bf",
   "metadata": {},
   "outputs": [],
   "source": [
    "transactions.dropna(subset=['brand'], inplace=True)"
   ]
  },
  {
   "cell_type": "code",
   "execution_count": 24,
   "id": "96c076dd",
   "metadata": {},
   "outputs": [
    {
     "name": "stdout",
     "output_type": "stream",
     "text": [
      "\u001b[1mNow we have 19622 rows and 12 columns in the dataset. \n",
      "\u001b[0m\n"
     ]
    }
   ],
   "source": [
    "print(color.BOLD + \"Now we have {} rows and {} columns in the dataset.\".format(transactions.shape[0],transactions.shape[1]),\"\\n\"+ color.END)\n"
   ]
  },
  {
   "cell_type": "markdown",
   "id": "873e751e",
   "metadata": {},
   "source": [
    "### <span style='color:green'>Change data type</span>"
   ]
  },
  {
   "cell_type": "code",
   "execution_count": 25,
   "id": "3071a25f",
   "metadata": {},
   "outputs": [],
   "source": [
    "column_list = ['transaction_id', 'product_id', 'customer_id', 'online_order',\n",
    "               'brand', 'product_line', 'product_class', 'product_size']\n",
    "for col in column_list:\n",
    "    transactions[col] = transactions[col].astype('category')   "
   ]
  },
  {
   "cell_type": "markdown",
   "id": "e226bd36",
   "metadata": {},
   "source": [
    "## <span style='color:Blue'> Load CustomerDemographic and CustomerAddress data </span>"
   ]
  },
  {
   "cell_type": "code",
   "execution_count": 26,
   "id": "3bb2d6cb",
   "metadata": {},
   "outputs": [
    {
     "name": "stderr",
     "output_type": "stream",
     "text": [
      "C:\\Users\\chand\\AppData\\Local\\Temp/ipykernel_2940/3233232332.py:1: FutureWarning: Inferring datetime64[ns] from data containing strings is deprecated and will be removed in a future version. To retain the old behavior explicitly pass Series(data, dtype={value.dtype})\n",
      "  cust_demographics = pd.read_excel(excel_sheet, sheet_name=3, header=1)\n"
     ]
    }
   ],
   "source": [
    "cust_demographics = pd.read_excel(excel_sheet, sheet_name=3, header=1)\n",
    "cust_address = pd.read_excel(excel_sheet, sheet_name=4, header=1)\n",
    "#isinstance(cust_address, pd.DataFrame)"
   ]
  },
  {
   "cell_type": "markdown",
   "id": "51da1fc4",
   "metadata": {},
   "source": [
    "### <span style='color:green'> Overview of Data</span>"
   ]
  },
  {
   "cell_type": "markdown",
   "id": "688936cb",
   "metadata": {},
   "source": [
    "### cust_demographics dataset"
   ]
  },
  {
   "cell_type": "code",
   "execution_count": 27,
   "id": "5a47992c",
   "metadata": {},
   "outputs": [
    {
     "name": "stdout",
     "output_type": "stream",
     "text": [
      "\u001b[1mThere are 4000 rows and 13 columns in the dataset. \n",
      "\u001b[0m\n",
      "\u001b[1m\u001b[94mLet's look at the data types available in the dataset\u001b[0m\n",
      "<class 'pandas.core.frame.DataFrame'>\n",
      "RangeIndex: 4000 entries, 0 to 3999\n",
      "Data columns (total 13 columns):\n",
      " #   Column                               Non-Null Count  Dtype         \n",
      "---  ------                               --------------  -----         \n",
      " 0   customer_id                          4000 non-null   int64         \n",
      " 1   first_name                           4000 non-null   object        \n",
      " 2   last_name                            3875 non-null   object        \n",
      " 3   gender                               4000 non-null   object        \n",
      " 4   past_3_years_bike_related_purchases  4000 non-null   int64         \n",
      " 5   DOB                                  3913 non-null   datetime64[ns]\n",
      " 6   job_title                            3494 non-null   object        \n",
      " 7   job_industry_category                3344 non-null   object        \n",
      " 8   wealth_segment                       4000 non-null   object        \n",
      " 9   deceased_indicator                   4000 non-null   object        \n",
      " 10  default                              3698 non-null   object        \n",
      " 11  owns_car                             4000 non-null   object        \n",
      " 12  tenure                               3913 non-null   float64       \n",
      "dtypes: datetime64[ns](1), float64(1), int64(2), object(9)\n",
      "memory usage: 406.4+ KB\n",
      "\u001b[1m\u001b[94m\n",
      " Null values in the columns of dataset\u001b[0m\n"
     ]
    },
    {
     "data": {
      "text/plain": [
       "customer_id                              0\n",
       "first_name                               0\n",
       "last_name                              125\n",
       "gender                                   0\n",
       "past_3_years_bike_related_purchases      0\n",
       "DOB                                     87\n",
       "job_title                              506\n",
       "job_industry_category                  656\n",
       "wealth_segment                           0\n",
       "deceased_indicator                       0\n",
       "default                                302\n",
       "owns_car                                 0\n",
       "tenure                                  87\n",
       "dtype: int64"
      ]
     },
     "execution_count": 27,
     "metadata": {},
     "output_type": "execute_result"
    }
   ],
   "source": [
    "print(color.BOLD + \"There are {} rows and {} columns in the dataset.\".format(cust_demographics.shape[0],cust_demographics.shape[1]),\"\\n\"+ color.END)\n",
    "print(color.BOLD +color.BLUE +\"Let's look at the data types available in the dataset\"+ color.END)\n",
    "cust_demographics.info()\n",
    "\n",
    "print(color.BOLD +color.BLUE +\"\\n\",\"Null values in the columns of dataset\"+ color.END)\n",
    "cust_demographics.isnull().sum()\n",
    "\n",
    "#print(color.BOLD +color.BLUE +\"\\n\",\"Summary statistics of dataset\"+ color.END)\n",
    "#transactions.describe()"
   ]
  },
  {
   "cell_type": "code",
   "execution_count": 28,
   "id": "4ad30b59",
   "metadata": {},
   "outputs": [
    {
     "data": {
      "text/plain": [
       "Index(['customer_id', 'first_name', 'last_name', 'gender',\n",
       "       'past_3_years_bike_related_purchases', 'DOB', 'job_title',\n",
       "       'job_industry_category', 'wealth_segment', 'deceased_indicator',\n",
       "       'default', 'owns_car', 'tenure'],\n",
       "      dtype='object')"
      ]
     },
     "execution_count": 28,
     "metadata": {},
     "output_type": "execute_result"
    }
   ],
   "source": [
    "cust_demographics.columns"
   ]
  },
  {
   "cell_type": "code",
   "execution_count": 29,
   "id": "b671e8c0",
   "metadata": {},
   "outputs": [
    {
     "data": {
      "text/html": [
       "<div>\n",
       "<style scoped>\n",
       "    .dataframe tbody tr th:only-of-type {\n",
       "        vertical-align: middle;\n",
       "    }\n",
       "\n",
       "    .dataframe tbody tr th {\n",
       "        vertical-align: top;\n",
       "    }\n",
       "\n",
       "    .dataframe thead th {\n",
       "        text-align: right;\n",
       "    }\n",
       "</style>\n",
       "<table border=\"1\" class=\"dataframe\">\n",
       "  <thead>\n",
       "    <tr style=\"text-align: right;\">\n",
       "      <th></th>\n",
       "      <th>customer_id</th>\n",
       "      <th>first_name</th>\n",
       "      <th>last_name</th>\n",
       "      <th>gender</th>\n",
       "      <th>past_3_years_bike_related_purchases</th>\n",
       "      <th>DOB</th>\n",
       "      <th>job_title</th>\n",
       "      <th>job_industry_category</th>\n",
       "      <th>wealth_segment</th>\n",
       "      <th>deceased_indicator</th>\n",
       "      <th>default</th>\n",
       "      <th>owns_car</th>\n",
       "      <th>tenure</th>\n",
       "    </tr>\n",
       "  </thead>\n",
       "  <tbody>\n",
       "    <tr>\n",
       "      <th>0</th>\n",
       "      <td>1</td>\n",
       "      <td>Laraine</td>\n",
       "      <td>Medendorp</td>\n",
       "      <td>F</td>\n",
       "      <td>93</td>\n",
       "      <td>1953-10-12</td>\n",
       "      <td>Executive Secretary</td>\n",
       "      <td>Health</td>\n",
       "      <td>Mass Customer</td>\n",
       "      <td>N</td>\n",
       "      <td>\"'</td>\n",
       "      <td>Yes</td>\n",
       "      <td>11.0</td>\n",
       "    </tr>\n",
       "    <tr>\n",
       "      <th>1</th>\n",
       "      <td>2</td>\n",
       "      <td>Eli</td>\n",
       "      <td>Bockman</td>\n",
       "      <td>Male</td>\n",
       "      <td>81</td>\n",
       "      <td>1980-12-16</td>\n",
       "      <td>Administrative Officer</td>\n",
       "      <td>Financial Services</td>\n",
       "      <td>Mass Customer</td>\n",
       "      <td>N</td>\n",
       "      <td>&lt;script&gt;alert('hi')&lt;/script&gt;</td>\n",
       "      <td>Yes</td>\n",
       "      <td>16.0</td>\n",
       "    </tr>\n",
       "    <tr>\n",
       "      <th>2</th>\n",
       "      <td>3</td>\n",
       "      <td>Arlin</td>\n",
       "      <td>Dearle</td>\n",
       "      <td>Male</td>\n",
       "      <td>61</td>\n",
       "      <td>1954-01-20</td>\n",
       "      <td>Recruiting Manager</td>\n",
       "      <td>Property</td>\n",
       "      <td>Mass Customer</td>\n",
       "      <td>N</td>\n",
       "      <td>2018-02-01 00:00:00</td>\n",
       "      <td>Yes</td>\n",
       "      <td>15.0</td>\n",
       "    </tr>\n",
       "    <tr>\n",
       "      <th>3</th>\n",
       "      <td>4</td>\n",
       "      <td>Talbot</td>\n",
       "      <td>NaN</td>\n",
       "      <td>Male</td>\n",
       "      <td>33</td>\n",
       "      <td>1961-10-03</td>\n",
       "      <td>NaN</td>\n",
       "      <td>IT</td>\n",
       "      <td>Mass Customer</td>\n",
       "      <td>N</td>\n",
       "      <td>() { _; } &gt;_[$($())] { touch /tmp/blns.shellsh...</td>\n",
       "      <td>No</td>\n",
       "      <td>7.0</td>\n",
       "    </tr>\n",
       "    <tr>\n",
       "      <th>4</th>\n",
       "      <td>5</td>\n",
       "      <td>Sheila-kathryn</td>\n",
       "      <td>Calton</td>\n",
       "      <td>Female</td>\n",
       "      <td>56</td>\n",
       "      <td>1977-05-13</td>\n",
       "      <td>Senior Editor</td>\n",
       "      <td>NaN</td>\n",
       "      <td>Affluent Customer</td>\n",
       "      <td>N</td>\n",
       "      <td>NIL</td>\n",
       "      <td>Yes</td>\n",
       "      <td>8.0</td>\n",
       "    </tr>\n",
       "  </tbody>\n",
       "</table>\n",
       "</div>"
      ],
      "text/plain": [
       "   customer_id      first_name  last_name  gender  \\\n",
       "0            1         Laraine  Medendorp       F   \n",
       "1            2             Eli    Bockman    Male   \n",
       "2            3           Arlin     Dearle    Male   \n",
       "3            4          Talbot        NaN    Male   \n",
       "4            5  Sheila-kathryn     Calton  Female   \n",
       "\n",
       "   past_3_years_bike_related_purchases        DOB               job_title  \\\n",
       "0                                   93 1953-10-12     Executive Secretary   \n",
       "1                                   81 1980-12-16  Administrative Officer   \n",
       "2                                   61 1954-01-20      Recruiting Manager   \n",
       "3                                   33 1961-10-03                     NaN   \n",
       "4                                   56 1977-05-13           Senior Editor   \n",
       "\n",
       "  job_industry_category     wealth_segment deceased_indicator  \\\n",
       "0                Health      Mass Customer                  N   \n",
       "1    Financial Services      Mass Customer                  N   \n",
       "2              Property      Mass Customer                  N   \n",
       "3                    IT      Mass Customer                  N   \n",
       "4                   NaN  Affluent Customer                  N   \n",
       "\n",
       "                                             default owns_car  tenure  \n",
       "0                                                 \"'      Yes    11.0  \n",
       "1                       <script>alert('hi')</script>      Yes    16.0  \n",
       "2                                2018-02-01 00:00:00      Yes    15.0  \n",
       "3  () { _; } >_[$($())] { touch /tmp/blns.shellsh...       No     7.0  \n",
       "4                                                NIL      Yes     8.0  "
      ]
     },
     "execution_count": 29,
     "metadata": {},
     "output_type": "execute_result"
    }
   ],
   "source": [
    "cust_demographics.head()"
   ]
  },
  {
   "cell_type": "code",
   "execution_count": 30,
   "id": "e4d1fc61",
   "metadata": {},
   "outputs": [
    {
     "data": {
      "text/html": [
       "<div>\n",
       "<style scoped>\n",
       "    .dataframe tbody tr th:only-of-type {\n",
       "        vertical-align: middle;\n",
       "    }\n",
       "\n",
       "    .dataframe tbody tr th {\n",
       "        vertical-align: top;\n",
       "    }\n",
       "\n",
       "    .dataframe thead th {\n",
       "        text-align: right;\n",
       "    }\n",
       "</style>\n",
       "<table border=\"1\" class=\"dataframe\">\n",
       "  <thead>\n",
       "    <tr style=\"text-align: right;\">\n",
       "      <th></th>\n",
       "      <th>customer_id</th>\n",
       "      <th>first_name</th>\n",
       "      <th>last_name</th>\n",
       "      <th>gender</th>\n",
       "      <th>past_3_years_bike_related_purchases</th>\n",
       "      <th>DOB</th>\n",
       "      <th>job_title</th>\n",
       "      <th>job_industry_category</th>\n",
       "      <th>wealth_segment</th>\n",
       "      <th>deceased_indicator</th>\n",
       "      <th>default</th>\n",
       "      <th>owns_car</th>\n",
       "      <th>tenure</th>\n",
       "    </tr>\n",
       "  </thead>\n",
       "  <tbody>\n",
       "    <tr>\n",
       "      <th>3995</th>\n",
       "      <td>3996</td>\n",
       "      <td>Rosalia</td>\n",
       "      <td>Halgarth</td>\n",
       "      <td>Female</td>\n",
       "      <td>8</td>\n",
       "      <td>1975-08-09</td>\n",
       "      <td>VP Product Management</td>\n",
       "      <td>Health</td>\n",
       "      <td>Mass Customer</td>\n",
       "      <td>N</td>\n",
       "      <td>-100</td>\n",
       "      <td>No</td>\n",
       "      <td>19.0</td>\n",
       "    </tr>\n",
       "    <tr>\n",
       "      <th>3996</th>\n",
       "      <td>3997</td>\n",
       "      <td>Blanch</td>\n",
       "      <td>Nisuis</td>\n",
       "      <td>Female</td>\n",
       "      <td>87</td>\n",
       "      <td>2001-07-13</td>\n",
       "      <td>Statistician II</td>\n",
       "      <td>Manufacturing</td>\n",
       "      <td>High Net Worth</td>\n",
       "      <td>N</td>\n",
       "      <td>â¦testâ§</td>\n",
       "      <td>Yes</td>\n",
       "      <td>1.0</td>\n",
       "    </tr>\n",
       "    <tr>\n",
       "      <th>3997</th>\n",
       "      <td>3998</td>\n",
       "      <td>Sarene</td>\n",
       "      <td>Woolley</td>\n",
       "      <td>U</td>\n",
       "      <td>60</td>\n",
       "      <td>NaT</td>\n",
       "      <td>Assistant Manager</td>\n",
       "      <td>IT</td>\n",
       "      <td>High Net Worth</td>\n",
       "      <td>N</td>\n",
       "      <td>NaN</td>\n",
       "      <td>No</td>\n",
       "      <td>NaN</td>\n",
       "    </tr>\n",
       "    <tr>\n",
       "      <th>3998</th>\n",
       "      <td>3999</td>\n",
       "      <td>Patrizius</td>\n",
       "      <td>NaN</td>\n",
       "      <td>Male</td>\n",
       "      <td>11</td>\n",
       "      <td>1973-10-24</td>\n",
       "      <td>NaN</td>\n",
       "      <td>Manufacturing</td>\n",
       "      <td>Affluent Customer</td>\n",
       "      <td>N</td>\n",
       "      <td>Â¡â¢Â£Â¢âÂ§Â¶â¢ÂªÂºââ</td>\n",
       "      <td>Yes</td>\n",
       "      <td>10.0</td>\n",
       "    </tr>\n",
       "    <tr>\n",
       "      <th>3999</th>\n",
       "      <td>4000</td>\n",
       "      <td>Kippy</td>\n",
       "      <td>Oldland</td>\n",
       "      <td>Male</td>\n",
       "      <td>76</td>\n",
       "      <td>1991-11-05</td>\n",
       "      <td>Software Engineer IV</td>\n",
       "      <td>NaN</td>\n",
       "      <td>Affluent Customer</td>\n",
       "      <td>N</td>\n",
       "      <td>0/0</td>\n",
       "      <td>No</td>\n",
       "      <td>11.0</td>\n",
       "    </tr>\n",
       "  </tbody>\n",
       "</table>\n",
       "</div>"
      ],
      "text/plain": [
       "      customer_id first_name last_name  gender  \\\n",
       "3995         3996    Rosalia  Halgarth  Female   \n",
       "3996         3997     Blanch    Nisuis  Female   \n",
       "3997         3998     Sarene   Woolley       U   \n",
       "3998         3999  Patrizius       NaN    Male   \n",
       "3999         4000      Kippy   Oldland    Male   \n",
       "\n",
       "      past_3_years_bike_related_purchases        DOB              job_title  \\\n",
       "3995                                    8 1975-08-09  VP Product Management   \n",
       "3996                                   87 2001-07-13        Statistician II   \n",
       "3997                                   60        NaT      Assistant Manager   \n",
       "3998                                   11 1973-10-24                    NaN   \n",
       "3999                                   76 1991-11-05   Software Engineer IV   \n",
       "\n",
       "     job_industry_category     wealth_segment deceased_indicator  \\\n",
       "3995                Health      Mass Customer                  N   \n",
       "3996         Manufacturing     High Net Worth                  N   \n",
       "3997                    IT     High Net Worth                  N   \n",
       "3998         Manufacturing  Affluent Customer                  N   \n",
       "3999                   NaN  Affluent Customer                  N   \n",
       "\n",
       "                     default owns_car  tenure  \n",
       "3995                    -100       No    19.0  \n",
       "3996                â¦testâ§      Yes     1.0  \n",
       "3997                     NaN       No     NaN  \n",
       "3998  Â¡â¢Â£Â¢âÂ§Â¶â¢ÂªÂºââ       Yes    10.0  \n",
       "3999                     0/0       No    11.0  "
      ]
     },
     "execution_count": 30,
     "metadata": {},
     "output_type": "execute_result"
    }
   ],
   "source": [
    "cust_demographics.tail()"
   ]
  },
  {
   "cell_type": "markdown",
   "id": "053249a0",
   "metadata": {},
   "source": [
    "### cust_address dataset"
   ]
  },
  {
   "cell_type": "code",
   "execution_count": 31,
   "id": "cd8ebcb4",
   "metadata": {},
   "outputs": [
    {
     "name": "stdout",
     "output_type": "stream",
     "text": [
      "\u001b[1mThere are 3999 rows and 6 columns in the dataset. \n",
      "\u001b[0m\n",
      "\u001b[1m\u001b[94mLet's look at the data types available in the dataset\u001b[0m\n",
      "<class 'pandas.core.frame.DataFrame'>\n",
      "RangeIndex: 3999 entries, 0 to 3998\n",
      "Data columns (total 6 columns):\n",
      " #   Column              Non-Null Count  Dtype \n",
      "---  ------              --------------  ----- \n",
      " 0   customer_id         3999 non-null   int64 \n",
      " 1   address             3999 non-null   object\n",
      " 2   postcode            3999 non-null   int64 \n",
      " 3   state               3999 non-null   object\n",
      " 4   country             3999 non-null   object\n",
      " 5   property_valuation  3999 non-null   int64 \n",
      "dtypes: int64(3), object(3)\n",
      "memory usage: 187.6+ KB\n",
      "\u001b[1m\u001b[94m\n",
      " Null values in the columns of dataset\u001b[0m\n"
     ]
    },
    {
     "data": {
      "text/plain": [
       "customer_id           0\n",
       "address               0\n",
       "postcode              0\n",
       "state                 0\n",
       "country               0\n",
       "property_valuation    0\n",
       "dtype: int64"
      ]
     },
     "execution_count": 31,
     "metadata": {},
     "output_type": "execute_result"
    }
   ],
   "source": [
    "print(color.BOLD + \"There are {} rows and {} columns in the dataset.\".format(cust_address.shape[0],cust_address.shape[1]),\"\\n\"+ color.END)\n",
    "print(color.BOLD +color.BLUE +\"Let's look at the data types available in the dataset\"+ color.END)\n",
    "cust_address.info()\n",
    "\n",
    "print(color.BOLD +color.BLUE +\"\\n\",\"Null values in the columns of dataset\"+ color.END)\n",
    "cust_address.isnull().sum()\n",
    "\n",
    "#print(color.BOLD +color.BLUE +\"\\n\",\"Summary statistics of dataset\"+ color.END)\n",
    "#transactions.describe()"
   ]
  },
  {
   "cell_type": "code",
   "execution_count": 32,
   "id": "824cde2f",
   "metadata": {},
   "outputs": [
    {
     "data": {
      "text/html": [
       "<div>\n",
       "<style scoped>\n",
       "    .dataframe tbody tr th:only-of-type {\n",
       "        vertical-align: middle;\n",
       "    }\n",
       "\n",
       "    .dataframe tbody tr th {\n",
       "        vertical-align: top;\n",
       "    }\n",
       "\n",
       "    .dataframe thead th {\n",
       "        text-align: right;\n",
       "    }\n",
       "</style>\n",
       "<table border=\"1\" class=\"dataframe\">\n",
       "  <thead>\n",
       "    <tr style=\"text-align: right;\">\n",
       "      <th></th>\n",
       "      <th>customer_id</th>\n",
       "      <th>address</th>\n",
       "      <th>postcode</th>\n",
       "      <th>state</th>\n",
       "      <th>country</th>\n",
       "      <th>property_valuation</th>\n",
       "    </tr>\n",
       "  </thead>\n",
       "  <tbody>\n",
       "    <tr>\n",
       "      <th>0</th>\n",
       "      <td>1</td>\n",
       "      <td>060 Morning Avenue</td>\n",
       "      <td>2016</td>\n",
       "      <td>New South Wales</td>\n",
       "      <td>Australia</td>\n",
       "      <td>10</td>\n",
       "    </tr>\n",
       "    <tr>\n",
       "      <th>1</th>\n",
       "      <td>2</td>\n",
       "      <td>6 Meadow Vale Court</td>\n",
       "      <td>2153</td>\n",
       "      <td>New South Wales</td>\n",
       "      <td>Australia</td>\n",
       "      <td>10</td>\n",
       "    </tr>\n",
       "    <tr>\n",
       "      <th>2</th>\n",
       "      <td>4</td>\n",
       "      <td>0 Holy Cross Court</td>\n",
       "      <td>4211</td>\n",
       "      <td>QLD</td>\n",
       "      <td>Australia</td>\n",
       "      <td>9</td>\n",
       "    </tr>\n",
       "    <tr>\n",
       "      <th>3</th>\n",
       "      <td>5</td>\n",
       "      <td>17979 Del Mar Point</td>\n",
       "      <td>2448</td>\n",
       "      <td>New South Wales</td>\n",
       "      <td>Australia</td>\n",
       "      <td>4</td>\n",
       "    </tr>\n",
       "    <tr>\n",
       "      <th>4</th>\n",
       "      <td>6</td>\n",
       "      <td>9 Oakridge Court</td>\n",
       "      <td>3216</td>\n",
       "      <td>VIC</td>\n",
       "      <td>Australia</td>\n",
       "      <td>9</td>\n",
       "    </tr>\n",
       "  </tbody>\n",
       "</table>\n",
       "</div>"
      ],
      "text/plain": [
       "   customer_id              address  postcode            state    country  \\\n",
       "0            1   060 Morning Avenue      2016  New South Wales  Australia   \n",
       "1            2  6 Meadow Vale Court      2153  New South Wales  Australia   \n",
       "2            4   0 Holy Cross Court      4211              QLD  Australia   \n",
       "3            5  17979 Del Mar Point      2448  New South Wales  Australia   \n",
       "4            6     9 Oakridge Court      3216              VIC  Australia   \n",
       "\n",
       "   property_valuation  \n",
       "0                  10  \n",
       "1                  10  \n",
       "2                   9  \n",
       "3                   4  \n",
       "4                   9  "
      ]
     },
     "execution_count": 32,
     "metadata": {},
     "output_type": "execute_result"
    }
   ],
   "source": [
    "cust_address.head()"
   ]
  },
  {
   "cell_type": "code",
   "execution_count": 33,
   "id": "734cc8a4",
   "metadata": {},
   "outputs": [
    {
     "data": {
      "text/html": [
       "<div>\n",
       "<style scoped>\n",
       "    .dataframe tbody tr th:only-of-type {\n",
       "        vertical-align: middle;\n",
       "    }\n",
       "\n",
       "    .dataframe tbody tr th {\n",
       "        vertical-align: top;\n",
       "    }\n",
       "\n",
       "    .dataframe thead th {\n",
       "        text-align: right;\n",
       "    }\n",
       "</style>\n",
       "<table border=\"1\" class=\"dataframe\">\n",
       "  <thead>\n",
       "    <tr style=\"text-align: right;\">\n",
       "      <th></th>\n",
       "      <th>customer_id</th>\n",
       "      <th>address</th>\n",
       "      <th>postcode</th>\n",
       "      <th>state</th>\n",
       "      <th>country</th>\n",
       "      <th>property_valuation</th>\n",
       "    </tr>\n",
       "  </thead>\n",
       "  <tbody>\n",
       "    <tr>\n",
       "      <th>3994</th>\n",
       "      <td>3999</td>\n",
       "      <td>1482 Hauk Trail</td>\n",
       "      <td>3064</td>\n",
       "      <td>VIC</td>\n",
       "      <td>Australia</td>\n",
       "      <td>3</td>\n",
       "    </tr>\n",
       "    <tr>\n",
       "      <th>3995</th>\n",
       "      <td>4000</td>\n",
       "      <td>57042 Village Green Point</td>\n",
       "      <td>4511</td>\n",
       "      <td>QLD</td>\n",
       "      <td>Australia</td>\n",
       "      <td>6</td>\n",
       "    </tr>\n",
       "    <tr>\n",
       "      <th>3996</th>\n",
       "      <td>4001</td>\n",
       "      <td>87 Crescent Oaks Alley</td>\n",
       "      <td>2756</td>\n",
       "      <td>NSW</td>\n",
       "      <td>Australia</td>\n",
       "      <td>10</td>\n",
       "    </tr>\n",
       "    <tr>\n",
       "      <th>3997</th>\n",
       "      <td>4002</td>\n",
       "      <td>8194 Lien Street</td>\n",
       "      <td>4032</td>\n",
       "      <td>QLD</td>\n",
       "      <td>Australia</td>\n",
       "      <td>7</td>\n",
       "    </tr>\n",
       "    <tr>\n",
       "      <th>3998</th>\n",
       "      <td>4003</td>\n",
       "      <td>320 Acker Drive</td>\n",
       "      <td>2251</td>\n",
       "      <td>NSW</td>\n",
       "      <td>Australia</td>\n",
       "      <td>7</td>\n",
       "    </tr>\n",
       "  </tbody>\n",
       "</table>\n",
       "</div>"
      ],
      "text/plain": [
       "      customer_id                    address  postcode state    country  \\\n",
       "3994         3999            1482 Hauk Trail      3064   VIC  Australia   \n",
       "3995         4000  57042 Village Green Point      4511   QLD  Australia   \n",
       "3996         4001     87 Crescent Oaks Alley      2756   NSW  Australia   \n",
       "3997         4002           8194 Lien Street      4032   QLD  Australia   \n",
       "3998         4003            320 Acker Drive      2251   NSW  Australia   \n",
       "\n",
       "      property_valuation  \n",
       "3994                   3  \n",
       "3995                   6  \n",
       "3996                  10  \n",
       "3997                   7  \n",
       "3998                   7  "
      ]
     },
     "execution_count": 33,
     "metadata": {},
     "output_type": "execute_result"
    }
   ],
   "source": [
    "cust_address.tail()"
   ]
  },
  {
   "cell_type": "markdown",
   "id": "a2270616",
   "metadata": {},
   "source": [
    "### <span style='color:green'> Join cust_demographics and cust_address datasets</span>"
   ]
  },
  {
   "cell_type": "code",
   "execution_count": 34,
   "id": "768b86f1",
   "metadata": {},
   "outputs": [],
   "source": [
    "customer_details = pd.merge(cust_demographics, cust_address, \n",
    "                          how=\"outer\", left_on='customer_id', \n",
    "                          right_on='customer_id', suffixes=(\"_demographics\", \"_address\"))\n"
   ]
  },
  {
   "cell_type": "code",
   "execution_count": 35,
   "id": "ca2b028a",
   "metadata": {},
   "outputs": [
    {
     "name": "stdout",
     "output_type": "stream",
     "text": [
      "No, all customer_id from customer demographic are not in transactions\n"
     ]
    }
   ],
   "source": [
    "#check if all customer_id from customer demographic are in transactions\n",
    "list_1 = customer_details['customer_id'].tolist()\n",
    "list_2 = transactions['customer_id'].tolist()\n",
    "result =  all(elem in list_2  for elem in list_1)\n",
    "if result:\n",
    "    print(\"Yes, all customer_id from customer demographic are in transactions\")    \n",
    "else :\n",
    "    print(\"No, all customer_id from customer demographic are not in transactions\")"
   ]
  },
  {
   "cell_type": "markdown",
   "id": "b3215ce8",
   "metadata": {},
   "source": [
    "Looks like there is information regarding customer demographic but not transactions"
   ]
  },
  {
   "cell_type": "code",
   "execution_count": 36,
   "id": "a60bee64",
   "metadata": {},
   "outputs": [
    {
     "name": "stdout",
     "output_type": "stream",
     "text": [
      "<class 'pandas.core.frame.DataFrame'>\n",
      "Int64Index: 4003 entries, 0 to 4002\n",
      "Data columns (total 18 columns):\n",
      " #   Column                               Non-Null Count  Dtype         \n",
      "---  ------                               --------------  -----         \n",
      " 0   customer_id                          4003 non-null   int64         \n",
      " 1   first_name                           4000 non-null   object        \n",
      " 2   last_name                            3875 non-null   object        \n",
      " 3   gender                               4000 non-null   object        \n",
      " 4   past_3_years_bike_related_purchases  4000 non-null   float64       \n",
      " 5   DOB                                  3913 non-null   datetime64[ns]\n",
      " 6   job_title                            3494 non-null   object        \n",
      " 7   job_industry_category                3344 non-null   object        \n",
      " 8   wealth_segment                       4000 non-null   object        \n",
      " 9   deceased_indicator                   4000 non-null   object        \n",
      " 10  default                              3698 non-null   object        \n",
      " 11  owns_car                             4000 non-null   object        \n",
      " 12  tenure                               3913 non-null   float64       \n",
      " 13  address                              3999 non-null   object        \n",
      " 14  postcode                             3999 non-null   float64       \n",
      " 15  state                                3999 non-null   object        \n",
      " 16  country                              3999 non-null   object        \n",
      " 17  property_valuation                   3999 non-null   float64       \n",
      "dtypes: datetime64[ns](1), float64(4), int64(1), object(12)\n",
      "memory usage: 594.2+ KB\n"
     ]
    }
   ],
   "source": [
    "# Check datatypes\n",
    "customer_details.info()"
   ]
  },
  {
   "cell_type": "markdown",
   "id": "a69025be",
   "metadata": {},
   "source": [
    "### default\n",
    "There is a default column without a valid data delete it"
   ]
  },
  {
   "cell_type": "code",
   "execution_count": 37,
   "id": "4aba5d83",
   "metadata": {},
   "outputs": [],
   "source": [
    "#drop default column\n",
    "customer_details.drop('default', axis=1, inplace=True)"
   ]
  },
  {
   "cell_type": "markdown",
   "id": "357c8514",
   "metadata": {},
   "source": [
    "### customer_id and postcode from int and float to objects "
   ]
  },
  {
   "cell_type": "code",
   "execution_count": 38,
   "id": "1c928087",
   "metadata": {},
   "outputs": [],
   "source": [
    "# Change customer_id and postcode to objects\n",
    "customer_details['customer_id'] = customer_details['customer_id'].astype(object)\n",
    "customer_details['postcode'] = customer_details['postcode'].astype(object)"
   ]
  },
  {
   "cell_type": "markdown",
   "id": "3574eff8",
   "metadata": {},
   "source": [
    "### DOB\n",
    "Check if DOB are in order"
   ]
  },
  {
   "cell_type": "code",
   "execution_count": 39,
   "id": "6bd14d82",
   "metadata": {},
   "outputs": [
    {
     "name": "stdout",
     "output_type": "stream",
     "text": [
      "\u001b[1mDate of Birth of Oldest Customer is 1843-12-21 00:00:00 \n",
      "\u001b[0m\n",
      "\u001b[1mDate of Birth of Youngest Customer is 2002-03-11 00:00:00 \n",
      "\u001b[0m\n"
     ]
    }
   ],
   "source": [
    "print(color.BOLD + \"Date of Birth of Oldest Customer is {}\".format(min(customer_details['DOB'])),\"\\n\"+ color.END)\n",
    "print(color.BOLD + \"Date of Birth of Youngest Customer is {}\".format(max(customer_details['DOB'])),\"\\n\"+ color.END)"
   ]
  },
  {
   "cell_type": "markdown",
   "id": "bd8b7b0c",
   "metadata": {},
   "source": [
    "1843-12-21 might be an incorrect entry<br>\n",
    "we can change it to 1943-12-21 assuming that year was entered incorrectly"
   ]
  },
  {
   "cell_type": "code",
   "execution_count": 40,
   "id": "bef9a5f3",
   "metadata": {},
   "outputs": [
    {
     "name": "stdout",
     "output_type": "stream",
     "text": [
      "\u001b[1mRows with 1843-12-21 as DOB \n",
      "\u001b[0m\n"
     ]
    },
    {
     "data": {
      "text/html": [
       "<div>\n",
       "<style scoped>\n",
       "    .dataframe tbody tr th:only-of-type {\n",
       "        vertical-align: middle;\n",
       "    }\n",
       "\n",
       "    .dataframe tbody tr th {\n",
       "        vertical-align: top;\n",
       "    }\n",
       "\n",
       "    .dataframe thead th {\n",
       "        text-align: right;\n",
       "    }\n",
       "</style>\n",
       "<table border=\"1\" class=\"dataframe\">\n",
       "  <thead>\n",
       "    <tr style=\"text-align: right;\">\n",
       "      <th></th>\n",
       "      <th>customer_id</th>\n",
       "      <th>first_name</th>\n",
       "      <th>last_name</th>\n",
       "      <th>gender</th>\n",
       "      <th>past_3_years_bike_related_purchases</th>\n",
       "      <th>DOB</th>\n",
       "      <th>job_title</th>\n",
       "      <th>job_industry_category</th>\n",
       "      <th>wealth_segment</th>\n",
       "      <th>deceased_indicator</th>\n",
       "      <th>owns_car</th>\n",
       "      <th>tenure</th>\n",
       "      <th>address</th>\n",
       "      <th>postcode</th>\n",
       "      <th>state</th>\n",
       "      <th>country</th>\n",
       "      <th>property_valuation</th>\n",
       "    </tr>\n",
       "  </thead>\n",
       "  <tbody>\n",
       "    <tr>\n",
       "      <th>33</th>\n",
       "      <td>34</td>\n",
       "      <td>Jephthah</td>\n",
       "      <td>Bachmann</td>\n",
       "      <td>U</td>\n",
       "      <td>59.0</td>\n",
       "      <td>1843-12-21</td>\n",
       "      <td>Legal Assistant</td>\n",
       "      <td>IT</td>\n",
       "      <td>Affluent Customer</td>\n",
       "      <td>N</td>\n",
       "      <td>No</td>\n",
       "      <td>20.0</td>\n",
       "      <td>833 Luster Way</td>\n",
       "      <td>4005.0</td>\n",
       "      <td>QLD</td>\n",
       "      <td>Australia</td>\n",
       "      <td>8.0</td>\n",
       "    </tr>\n",
       "  </tbody>\n",
       "</table>\n",
       "</div>"
      ],
      "text/plain": [
       "   customer_id first_name last_name gender  \\\n",
       "33          34   Jephthah  Bachmann      U   \n",
       "\n",
       "    past_3_years_bike_related_purchases        DOB        job_title  \\\n",
       "33                                 59.0 1843-12-21  Legal Assistant   \n",
       "\n",
       "   job_industry_category     wealth_segment deceased_indicator owns_car  \\\n",
       "33                    IT  Affluent Customer                  N       No   \n",
       "\n",
       "    tenure         address postcode state    country  property_valuation  \n",
       "33    20.0  833 Luster Way   4005.0   QLD  Australia                 8.0  "
      ]
     },
     "execution_count": 40,
     "metadata": {},
     "output_type": "execute_result"
    }
   ],
   "source": [
    "print(color.BOLD +'Rows with 1843-12-21 as DOB',\"\\n\"+ color.END)\n",
    "customer_details[customer_details['DOB']=='1843-12-21']"
   ]
  },
  {
   "cell_type": "code",
   "execution_count": 41,
   "id": "91d1b69b",
   "metadata": {},
   "outputs": [],
   "source": [
    "# this will replace the DOB which is outlier\n",
    "customer_details['DOB'].replace(to_replace =\"1843-12-21\", value =\"1943-12-21\", inplace=True)"
   ]
  },
  {
   "cell_type": "markdown",
   "id": "380978e6",
   "metadata": {},
   "source": [
    "### <span style='color:green'> Looking at categorical variables</span>"
   ]
  },
  {
   "cell_type": "code",
   "execution_count": 42,
   "id": "8fb16138",
   "metadata": {
    "scrolled": false
   },
   "outputs": [
    {
     "name": "stdout",
     "output_type": "stream",
     "text": [
      "\u001b[1mNumber of unique values in gender is 6 \n",
      "\u001b[0m\n"
     ]
    },
    {
     "data": {
      "image/png": "[encoded data removed]",
      "text/plain": [
       "<Figure size 360x360 with 1 Axes>"
      ]
     },
     "metadata": {
      "needs_background": "light"
     },
     "output_type": "display_data"
    },
    {
     "name": "stdout",
     "output_type": "stream",
     "text": [
      "\n",
      " -------------------------------------------------------------------------------------------------\n",
      "\u001b[1mNumber of unique values in job_industry_category is 9 \n",
      "\u001b[0m\n"
     ]
    },
    {
     "data": {
      "image/png": "[encoded data removed]",
      "text/plain": [
       "<Figure size 360x360 with 1 Axes>"
      ]
     },
     "metadata": {
      "needs_background": "light"
     },
     "output_type": "display_data"
    },
    {
     "name": "stdout",
     "output_type": "stream",
     "text": [
      "\n",
      " -------------------------------------------------------------------------------------------------\n",
      "\u001b[1mNumber of unique values in wealth_segment is 3 \n",
      "\u001b[0m\n"
     ]
    },
    {
     "data": {
      "image/png": "[encoded data removed]",
      "text/plain": [
       "<Figure size 360x360 with 1 Axes>"
      ]
     },
     "metadata": {
      "needs_background": "light"
     },
     "output_type": "display_data"
    },
    {
     "name": "stdout",
     "output_type": "stream",
     "text": [
      "\n",
      " -------------------------------------------------------------------------------------------------\n",
      "\u001b[1mNumber of unique values in deceased_indicator is 2 \n",
      "\u001b[0m\n"
     ]
    },
    {
     "data": {
      "image/png": "[encoded data removed]",
      "text/plain": [
       "<Figure size 360x360 with 1 Axes>"
      ]
     },
     "metadata": {
      "needs_background": "light"
     },
     "output_type": "display_data"
    },
    {
     "name": "stdout",
     "output_type": "stream",
     "text": [
      "\n",
      " -------------------------------------------------------------------------------------------------\n",
      "\u001b[1mNumber of unique values in owns_car is 2 \n",
      "\u001b[0m\n"
     ]
    },
    {
     "data": {
      "image/png": "[encoded data removed]",
      "text/plain": [
       "<Figure size 360x360 with 1 Axes>"
      ]
     },
     "metadata": {
      "needs_background": "light"
     },
     "output_type": "display_data"
    },
    {
     "name": "stdout",
     "output_type": "stream",
     "text": [
      "\n",
      " -------------------------------------------------------------------------------------------------\n",
      "\u001b[1mNumber of unique values in state is 5 \n",
      "\u001b[0m\n"
     ]
    },
    {
     "data": {
      "image/png": "[encoded data removed]",
      "text/plain": [
       "<Figure size 360x360 with 1 Axes>"
      ]
     },
     "metadata": {
      "needs_background": "light"
     },
     "output_type": "display_data"
    },
    {
     "name": "stdout",
     "output_type": "stream",
     "text": [
      "\n",
      " -------------------------------------------------------------------------------------------------\n",
      "\u001b[1mNumber of unique values in country is 1 \n",
      "\u001b[0m\n"
     ]
    },
    {
     "data": {
      "image/png": "[encoded data removed]",
      "text/plain": [
       "<Figure size 360x360 with 1 Axes>"
      ]
     },
     "metadata": {
      "needs_background": "light"
     },
     "output_type": "display_data"
    },
    {
     "name": "stdout",
     "output_type": "stream",
     "text": [
      "\n",
      " -------------------------------------------------------------------------------------------------\n"
     ]
    }
   ],
   "source": [
    "%matplotlib inline\n",
    "cat_column_list = ['gender','job_industry_category', 'wealth_segment', 'deceased_indicator', 'owns_car', 'state', 'country']\n",
    "\n",
    "for column in cat_column_list:\n",
    "    count_uniques = pd.DataFrame(customer_details[column].value_counts()).rename(columns={column:'Total_Count'}).sort_values('Total_Count',ascending=False)\n",
    "    \n",
    "    # parameters in format function.\n",
    "    print(color.BOLD +\"Number of unique values in {} is {}\".format(column, count_uniques.shape[0]), \"\\n\"+ color.END)\n",
    "\n",
    "    # Create Figure\n",
    "    fig, ax = plt.subplots(figsize=(5,5))\n",
    "\n",
    "    ax = sns.barplot(x=count_uniques.index.values.tolist()  , y=\"Total_Count\", data=count_uniques, palette= 'viridis')\n",
    "    # rotates labels and aligns them horizontally to left \n",
    "    plt.setp( ax.xaxis.get_majorticklabels(), rotation=90, ha=\"left\" )\n",
    "\n",
    "    plt.tight_layout()\n",
    "    plt.show()\n",
    "\n",
    "    print(\"\\n\",'-------------------------------------------------------------------------------------------------')"
   ]
  },
  {
   "cell_type": "markdown",
   "id": "ab5a11ce",
   "metadata": {},
   "source": [
    "### gender\n",
    "In Gender Female & F,Femal and also Male & M are same we can replace those values"
   ]
  },
  {
   "cell_type": "code",
   "execution_count": 43,
   "id": "520b8755",
   "metadata": {},
   "outputs": [],
   "source": [
    "gender_dict = {\"F\" : 'Female', \"Femal\" : 'Female', \"M\" : 'Male', \"U\" : 'Unidentified'}\n",
    "customer_details.replace({\"gender\": gender_dict},inplace=True)"
   ]
  },
  {
   "cell_type": "markdown",
   "id": "fd4960ca",
   "metadata": {},
   "source": [
    "### state\n",
    "In states NSW & New South Wales and also VIC & Victoria are same we can replace those values"
   ]
  },
  {
   "cell_type": "code",
   "execution_count": 44,
   "id": "65064666",
   "metadata": {},
   "outputs": [],
   "source": [
    "state_dict = {\"NSW\" : 'New South Wales', \"VIC\" : 'Victoria', \"QLD\" : 'Queensland'}\n",
    "customer_details.replace({\"state\": state_dict},inplace=True)"
   ]
  },
  {
   "cell_type": "markdown",
   "id": "ef3a17ff",
   "metadata": {},
   "source": [
    "### owns_car\n",
    "Encode owns car to \"Yes\" : 1, \"No\" : 0"
   ]
  },
  {
   "cell_type": "code",
   "execution_count": 45,
   "id": "2a0fec85",
   "metadata": {},
   "outputs": [],
   "source": [
    "car_dict = {\"Yes\" : 1, \"No\" : 0}\n",
    "customer_details.replace({\"owns_car\": car_dict},inplace=True)"
   ]
  },
  {
   "cell_type": "markdown",
   "id": "9bc1cfb1",
   "metadata": {},
   "source": [
    "### deceased_indicator\n",
    "Delete customers who are deceased and delete the column"
   ]
  },
  {
   "cell_type": "code",
   "execution_count": 46,
   "id": "53047ca0",
   "metadata": {},
   "outputs": [],
   "source": [
    "customer_details = customer_details[customer_details['deceased_indicator'] != 'Y']"
   ]
  },
  {
   "cell_type": "markdown",
   "id": "3b0d477a",
   "metadata": {},
   "source": [
    "Now data points have customers who are alive we will delete this column\n",
    "#drop deceased_indicator column"
   ]
  },
  {
   "cell_type": "code",
   "execution_count": 47,
   "id": "264a162d",
   "metadata": {},
   "outputs": [],
   "source": [
    "customer_details.drop('deceased_indicator', axis=1, inplace=True)"
   ]
  },
  {
   "cell_type": "markdown",
   "id": "a61ab8c0",
   "metadata": {},
   "source": [
    "### <span style='color:green'>Create new columns</span>"
   ]
  },
  {
   "cell_type": "markdown",
   "id": "697b63a2",
   "metadata": {},
   "source": [
    "### age"
   ]
  },
  {
   "cell_type": "code",
   "execution_count": 48,
   "id": "1893ec45",
   "metadata": {},
   "outputs": [],
   "source": [
    "current_year = dt.datetime.now().year #get current year\n",
    "customer_details['year'] = pd.DatetimeIndex(customer_details['DOB']).year\n",
    "customer_details[\"age\"] = customer_details['year'].apply(lambda x: current_year-x)  # substract to get the year delta"
   ]
  },
  {
   "cell_type": "code",
   "execution_count": 49,
   "id": "8265e9f2",
   "metadata": {},
   "outputs": [],
   "source": [
    "# after calculating ade we can drop DOB and year columns\n",
    "customer_details.drop(['DOB','year'], axis = 1, inplace=True)"
   ]
  },
  {
   "cell_type": "markdown",
   "id": "0afeff53",
   "metadata": {},
   "source": [
    "### <span style='color:green'>Check for duplicates in columns</span>"
   ]
  },
  {
   "cell_type": "code",
   "execution_count": 50,
   "id": "122e4eee",
   "metadata": {},
   "outputs": [
    {
     "name": "stdout",
     "output_type": "stream",
     "text": [
      "('customer_id', True)\n",
      "('first_name', False)\n",
      "('last_name', False)\n",
      "('gender', False)\n",
      "('past_3_years_bike_related_purchases', False)\n",
      "('job_title', False)\n",
      "('job_industry_category', False)\n",
      "('wealth_segment', False)\n",
      "('owns_car', False)\n",
      "('tenure', False)\n",
      "('address', False)\n",
      "('postcode', False)\n",
      "('state', False)\n",
      "('country', False)\n",
      "('property_valuation', False)\n",
      "('age', False)\n"
     ]
    }
   ],
   "source": [
    "column_names = customer_details.columns\n",
    "\n",
    "for col in column_names:\n",
    "    print((col, customer_details[col].is_unique))"
   ]
  },
  {
   "cell_type": "markdown",
   "id": "1a2d6a42",
   "metadata": {},
   "source": [
    "As required customer_id has all unique values for this data set it might be a primary key"
   ]
  },
  {
   "cell_type": "markdown",
   "id": "bc5661bd",
   "metadata": {},
   "source": [
    "### <span style='color:green'>Change data type</span>"
   ]
  },
  {
   "cell_type": "code",
   "execution_count": 51,
   "id": "0bcccacc",
   "metadata": {},
   "outputs": [
    {
     "name": "stdout",
     "output_type": "stream",
     "text": [
      "<class 'pandas.core.frame.DataFrame'>\n",
      "Int64Index: 4001 entries, 0 to 4002\n",
      "Data columns (total 16 columns):\n",
      " #   Column                               Non-Null Count  Dtype  \n",
      "---  ------                               --------------  -----  \n",
      " 0   customer_id                          4001 non-null   object \n",
      " 1   first_name                           3998 non-null   object \n",
      " 2   last_name                            3873 non-null   object \n",
      " 3   gender                               3998 non-null   object \n",
      " 4   past_3_years_bike_related_purchases  3998 non-null   float64\n",
      " 5   job_title                            3492 non-null   object \n",
      " 6   job_industry_category                3342 non-null   object \n",
      " 7   wealth_segment                       3998 non-null   object \n",
      " 8   owns_car                             3998 non-null   float64\n",
      " 9   tenure                               3911 non-null   float64\n",
      " 10  address                              3997 non-null   object \n",
      " 11  postcode                             3997 non-null   object \n",
      " 12  state                                3997 non-null   object \n",
      " 13  country                              3997 non-null   object \n",
      " 14  property_valuation                   3997 non-null   float64\n",
      " 15  age                                  3911 non-null   float64\n",
      "dtypes: float64(5), object(11)\n",
      "memory usage: 531.4+ KB\n"
     ]
    }
   ],
   "source": [
    "customer_details.info()"
   ]
  },
  {
   "cell_type": "markdown",
   "id": "80ccb2c6",
   "metadata": {},
   "source": [
    "All column are in order"
   ]
  },
  {
   "cell_type": "markdown",
   "id": "43bfcfd8",
   "metadata": {},
   "source": [
    "### <span style='color:green'>Missing Value treatment</span>"
   ]
  },
  {
   "cell_type": "code",
   "execution_count": 52,
   "id": "3d466daa",
   "metadata": {},
   "outputs": [
    {
     "name": "stdout",
     "output_type": "stream",
     "text": [
      "\u001b[1m\u001b[94m\n",
      " Null values in the columns of dataset\u001b[0m\n"
     ]
    },
    {
     "data": {
      "text/plain": [
       "customer_id                              0\n",
       "first_name                               3\n",
       "last_name                              128\n",
       "gender                                   3\n",
       "past_3_years_bike_related_purchases      3\n",
       "job_title                              509\n",
       "job_industry_category                  659\n",
       "wealth_segment                           3\n",
       "owns_car                                 3\n",
       "tenure                                  90\n",
       "address                                  4\n",
       "postcode                                 4\n",
       "state                                    4\n",
       "country                                  4\n",
       "property_valuation                       4\n",
       "age                                     90\n",
       "dtype: int64"
      ]
     },
     "execution_count": 52,
     "metadata": {},
     "output_type": "execute_result"
    }
   ],
   "source": [
    "print(color.BOLD +color.BLUE +\"\\n\",\"Null values in the columns of dataset\"+ color.END)\n",
    "customer_details.isnull().sum()"
   ]
  },
  {
   "cell_type": "markdown",
   "id": "59f48d8f",
   "metadata": {},
   "source": [
    "### First name"
   ]
  },
  {
   "cell_type": "code",
   "execution_count": 53,
   "id": "c12620d4",
   "metadata": {},
   "outputs": [
    {
     "name": "stdout",
     "output_type": "stream",
     "text": [
      "\u001b[1mRows where first_name is blank \n",
      "\u001b[0m\n"
     ]
    },
    {
     "data": {
      "text/html": [
       "<div>\n",
       "<style scoped>\n",
       "    .dataframe tbody tr th:only-of-type {\n",
       "        vertical-align: middle;\n",
       "    }\n",
       "\n",
       "    .dataframe tbody tr th {\n",
       "        vertical-align: top;\n",
       "    }\n",
       "\n",
       "    .dataframe thead th {\n",
       "        text-align: right;\n",
       "    }\n",
       "</style>\n",
       "<table border=\"1\" class=\"dataframe\">\n",
       "  <thead>\n",
       "    <tr style=\"text-align: right;\">\n",
       "      <th></th>\n",
       "      <th>customer_id</th>\n",
       "      <th>first_name</th>\n",
       "      <th>last_name</th>\n",
       "      <th>gender</th>\n",
       "      <th>past_3_years_bike_related_purchases</th>\n",
       "      <th>job_title</th>\n",
       "      <th>job_industry_category</th>\n",
       "      <th>wealth_segment</th>\n",
       "      <th>owns_car</th>\n",
       "      <th>tenure</th>\n",
       "      <th>address</th>\n",
       "      <th>postcode</th>\n",
       "      <th>state</th>\n",
       "      <th>country</th>\n",
       "      <th>property_valuation</th>\n",
       "      <th>age</th>\n",
       "    </tr>\n",
       "  </thead>\n",
       "  <tbody>\n",
       "    <tr>\n",
       "      <th>4000</th>\n",
       "      <td>4001</td>\n",
       "      <td>NaN</td>\n",
       "      <td>NaN</td>\n",
       "      <td>NaN</td>\n",
       "      <td>NaN</td>\n",
       "      <td>NaN</td>\n",
       "      <td>NaN</td>\n",
       "      <td>NaN</td>\n",
       "      <td>NaN</td>\n",
       "      <td>NaN</td>\n",
       "      <td>87 Crescent Oaks Alley</td>\n",
       "      <td>2756.0</td>\n",
       "      <td>New South Wales</td>\n",
       "      <td>Australia</td>\n",
       "      <td>10.0</td>\n",
       "      <td>NaN</td>\n",
       "    </tr>\n",
       "    <tr>\n",
       "      <th>4001</th>\n",
       "      <td>4002</td>\n",
       "      <td>NaN</td>\n",
       "      <td>NaN</td>\n",
       "      <td>NaN</td>\n",
       "      <td>NaN</td>\n",
       "      <td>NaN</td>\n",
       "      <td>NaN</td>\n",
       "      <td>NaN</td>\n",
       "      <td>NaN</td>\n",
       "      <td>NaN</td>\n",
       "      <td>8194 Lien Street</td>\n",
       "      <td>4032.0</td>\n",
       "      <td>Queensland</td>\n",
       "      <td>Australia</td>\n",
       "      <td>7.0</td>\n",
       "      <td>NaN</td>\n",
       "    </tr>\n",
       "    <tr>\n",
       "      <th>4002</th>\n",
       "      <td>4003</td>\n",
       "      <td>NaN</td>\n",
       "      <td>NaN</td>\n",
       "      <td>NaN</td>\n",
       "      <td>NaN</td>\n",
       "      <td>NaN</td>\n",
       "      <td>NaN</td>\n",
       "      <td>NaN</td>\n",
       "      <td>NaN</td>\n",
       "      <td>NaN</td>\n",
       "      <td>320 Acker Drive</td>\n",
       "      <td>2251.0</td>\n",
       "      <td>New South Wales</td>\n",
       "      <td>Australia</td>\n",
       "      <td>7.0</td>\n",
       "      <td>NaN</td>\n",
       "    </tr>\n",
       "  </tbody>\n",
       "</table>\n",
       "</div>"
      ],
      "text/plain": [
       "     customer_id first_name last_name gender  \\\n",
       "4000        4001        NaN       NaN    NaN   \n",
       "4001        4002        NaN       NaN    NaN   \n",
       "4002        4003        NaN       NaN    NaN   \n",
       "\n",
       "      past_3_years_bike_related_purchases job_title job_industry_category  \\\n",
       "4000                                  NaN       NaN                   NaN   \n",
       "4001                                  NaN       NaN                   NaN   \n",
       "4002                                  NaN       NaN                   NaN   \n",
       "\n",
       "     wealth_segment  owns_car  tenure                 address postcode  \\\n",
       "4000            NaN       NaN     NaN  87 Crescent Oaks Alley   2756.0   \n",
       "4001            NaN       NaN     NaN        8194 Lien Street   4032.0   \n",
       "4002            NaN       NaN     NaN         320 Acker Drive   2251.0   \n",
       "\n",
       "                state    country  property_valuation  age  \n",
       "4000  New South Wales  Australia                10.0  NaN  \n",
       "4001       Queensland  Australia                 7.0  NaN  \n",
       "4002  New South Wales  Australia                 7.0  NaN  "
      ]
     },
     "execution_count": 53,
     "metadata": {},
     "output_type": "execute_result"
    }
   ],
   "source": [
    "print(color.BOLD +'Rows where first_name is blank',\"\\n\"+ color.END)\n",
    "customer_details[customer_details['first_name'].isna()]"
   ]
  },
  {
   "cell_type": "markdown",
   "id": "ed59e57b",
   "metadata": {},
   "source": [
    "we can delete these rows as there is no information given in most of the columns but before that we will check if there are any transactions in the transaction dataset"
   ]
  },
  {
   "cell_type": "code",
   "execution_count": 54,
   "id": "3cc1c604",
   "metadata": {},
   "outputs": [
    {
     "data": {
      "text/plain": [
       "0"
      ]
     },
     "execution_count": 54,
     "metadata": {},
     "output_type": "execute_result"
    }
   ],
   "source": [
    "transactions[transactions['customer_id'].isin([4001, 4002, 4003])].shape[0]"
   ]
  },
  {
   "cell_type": "markdown",
   "id": "d5fe37e8",
   "metadata": {},
   "source": [
    "So there are transactions relating to these customer ids, hence we will delete these rows"
   ]
  },
  {
   "cell_type": "code",
   "execution_count": 55,
   "id": "3904573d",
   "metadata": {},
   "outputs": [],
   "source": [
    "customer_details = customer_details[~customer_details['customer_id'].isin([4001, 4002, 4003])]"
   ]
  },
  {
   "cell_type": "markdown",
   "id": "ae76dd05",
   "metadata": {},
   "source": [
    "This addresses missing values from most of the columns"
   ]
  },
  {
   "cell_type": "markdown",
   "id": "3a675f49",
   "metadata": {},
   "source": [
    "### job_industry_category"
   ]
  },
  {
   "cell_type": "code",
   "execution_count": 56,
   "id": "8c28ec71",
   "metadata": {},
   "outputs": [],
   "source": [
    "customer_details['job_industry_category'] = customer_details.groupby(['gender','age','postcode'], sort=True)['job_industry_category'].fillna(customer_details['job_industry_category'].mode()[0])"
   ]
  },
  {
   "cell_type": "markdown",
   "id": "7b797642",
   "metadata": {},
   "source": [
    "replaced the missing values in the job_industry_category with group mode of 'gender','age','postcode'\n",
    "There are still some more values missing replace them with group by state and mode"
   ]
  },
  {
   "cell_type": "code",
   "execution_count": 57,
   "id": "ca2ce50f",
   "metadata": {},
   "outputs": [],
   "source": [
    "customer_details['job_industry_category'] = customer_details.groupby(['state'], sort=True)['job_industry_category'].fillna(customer_details['job_industry_category'].mode()[0])"
   ]
  },
  {
   "cell_type": "code",
   "execution_count": 58,
   "id": "c958eb3c",
   "metadata": {},
   "outputs": [],
   "source": [
    "customer_details['job_industry_category'] = customer_details['job_industry_category'].fillna(customer_details['job_industry_category'].mode()[0])"
   ]
  },
  {
   "cell_type": "markdown",
   "id": "d7030976",
   "metadata": {},
   "source": [
    "### job_title"
   ]
  },
  {
   "cell_type": "code",
   "execution_count": 59,
   "id": "ff981a5a",
   "metadata": {},
   "outputs": [],
   "source": [
    "customer_details['job_title'] = customer_details.groupby(['gender','age','job_industry_category','postcode'], sort=True)['job_title'].fillna(customer_details[\"job_title\"].mode()[0])"
   ]
  },
  {
   "cell_type": "markdown",
   "id": "9f1e692a",
   "metadata": {},
   "source": [
    "replaced the missing values in the job_title with group mode of 'gender','age','job_industry_category','postcode'"
   ]
  },
  {
   "cell_type": "code",
   "execution_count": 60,
   "id": "19035114",
   "metadata": {},
   "outputs": [],
   "source": [
    "customer_details['job_title'] = customer_details.groupby(['state','job_industry_category'], sort=True)['job_title'].fillna(customer_details[\"job_title\"].mode()[0])"
   ]
  },
  {
   "cell_type": "markdown",
   "id": "05c0d725",
   "metadata": {},
   "source": [
    "replaced the missing values in the job_title with group mode of 'state' & 'job_industry_category'"
   ]
  },
  {
   "cell_type": "code",
   "execution_count": 61,
   "id": "109399df",
   "metadata": {},
   "outputs": [],
   "source": [
    "customer_details['job_title'] = customer_details['job_title'].fillna(customer_details[\"job_title\"].mode()[0])"
   ]
  },
  {
   "cell_type": "markdown",
   "id": "6a035b36",
   "metadata": {},
   "source": [
    "replaced the missing values in the job_title with group mode "
   ]
  },
  {
   "cell_type": "markdown",
   "id": "8f3422c6",
   "metadata": {},
   "source": [
    "### deceased_indicator\n",
    "Though deceased_indicator has no missing values, it is difficult to say if the values are correct.<br>\n",
    "If we wish to retain such data, it has to be updated frequently."
   ]
  },
  {
   "cell_type": "markdown",
   "id": "4c886535",
   "metadata": {},
   "source": [
    "### Rows where address, postcode, state, country, property_valuation is blank"
   ]
  },
  {
   "cell_type": "code",
   "execution_count": 62,
   "id": "7d5c449c",
   "metadata": {},
   "outputs": [
    {
     "name": "stdout",
     "output_type": "stream",
     "text": [
      "\u001b[1mRows where address is blank \n",
      "\u001b[0m\n"
     ]
    },
    {
     "data": {
      "text/html": [
       "<div>\n",
       "<style scoped>\n",
       "    .dataframe tbody tr th:only-of-type {\n",
       "        vertical-align: middle;\n",
       "    }\n",
       "\n",
       "    .dataframe tbody tr th {\n",
       "        vertical-align: top;\n",
       "    }\n",
       "\n",
       "    .dataframe thead th {\n",
       "        text-align: right;\n",
       "    }\n",
       "</style>\n",
       "<table border=\"1\" class=\"dataframe\">\n",
       "  <thead>\n",
       "    <tr style=\"text-align: right;\">\n",
       "      <th></th>\n",
       "      <th>customer_id</th>\n",
       "      <th>first_name</th>\n",
       "      <th>last_name</th>\n",
       "      <th>gender</th>\n",
       "      <th>past_3_years_bike_related_purchases</th>\n",
       "      <th>job_title</th>\n",
       "      <th>job_industry_category</th>\n",
       "      <th>wealth_segment</th>\n",
       "      <th>owns_car</th>\n",
       "      <th>tenure</th>\n",
       "      <th>address</th>\n",
       "      <th>postcode</th>\n",
       "      <th>state</th>\n",
       "      <th>country</th>\n",
       "      <th>property_valuation</th>\n",
       "      <th>age</th>\n",
       "    </tr>\n",
       "  </thead>\n",
       "  <tbody>\n",
       "    <tr>\n",
       "      <th>2</th>\n",
       "      <td>3</td>\n",
       "      <td>Arlin</td>\n",
       "      <td>Dearle</td>\n",
       "      <td>Male</td>\n",
       "      <td>61.0</td>\n",
       "      <td>Business Systems Development Analyst</td>\n",
       "      <td>Manufacturing</td>\n",
       "      <td>Mass Customer</td>\n",
       "      <td>1.0</td>\n",
       "      <td>15.0</td>\n",
       "      <td>NaN</td>\n",
       "      <td>NaN</td>\n",
       "      <td>NaN</td>\n",
       "      <td>NaN</td>\n",
       "      <td>NaN</td>\n",
       "      <td>68.0</td>\n",
       "    </tr>\n",
       "    <tr>\n",
       "      <th>9</th>\n",
       "      <td>10</td>\n",
       "      <td>Fiorenze</td>\n",
       "      <td>Birdall</td>\n",
       "      <td>Female</td>\n",
       "      <td>49.0</td>\n",
       "      <td>Business Systems Development Analyst</td>\n",
       "      <td>Manufacturing</td>\n",
       "      <td>Mass Customer</td>\n",
       "      <td>1.0</td>\n",
       "      <td>20.0</td>\n",
       "      <td>NaN</td>\n",
       "      <td>NaN</td>\n",
       "      <td>NaN</td>\n",
       "      <td>NaN</td>\n",
       "      <td>NaN</td>\n",
       "      <td>34.0</td>\n",
       "    </tr>\n",
       "    <tr>\n",
       "      <th>21</th>\n",
       "      <td>22</td>\n",
       "      <td>Deeanne</td>\n",
       "      <td>Durtnell</td>\n",
       "      <td>Female</td>\n",
       "      <td>79.0</td>\n",
       "      <td>Business Systems Development Analyst</td>\n",
       "      <td>Manufacturing</td>\n",
       "      <td>Mass Customer</td>\n",
       "      <td>0.0</td>\n",
       "      <td>11.0</td>\n",
       "      <td>NaN</td>\n",
       "      <td>NaN</td>\n",
       "      <td>NaN</td>\n",
       "      <td>NaN</td>\n",
       "      <td>NaN</td>\n",
       "      <td>60.0</td>\n",
       "    </tr>\n",
       "    <tr>\n",
       "      <th>22</th>\n",
       "      <td>23</td>\n",
       "      <td>Olav</td>\n",
       "      <td>Polak</td>\n",
       "      <td>Male</td>\n",
       "      <td>43.0</td>\n",
       "      <td>Business Systems Development Analyst</td>\n",
       "      <td>Manufacturing</td>\n",
       "      <td>High Net Worth</td>\n",
       "      <td>1.0</td>\n",
       "      <td>1.0</td>\n",
       "      <td>NaN</td>\n",
       "      <td>NaN</td>\n",
       "      <td>NaN</td>\n",
       "      <td>NaN</td>\n",
       "      <td>NaN</td>\n",
       "      <td>27.0</td>\n",
       "    </tr>\n",
       "  </tbody>\n",
       "</table>\n",
       "</div>"
      ],
      "text/plain": [
       "   customer_id first_name last_name  gender  \\\n",
       "2            3      Arlin    Dearle    Male   \n",
       "9           10   Fiorenze   Birdall  Female   \n",
       "21          22    Deeanne  Durtnell  Female   \n",
       "22          23       Olav     Polak    Male   \n",
       "\n",
       "    past_3_years_bike_related_purchases                             job_title  \\\n",
       "2                                  61.0  Business Systems Development Analyst   \n",
       "9                                  49.0  Business Systems Development Analyst   \n",
       "21                                 79.0  Business Systems Development Analyst   \n",
       "22                                 43.0  Business Systems Development Analyst   \n",
       "\n",
       "   job_industry_category  wealth_segment  owns_car  tenure address postcode  \\\n",
       "2          Manufacturing   Mass Customer       1.0    15.0     NaN      NaN   \n",
       "9          Manufacturing   Mass Customer       1.0    20.0     NaN      NaN   \n",
       "21         Manufacturing   Mass Customer       0.0    11.0     NaN      NaN   \n",
       "22         Manufacturing  High Net Worth       1.0     1.0     NaN      NaN   \n",
       "\n",
       "   state country  property_valuation   age  \n",
       "2    NaN     NaN                 NaN  68.0  \n",
       "9    NaN     NaN                 NaN  34.0  \n",
       "21   NaN     NaN                 NaN  60.0  \n",
       "22   NaN     NaN                 NaN  27.0  "
      ]
     },
     "execution_count": 62,
     "metadata": {},
     "output_type": "execute_result"
    }
   ],
   "source": [
    "print(color.BOLD +'Rows where address is blank',\"\\n\"+ color.END)\n",
    "customer_details[customer_details['address'].isna()]"
   ]
  },
  {
   "cell_type": "markdown",
   "id": "2d3d4ab1",
   "metadata": {},
   "source": [
    "These are the rows where address, postcode, state, country, property_valuation are all blank.<br>\n",
    "Lets check if there is any information on transaction."
   ]
  },
  {
   "cell_type": "code",
   "execution_count": 63,
   "id": "15974b62",
   "metadata": {},
   "outputs": [
    {
     "data": {
      "text/plain": [
       "26"
      ]
     },
     "execution_count": 63,
     "metadata": {},
     "output_type": "execute_result"
    }
   ],
   "source": [
    "transactions[transactions['customer_id'].isin([3, 10, 22, 23])].shape[0]"
   ]
  },
  {
   "cell_type": "markdown",
   "id": "9f285deb",
   "metadata": {},
   "source": [
    "There are 26 transactions with these customer_id, we will not delete these rows.<br>"
   ]
  },
  {
   "cell_type": "markdown",
   "id": "f2564fed",
   "metadata": {},
   "source": [
    "replace missing in country with Australia"
   ]
  },
  {
   "cell_type": "code",
   "execution_count": 64,
   "id": "a6f8d457",
   "metadata": {},
   "outputs": [],
   "source": [
    "customer_details['country'] = customer_details['country'].fillna('Australia')"
   ]
  },
  {
   "cell_type": "markdown",
   "id": "013220bd",
   "metadata": {},
   "source": [
    "we will replace missing values in state, postcode and property_valuation with the mode for state, mode for postcode after group by on state and mean for property evaluation after group by on state"
   ]
  },
  {
   "cell_type": "code",
   "execution_count": 65,
   "id": "b232c3bf",
   "metadata": {},
   "outputs": [],
   "source": [
    "customer_details['state'] = customer_details['state'].fillna(customer_details['state'].mode()[0])"
   ]
  },
  {
   "cell_type": "code",
   "execution_count": 66,
   "id": "3f98ef59",
   "metadata": {},
   "outputs": [],
   "source": [
    "customer_details['postcode'] = customer_details.groupby(['state'])['postcode'].fillna(customer_details['postcode'].mode()[0])"
   ]
  },
  {
   "cell_type": "code",
   "execution_count": 67,
   "id": "b354e508",
   "metadata": {},
   "outputs": [],
   "source": [
    "customer_details['property_valuation'] = customer_details.groupby(['state'])['property_valuation'].fillna(customer_details['property_valuation'].mean()).round(0)"
   ]
  },
  {
   "cell_type": "code",
   "execution_count": 68,
   "id": "03cc84e1",
   "metadata": {},
   "outputs": [],
   "source": [
    "#customer_details.loc[customer_details['customer_id'].isin([3, 10, 22, 23])]"
   ]
  },
  {
   "cell_type": "markdown",
   "id": "f9f1e976",
   "metadata": {},
   "source": [
    "### customer_id "
   ]
  },
  {
   "cell_type": "code",
   "execution_count": 69,
   "id": "27ebc54f",
   "metadata": {},
   "outputs": [
    {
     "name": "stdout",
     "output_type": "stream",
     "text": [
      "\u001b[1mMin value in customer_id is 1 \n",
      "\u001b[0m\n",
      "\u001b[1mMax value in customer_id is 4000 \n",
      "\u001b[0m\n",
      "\u001b[1mTotal numer entries is 3999 \n",
      "\u001b[0m\n"
     ]
    }
   ],
   "source": [
    "print(color.BOLD + \"Min value in customer_id is {}\".format(customer_details['customer_id'].min()),\"\\n\"+ color.END)\n",
    "print(color.BOLD + \"Max value in customer_id is {}\".format(customer_details['customer_id'].max()),\"\\n\"+ color.END)\n",
    "print(color.BOLD + \"Total numer entries is {}\".format(customer_details['customer_id'].max() - customer_details['customer_id'].min()),\"\\n\"+ color.END)"
   ]
  },
  {
   "cell_type": "code",
   "execution_count": 70,
   "id": "68d070f5",
   "metadata": {
    "scrolled": true
   },
   "outputs": [
    {
     "name": "stdout",
     "output_type": "stream",
     "text": [
      "All customer_id are not order in from 1 to 4000\n"
     ]
    }
   ],
   "source": [
    "#check if the customer_id are all in order from 1 to 4000\n",
    "list_1 = customer_details['customer_id'].to_list()\n",
    "list_2 = list(range(1,4001))\n",
    "if list_1==list_2: \n",
    "    print (\"All customer_id are in order from 1 to 4000\") \n",
    "else: \n",
    "    print (\"All customer_id are not order in from 1 to 4000\") "
   ]
  },
  {
   "cell_type": "code",
   "execution_count": 71,
   "id": "3acb3aab",
   "metadata": {},
   "outputs": [
    {
     "name": "stdout",
     "output_type": "stream",
     "text": [
      "No, all customer_id from transactions are not in customer demographic\n"
     ]
    }
   ],
   "source": [
    "#check if all customer_id from customer demographic are in transactions\n",
    "list_1 = customer_details['customer_id'].tolist()\n",
    "list_2 = transactions['customer_id'].tolist()\n",
    "result =  all(elem in list_2 for elem in list_1)\n",
    "if result:\n",
    "    print(\"Yes, all customer_id from transactions are in customer demographic\")    \n",
    "else :\n",
    "    print(\"No, all customer_id from transactions are not in customer demographic\")"
   ]
  },
  {
   "cell_type": "markdown",
   "id": "74745921",
   "metadata": {},
   "source": [
    "###  'first_name','last_name','address','postcode','country'"
   ]
  },
  {
   "cell_type": "markdown",
   "id": "11c3c5ba",
   "metadata": {},
   "source": [
    "columns such as 'first_name','last_name','address','postcode','country' are not relevant for model building\n",
    "we will drop these columns"
   ]
  },
  {
   "cell_type": "code",
   "execution_count": 72,
   "id": "967bfc35",
   "metadata": {},
   "outputs": [],
   "source": [
    "customer_details.drop(['first_name','last_name','address'], axis = 1, inplace=True)"
   ]
  },
  {
   "cell_type": "code",
   "execution_count": 73,
   "id": "7193a2a1",
   "metadata": {},
   "outputs": [
    {
     "name": "stdout",
     "output_type": "stream",
     "text": [
      "\u001b[1m\u001b[94m\n",
      " Null values in the columns of dataset\u001b[0m\n"
     ]
    },
    {
     "data": {
      "text/plain": [
       "customer_id                             0\n",
       "gender                                  0\n",
       "past_3_years_bike_related_purchases     0\n",
       "job_title                               0\n",
       "job_industry_category                   0\n",
       "wealth_segment                          0\n",
       "owns_car                                0\n",
       "tenure                                 87\n",
       "postcode                                0\n",
       "state                                   0\n",
       "country                                 0\n",
       "property_valuation                      0\n",
       "age                                    87\n",
       "dtype: int64"
      ]
     },
     "execution_count": 73,
     "metadata": {},
     "output_type": "execute_result"
    }
   ],
   "source": [
    "print(color.BOLD +color.BLUE +\"\\n\",\"Null values in the columns of dataset\"+ color.END)\n",
    "customer_details.isnull().sum()"
   ]
  },
  {
   "cell_type": "markdown",
   "id": "ef8cd66b",
   "metadata": {},
   "source": [
    "### delete remaining with null values"
   ]
  },
  {
   "cell_type": "markdown",
   "id": "babe047c",
   "metadata": {},
   "source": [
    "There are still some rows where we have missing values for now we will delete rows where data is missing"
   ]
  },
  {
   "cell_type": "code",
   "execution_count": 74,
   "id": "564a5661",
   "metadata": {},
   "outputs": [],
   "source": [
    "customer_details.dropna(subset = [\"age\"], inplace=True)"
   ]
  },
  {
   "cell_type": "code",
   "execution_count": 75,
   "id": "75d87fc8",
   "metadata": {},
   "outputs": [
    {
     "name": "stdout",
     "output_type": "stream",
     "text": [
      "<class 'pandas.core.frame.DataFrame'>\n",
      "Int64Index: 3911 entries, 0 to 3999\n",
      "Data columns (total 13 columns):\n",
      " #   Column                               Non-Null Count  Dtype  \n",
      "---  ------                               --------------  -----  \n",
      " 0   customer_id                          3911 non-null   object \n",
      " 1   gender                               3911 non-null   object \n",
      " 2   past_3_years_bike_related_purchases  3911 non-null   float64\n",
      " 3   job_title                            3911 non-null   object \n",
      " 4   job_industry_category                3911 non-null   object \n",
      " 5   wealth_segment                       3911 non-null   object \n",
      " 6   owns_car                             3911 non-null   float64\n",
      " 7   tenure                               3911 non-null   float64\n",
      " 8   postcode                             3911 non-null   float64\n",
      " 9   state                                3911 non-null   object \n",
      " 10  country                              3911 non-null   object \n",
      " 11  property_valuation                   3911 non-null   float64\n",
      " 12  age                                  3911 non-null   float64\n",
      "dtypes: float64(6), object(7)\n",
      "memory usage: 427.8+ KB\n"
     ]
    }
   ],
   "source": [
    "customer_details.info()"
   ]
  },
  {
   "cell_type": "code",
   "execution_count": 76,
   "id": "b9606e4f",
   "metadata": {},
   "outputs": [
    {
     "name": "stdout",
     "output_type": "stream",
     "text": [
      "\u001b[1mNow we have 3911 rows and 12 columns in the dataset. \n",
      "\u001b[0m\n"
     ]
    }
   ],
   "source": [
    "print(color.BOLD + \"Now we have {} rows and {} columns in the dataset.\".format(customer_details.shape[0],transactions.shape[1]),\"\\n\"+ color.END)"
   ]
  },
  {
   "cell_type": "code",
   "execution_count": 77,
   "id": "ce5850b8",
   "metadata": {},
   "outputs": [
    {
     "data": {
      "text/html": [
       "<div>\n",
       "<style scoped>\n",
       "    .dataframe tbody tr th:only-of-type {\n",
       "        vertical-align: middle;\n",
       "    }\n",
       "\n",
       "    .dataframe tbody tr th {\n",
       "        vertical-align: top;\n",
       "    }\n",
       "\n",
       "    .dataframe thead th {\n",
       "        text-align: right;\n",
       "    }\n",
       "</style>\n",
       "<table border=\"1\" class=\"dataframe\">\n",
       "  <thead>\n",
       "    <tr style=\"text-align: right;\">\n",
       "      <th></th>\n",
       "      <th>customer_id</th>\n",
       "      <th>gender</th>\n",
       "      <th>past_3_years_bike_related_purchases</th>\n",
       "      <th>job_title</th>\n",
       "      <th>job_industry_category</th>\n",
       "      <th>wealth_segment</th>\n",
       "      <th>owns_car</th>\n",
       "      <th>tenure</th>\n",
       "      <th>postcode</th>\n",
       "      <th>state</th>\n",
       "      <th>country</th>\n",
       "      <th>property_valuation</th>\n",
       "      <th>age</th>\n",
       "    </tr>\n",
       "  </thead>\n",
       "  <tbody>\n",
       "    <tr>\n",
       "      <th>33</th>\n",
       "      <td>34</td>\n",
       "      <td>Unidentified</td>\n",
       "      <td>59.0</td>\n",
       "      <td>Legal Assistant</td>\n",
       "      <td>IT</td>\n",
       "      <td>Affluent Customer</td>\n",
       "      <td>0.0</td>\n",
       "      <td>20.0</td>\n",
       "      <td>4005.0</td>\n",
       "      <td>Queensland</td>\n",
       "      <td>Australia</td>\n",
       "      <td>8.0</td>\n",
       "      <td>79.0</td>\n",
       "    </tr>\n",
       "  </tbody>\n",
       "</table>\n",
       "</div>"
      ],
      "text/plain": [
       "   customer_id        gender  past_3_years_bike_related_purchases  \\\n",
       "33          34  Unidentified                                 59.0   \n",
       "\n",
       "          job_title job_industry_category     wealth_segment  owns_car  \\\n",
       "33  Legal Assistant                    IT  Affluent Customer       0.0   \n",
       "\n",
       "    tenure  postcode       state    country  property_valuation   age  \n",
       "33    20.0    4005.0  Queensland  Australia                 8.0  79.0  "
      ]
     },
     "execution_count": 77,
     "metadata": {},
     "output_type": "execute_result"
    }
   ],
   "source": [
    "customer_details[customer_details['gender']=='Unidentified']"
   ]
  },
  {
   "cell_type": "markdown",
   "id": "831cfdd8",
   "metadata": {},
   "source": [
    "## <span style='color:Blue'> Join customer data and transaction datasets  </span>\n"
   ]
  },
  {
   "cell_type": "code",
   "execution_count": 78,
   "id": "a46097c1",
   "metadata": {},
   "outputs": [],
   "source": [
    "all_transactions = pd.merge(transactions, customer_details, \n",
    "                            how=\"outer\", left_on='customer_id', \n",
    "                            right_on='customer_id')\n",
    "#cust_demo_addr.to_csv(\"cust_demo_addr.csv\")"
   ]
  },
  {
   "cell_type": "markdown",
   "id": "765d9534",
   "metadata": {},
   "source": [
    "### <span style='color:green'>Missing Value treatment</span>"
   ]
  },
  {
   "cell_type": "code",
   "execution_count": 79,
   "id": "229d4c53",
   "metadata": {},
   "outputs": [
    {
     "name": "stdout",
     "output_type": "stream",
     "text": [
      "\u001b[1m\u001b[94m\n",
      " Null values in the columns of dataset\u001b[0m\n"
     ]
    },
    {
     "data": {
      "text/plain": [
       "transaction_id                         496\n",
       "product_id                             496\n",
       "customer_id                              0\n",
       "transaction_date                       496\n",
       "online_order                           496\n",
       "brand                                  496\n",
       "product_line                           496\n",
       "product_class                          496\n",
       "product_size                           496\n",
       "list_price                             496\n",
       "standard_cost                          496\n",
       "product_first_sold_date                496\n",
       "gender                                 444\n",
       "past_3_years_bike_related_purchases    444\n",
       "job_title                              444\n",
       "job_industry_category                  444\n",
       "wealth_segment                         444\n",
       "owns_car                               444\n",
       "tenure                                 444\n",
       "postcode                               444\n",
       "state                                  444\n",
       "country                                444\n",
       "property_valuation                     444\n",
       "age                                    444\n",
       "dtype: int64"
      ]
     },
     "execution_count": 79,
     "metadata": {},
     "output_type": "execute_result"
    }
   ],
   "source": [
    "print(color.BOLD +color.BLUE +\"\\n\",\"Null values in the columns of dataset\"+ color.END)\n",
    "all_transactions.isnull().sum()"
   ]
  },
  {
   "cell_type": "code",
   "execution_count": 80,
   "id": "95cb8dca",
   "metadata": {},
   "outputs": [
    {
     "data": {
      "text/html": [
       "<div>\n",
       "<style scoped>\n",
       "    .dataframe tbody tr th:only-of-type {\n",
       "        vertical-align: middle;\n",
       "    }\n",
       "\n",
       "    .dataframe tbody tr th {\n",
       "        vertical-align: top;\n",
       "    }\n",
       "\n",
       "    .dataframe thead th {\n",
       "        text-align: right;\n",
       "    }\n",
       "</style>\n",
       "<table border=\"1\" class=\"dataframe\">\n",
       "  <thead>\n",
       "    <tr style=\"text-align: right;\">\n",
       "      <th></th>\n",
       "      <th>transaction_id</th>\n",
       "      <th>product_id</th>\n",
       "      <th>customer_id</th>\n",
       "      <th>transaction_date</th>\n",
       "      <th>online_order</th>\n",
       "      <th>brand</th>\n",
       "      <th>product_line</th>\n",
       "      <th>product_class</th>\n",
       "      <th>product_size</th>\n",
       "      <th>list_price</th>\n",
       "      <th>...</th>\n",
       "      <th>job_title</th>\n",
       "      <th>job_industry_category</th>\n",
       "      <th>wealth_segment</th>\n",
       "      <th>owns_car</th>\n",
       "      <th>tenure</th>\n",
       "      <th>postcode</th>\n",
       "      <th>state</th>\n",
       "      <th>country</th>\n",
       "      <th>property_valuation</th>\n",
       "      <th>age</th>\n",
       "    </tr>\n",
       "  </thead>\n",
       "  <tbody>\n",
       "    <tr>\n",
       "      <th>19622</th>\n",
       "      <td>NaN</td>\n",
       "      <td>NaN</td>\n",
       "      <td>287</td>\n",
       "      <td>NaT</td>\n",
       "      <td>NaN</td>\n",
       "      <td>NaN</td>\n",
       "      <td>NaN</td>\n",
       "      <td>NaN</td>\n",
       "      <td>NaN</td>\n",
       "      <td>NaN</td>\n",
       "      <td>...</td>\n",
       "      <td>Nuclear Power Engineer</td>\n",
       "      <td>Manufacturing</td>\n",
       "      <td>Affluent Customer</td>\n",
       "      <td>0.0</td>\n",
       "      <td>4.0</td>\n",
       "      <td>2765.0</td>\n",
       "      <td>New South Wales</td>\n",
       "      <td>Australia</td>\n",
       "      <td>8.0</td>\n",
       "      <td>37.0</td>\n",
       "    </tr>\n",
       "    <tr>\n",
       "      <th>19623</th>\n",
       "      <td>NaN</td>\n",
       "      <td>NaN</td>\n",
       "      <td>852</td>\n",
       "      <td>NaT</td>\n",
       "      <td>NaN</td>\n",
       "      <td>NaN</td>\n",
       "      <td>NaN</td>\n",
       "      <td>NaN</td>\n",
       "      <td>NaN</td>\n",
       "      <td>NaN</td>\n",
       "      <td>...</td>\n",
       "      <td>Compensation Analyst</td>\n",
       "      <td>Financial Services</td>\n",
       "      <td>Affluent Customer</td>\n",
       "      <td>1.0</td>\n",
       "      <td>2.0</td>\n",
       "      <td>2336.0</td>\n",
       "      <td>New South Wales</td>\n",
       "      <td>Australia</td>\n",
       "      <td>7.0</td>\n",
       "      <td>22.0</td>\n",
       "    </tr>\n",
       "    <tr>\n",
       "      <th>19624</th>\n",
       "      <td>NaN</td>\n",
       "      <td>NaN</td>\n",
       "      <td>869</td>\n",
       "      <td>NaT</td>\n",
       "      <td>NaN</td>\n",
       "      <td>NaN</td>\n",
       "      <td>NaN</td>\n",
       "      <td>NaN</td>\n",
       "      <td>NaN</td>\n",
       "      <td>NaN</td>\n",
       "      <td>...</td>\n",
       "      <td>Account Representative I</td>\n",
       "      <td>Financial Services</td>\n",
       "      <td>High Net Worth</td>\n",
       "      <td>1.0</td>\n",
       "      <td>10.0</td>\n",
       "      <td>2065.0</td>\n",
       "      <td>New South Wales</td>\n",
       "      <td>Australia</td>\n",
       "      <td>10.0</td>\n",
       "      <td>38.0</td>\n",
       "    </tr>\n",
       "    <tr>\n",
       "      <th>19625</th>\n",
       "      <td>NaN</td>\n",
       "      <td>NaN</td>\n",
       "      <td>1373</td>\n",
       "      <td>NaT</td>\n",
       "      <td>NaN</td>\n",
       "      <td>NaN</td>\n",
       "      <td>NaN</td>\n",
       "      <td>NaN</td>\n",
       "      <td>NaN</td>\n",
       "      <td>NaN</td>\n",
       "      <td>...</td>\n",
       "      <td>Director of Sales</td>\n",
       "      <td>Financial Services</td>\n",
       "      <td>Mass Customer</td>\n",
       "      <td>1.0</td>\n",
       "      <td>12.0</td>\n",
       "      <td>3198.0</td>\n",
       "      <td>Victoria</td>\n",
       "      <td>Australia</td>\n",
       "      <td>8.0</td>\n",
       "      <td>64.0</td>\n",
       "    </tr>\n",
       "    <tr>\n",
       "      <th>19626</th>\n",
       "      <td>NaN</td>\n",
       "      <td>NaN</td>\n",
       "      <td>2074</td>\n",
       "      <td>NaT</td>\n",
       "      <td>NaN</td>\n",
       "      <td>NaN</td>\n",
       "      <td>NaN</td>\n",
       "      <td>NaN</td>\n",
       "      <td>NaN</td>\n",
       "      <td>NaN</td>\n",
       "      <td>...</td>\n",
       "      <td>Business Systems Development Analyst</td>\n",
       "      <td>Financial Services</td>\n",
       "      <td>Mass Customer</td>\n",
       "      <td>0.0</td>\n",
       "      <td>4.0</td>\n",
       "      <td>2281.0</td>\n",
       "      <td>New South Wales</td>\n",
       "      <td>Australia</td>\n",
       "      <td>7.0</td>\n",
       "      <td>25.0</td>\n",
       "    </tr>\n",
       "    <tr>\n",
       "      <th>...</th>\n",
       "      <td>...</td>\n",
       "      <td>...</td>\n",
       "      <td>...</td>\n",
       "      <td>...</td>\n",
       "      <td>...</td>\n",
       "      <td>...</td>\n",
       "      <td>...</td>\n",
       "      <td>...</td>\n",
       "      <td>...</td>\n",
       "      <td>...</td>\n",
       "      <td>...</td>\n",
       "      <td>...</td>\n",
       "      <td>...</td>\n",
       "      <td>...</td>\n",
       "      <td>...</td>\n",
       "      <td>...</td>\n",
       "      <td>...</td>\n",
       "      <td>...</td>\n",
       "      <td>...</td>\n",
       "      <td>...</td>\n",
       "      <td>...</td>\n",
       "    </tr>\n",
       "    <tr>\n",
       "      <th>20113</th>\n",
       "      <td>NaN</td>\n",
       "      <td>NaN</td>\n",
       "      <td>3995</td>\n",
       "      <td>NaT</td>\n",
       "      <td>NaN</td>\n",
       "      <td>NaN</td>\n",
       "      <td>NaN</td>\n",
       "      <td>NaN</td>\n",
       "      <td>NaN</td>\n",
       "      <td>NaN</td>\n",
       "      <td>...</td>\n",
       "      <td>Staff Scientist</td>\n",
       "      <td>Manufacturing</td>\n",
       "      <td>Mass Customer</td>\n",
       "      <td>1.0</td>\n",
       "      <td>14.0</td>\n",
       "      <td>2088.0</td>\n",
       "      <td>New South Wales</td>\n",
       "      <td>Australia</td>\n",
       "      <td>12.0</td>\n",
       "      <td>47.0</td>\n",
       "    </tr>\n",
       "    <tr>\n",
       "      <th>20114</th>\n",
       "      <td>NaN</td>\n",
       "      <td>NaN</td>\n",
       "      <td>3996</td>\n",
       "      <td>NaT</td>\n",
       "      <td>NaN</td>\n",
       "      <td>NaN</td>\n",
       "      <td>NaN</td>\n",
       "      <td>NaN</td>\n",
       "      <td>NaN</td>\n",
       "      <td>NaN</td>\n",
       "      <td>...</td>\n",
       "      <td>VP Product Management</td>\n",
       "      <td>Health</td>\n",
       "      <td>Mass Customer</td>\n",
       "      <td>0.0</td>\n",
       "      <td>19.0</td>\n",
       "      <td>3977.0</td>\n",
       "      <td>Victoria</td>\n",
       "      <td>Australia</td>\n",
       "      <td>6.0</td>\n",
       "      <td>47.0</td>\n",
       "    </tr>\n",
       "    <tr>\n",
       "      <th>20115</th>\n",
       "      <td>NaN</td>\n",
       "      <td>NaN</td>\n",
       "      <td>3997</td>\n",
       "      <td>NaT</td>\n",
       "      <td>NaN</td>\n",
       "      <td>NaN</td>\n",
       "      <td>NaN</td>\n",
       "      <td>NaN</td>\n",
       "      <td>NaN</td>\n",
       "      <td>NaN</td>\n",
       "      <td>...</td>\n",
       "      <td>Statistician II</td>\n",
       "      <td>Manufacturing</td>\n",
       "      <td>High Net Worth</td>\n",
       "      <td>1.0</td>\n",
       "      <td>1.0</td>\n",
       "      <td>2350.0</td>\n",
       "      <td>New South Wales</td>\n",
       "      <td>Australia</td>\n",
       "      <td>2.0</td>\n",
       "      <td>21.0</td>\n",
       "    </tr>\n",
       "    <tr>\n",
       "      <th>20116</th>\n",
       "      <td>NaN</td>\n",
       "      <td>NaN</td>\n",
       "      <td>3999</td>\n",
       "      <td>NaT</td>\n",
       "      <td>NaN</td>\n",
       "      <td>NaN</td>\n",
       "      <td>NaN</td>\n",
       "      <td>NaN</td>\n",
       "      <td>NaN</td>\n",
       "      <td>NaN</td>\n",
       "      <td>...</td>\n",
       "      <td>Business Systems Development Analyst</td>\n",
       "      <td>Manufacturing</td>\n",
       "      <td>Affluent Customer</td>\n",
       "      <td>1.0</td>\n",
       "      <td>10.0</td>\n",
       "      <td>3064.0</td>\n",
       "      <td>Victoria</td>\n",
       "      <td>Australia</td>\n",
       "      <td>3.0</td>\n",
       "      <td>49.0</td>\n",
       "    </tr>\n",
       "    <tr>\n",
       "      <th>20117</th>\n",
       "      <td>NaN</td>\n",
       "      <td>NaN</td>\n",
       "      <td>4000</td>\n",
       "      <td>NaT</td>\n",
       "      <td>NaN</td>\n",
       "      <td>NaN</td>\n",
       "      <td>NaN</td>\n",
       "      <td>NaN</td>\n",
       "      <td>NaN</td>\n",
       "      <td>NaN</td>\n",
       "      <td>...</td>\n",
       "      <td>Software Engineer IV</td>\n",
       "      <td>Manufacturing</td>\n",
       "      <td>Affluent Customer</td>\n",
       "      <td>0.0</td>\n",
       "      <td>11.0</td>\n",
       "      <td>4511.0</td>\n",
       "      <td>Queensland</td>\n",
       "      <td>Australia</td>\n",
       "      <td>6.0</td>\n",
       "      <td>31.0</td>\n",
       "    </tr>\n",
       "  </tbody>\n",
       "</table>\n",
       "<p>496 rows × 24 columns</p>\n",
       "</div>"
      ],
      "text/plain": [
       "      transaction_id product_id customer_id transaction_date online_order  \\\n",
       "19622            NaN        NaN         287              NaT          NaN   \n",
       "19623            NaN        NaN         852              NaT          NaN   \n",
       "19624            NaN        NaN         869              NaT          NaN   \n",
       "19625            NaN        NaN        1373              NaT          NaN   \n",
       "19626            NaN        NaN        2074              NaT          NaN   \n",
       "...              ...        ...         ...              ...          ...   \n",
       "20113            NaN        NaN        3995              NaT          NaN   \n",
       "20114            NaN        NaN        3996              NaT          NaN   \n",
       "20115            NaN        NaN        3997              NaT          NaN   \n",
       "20116            NaN        NaN        3999              NaT          NaN   \n",
       "20117            NaN        NaN        4000              NaT          NaN   \n",
       "\n",
       "      brand product_line product_class product_size  list_price  ...  \\\n",
       "19622   NaN          NaN           NaN          NaN         NaN  ...   \n",
       "19623   NaN          NaN           NaN          NaN         NaN  ...   \n",
       "19624   NaN          NaN           NaN          NaN         NaN  ...   \n",
       "19625   NaN          NaN           NaN          NaN         NaN  ...   \n",
       "19626   NaN          NaN           NaN          NaN         NaN  ...   \n",
       "...     ...          ...           ...          ...         ...  ...   \n",
       "20113   NaN          NaN           NaN          NaN         NaN  ...   \n",
       "20114   NaN          NaN           NaN          NaN         NaN  ...   \n",
       "20115   NaN          NaN           NaN          NaN         NaN  ...   \n",
       "20116   NaN          NaN           NaN          NaN         NaN  ...   \n",
       "20117   NaN          NaN           NaN          NaN         NaN  ...   \n",
       "\n",
       "                                  job_title job_industry_category  \\\n",
       "19622                Nuclear Power Engineer         Manufacturing   \n",
       "19623                  Compensation Analyst    Financial Services   \n",
       "19624              Account Representative I    Financial Services   \n",
       "19625                     Director of Sales    Financial Services   \n",
       "19626  Business Systems Development Analyst    Financial Services   \n",
       "...                                     ...                   ...   \n",
       "20113                       Staff Scientist         Manufacturing   \n",
       "20114                 VP Product Management                Health   \n",
       "20115                       Statistician II         Manufacturing   \n",
       "20116  Business Systems Development Analyst         Manufacturing   \n",
       "20117                  Software Engineer IV         Manufacturing   \n",
       "\n",
       "          wealth_segment  owns_car tenure postcode            state  \\\n",
       "19622  Affluent Customer       0.0    4.0   2765.0  New South Wales   \n",
       "19623  Affluent Customer       1.0    2.0   2336.0  New South Wales   \n",
       "19624     High Net Worth       1.0   10.0   2065.0  New South Wales   \n",
       "19625      Mass Customer       1.0   12.0   3198.0         Victoria   \n",
       "19626      Mass Customer       0.0    4.0   2281.0  New South Wales   \n",
       "...                  ...       ...    ...      ...              ...   \n",
       "20113      Mass Customer       1.0   14.0   2088.0  New South Wales   \n",
       "20114      Mass Customer       0.0   19.0   3977.0         Victoria   \n",
       "20115     High Net Worth       1.0    1.0   2350.0  New South Wales   \n",
       "20116  Affluent Customer       1.0   10.0   3064.0         Victoria   \n",
       "20117  Affluent Customer       0.0   11.0   4511.0       Queensland   \n",
       "\n",
       "         country  property_valuation   age  \n",
       "19622  Australia                 8.0  37.0  \n",
       "19623  Australia                 7.0  22.0  \n",
       "19624  Australia                10.0  38.0  \n",
       "19625  Australia                 8.0  64.0  \n",
       "19626  Australia                 7.0  25.0  \n",
       "...          ...                 ...   ...  \n",
       "20113  Australia                12.0  47.0  \n",
       "20114  Australia                 6.0  47.0  \n",
       "20115  Australia                 2.0  21.0  \n",
       "20116  Australia                 3.0  49.0  \n",
       "20117  Australia                 6.0  31.0  \n",
       "\n",
       "[496 rows x 24 columns]"
      ]
     },
     "execution_count": 80,
     "metadata": {},
     "output_type": "execute_result"
    }
   ],
   "source": [
    "all_transactions[all_transactions['transaction_id'].isnull()]"
   ]
  },
  {
   "cell_type": "markdown",
   "id": "c9996415",
   "metadata": {},
   "source": [
    "### delete rows without transaction"
   ]
  },
  {
   "cell_type": "code",
   "execution_count": 81,
   "id": "bb033850",
   "metadata": {},
   "outputs": [],
   "source": [
    "all_transactions.dropna(subset=['transaction_id'], inplace=True)"
   ]
  },
  {
   "cell_type": "code",
   "execution_count": 82,
   "id": "4f099b3d",
   "metadata": {
    "scrolled": false
   },
   "outputs": [
    {
     "name": "stdout",
     "output_type": "stream",
     "text": [
      "\u001b[1mcustomer_id where gender is blank \n",
      "\u001b[0m\n"
     ]
    },
    {
     "data": {
      "text/plain": [
       "array([892, 513, 1351, 2335, 3365, 2069, 2647, 1583, 2963, 1509, 548,\n",
       "       1210, 799, 3255, 1806, 2999, 1044, 983, 267, 996, 3343, 1477, 3322,\n",
       "       451, 3312, 883, 1773, 3298, 3222, 950, 3151, 1780, 168, 2252, 3223,\n",
       "       975, 2696, 3012, 2165, 2697, 839, 1990, 453, 1938, 144, 3288, 2642,\n",
       "       454, 2414, 2426, 1082, 1683, 2021, 2540, 582, 2469, 2341, 1244,\n",
       "       2920, 3086, 1740, 480, 680, 526, 2205, 599, 3473, 290, 1918, 753,\n",
       "       685, 2295, 2854, 1174, 2000, 1038, 1628], dtype=object)"
      ]
     },
     "execution_count": 82,
     "metadata": {},
     "output_type": "execute_result"
    }
   ],
   "source": [
    "print(color.BOLD +'customer_id where gender is blank',\"\\n\"+ color.END)\n",
    "all_transactions[all_transactions['gender'].isna()]['customer_id'].unique()"
   ]
  },
  {
   "cell_type": "code",
   "execution_count": 83,
   "id": "2f7d8c8a",
   "metadata": {
    "scrolled": false
   },
   "outputs": [
    {
     "name": "stdout",
     "output_type": "stream",
     "text": [
      "\u001b[1mrows where gender is blank \n",
      "\u001b[0m\n"
     ]
    },
    {
     "data": {
      "text/html": [
       "<div>\n",
       "<style scoped>\n",
       "    .dataframe tbody tr th:only-of-type {\n",
       "        vertical-align: middle;\n",
       "    }\n",
       "\n",
       "    .dataframe tbody tr th {\n",
       "        vertical-align: top;\n",
       "    }\n",
       "\n",
       "    .dataframe thead th {\n",
       "        text-align: right;\n",
       "    }\n",
       "</style>\n",
       "<table border=\"1\" class=\"dataframe\">\n",
       "  <thead>\n",
       "    <tr style=\"text-align: right;\">\n",
       "      <th></th>\n",
       "      <th>transaction_id</th>\n",
       "      <th>product_id</th>\n",
       "      <th>customer_id</th>\n",
       "      <th>transaction_date</th>\n",
       "      <th>online_order</th>\n",
       "      <th>brand</th>\n",
       "      <th>product_line</th>\n",
       "      <th>product_class</th>\n",
       "      <th>product_size</th>\n",
       "      <th>list_price</th>\n",
       "      <th>...</th>\n",
       "      <th>job_title</th>\n",
       "      <th>job_industry_category</th>\n",
       "      <th>wealth_segment</th>\n",
       "      <th>owns_car</th>\n",
       "      <th>tenure</th>\n",
       "      <th>postcode</th>\n",
       "      <th>state</th>\n",
       "      <th>country</th>\n",
       "      <th>property_valuation</th>\n",
       "      <th>age</th>\n",
       "    </tr>\n",
       "  </thead>\n",
       "  <tbody>\n",
       "    <tr>\n",
       "      <th>439</th>\n",
       "      <td>9037</td>\n",
       "      <td>49</td>\n",
       "      <td>892</td>\n",
       "      <td>2017-01-02</td>\n",
       "      <td>0.0</td>\n",
       "      <td>Trek Bicycles</td>\n",
       "      <td>Road</td>\n",
       "      <td>medium</td>\n",
       "      <td>medium</td>\n",
       "      <td>533.51</td>\n",
       "      <td>...</td>\n",
       "      <td>NaN</td>\n",
       "      <td>NaN</td>\n",
       "      <td>NaN</td>\n",
       "      <td>NaN</td>\n",
       "      <td>NaN</td>\n",
       "      <td>NaN</td>\n",
       "      <td>NaN</td>\n",
       "      <td>NaN</td>\n",
       "      <td>NaN</td>\n",
       "      <td>NaN</td>\n",
       "    </tr>\n",
       "    <tr>\n",
       "      <th>440</th>\n",
       "      <td>1843</td>\n",
       "      <td>85</td>\n",
       "      <td>892</td>\n",
       "      <td>2017-01-09</td>\n",
       "      <td>1.0</td>\n",
       "      <td>WeareA2B</td>\n",
       "      <td>Standard</td>\n",
       "      <td>medium</td>\n",
       "      <td>medium</td>\n",
       "      <td>752.64</td>\n",
       "      <td>...</td>\n",
       "      <td>NaN</td>\n",
       "      <td>NaN</td>\n",
       "      <td>NaN</td>\n",
       "      <td>NaN</td>\n",
       "      <td>NaN</td>\n",
       "      <td>NaN</td>\n",
       "      <td>NaN</td>\n",
       "      <td>NaN</td>\n",
       "      <td>NaN</td>\n",
       "      <td>NaN</td>\n",
       "    </tr>\n",
       "    <tr>\n",
       "      <th>441</th>\n",
       "      <td>14562</td>\n",
       "      <td>11</td>\n",
       "      <td>892</td>\n",
       "      <td>2017-04-20</td>\n",
       "      <td>0.0</td>\n",
       "      <td>Giant Bicycles</td>\n",
       "      <td>Standard</td>\n",
       "      <td>high</td>\n",
       "      <td>medium</td>\n",
       "      <td>1274.93</td>\n",
       "      <td>...</td>\n",
       "      <td>NaN</td>\n",
       "      <td>NaN</td>\n",
       "      <td>NaN</td>\n",
       "      <td>NaN</td>\n",
       "      <td>NaN</td>\n",
       "      <td>NaN</td>\n",
       "      <td>NaN</td>\n",
       "      <td>NaN</td>\n",
       "      <td>NaN</td>\n",
       "      <td>NaN</td>\n",
       "    </tr>\n",
       "    <tr>\n",
       "      <th>442</th>\n",
       "      <td>19069</td>\n",
       "      <td>69</td>\n",
       "      <td>892</td>\n",
       "      <td>2017-05-24</td>\n",
       "      <td>0.0</td>\n",
       "      <td>Giant Bicycles</td>\n",
       "      <td>Road</td>\n",
       "      <td>medium</td>\n",
       "      <td>medium</td>\n",
       "      <td>792.90</td>\n",
       "      <td>...</td>\n",
       "      <td>NaN</td>\n",
       "      <td>NaN</td>\n",
       "      <td>NaN</td>\n",
       "      <td>NaN</td>\n",
       "      <td>NaN</td>\n",
       "      <td>NaN</td>\n",
       "      <td>NaN</td>\n",
       "      <td>NaN</td>\n",
       "      <td>NaN</td>\n",
       "      <td>NaN</td>\n",
       "    </tr>\n",
       "    <tr>\n",
       "      <th>443</th>\n",
       "      <td>10350</td>\n",
       "      <td>11</td>\n",
       "      <td>892</td>\n",
       "      <td>2017-06-09</td>\n",
       "      <td>0.0</td>\n",
       "      <td>Giant Bicycles</td>\n",
       "      <td>Standard</td>\n",
       "      <td>high</td>\n",
       "      <td>medium</td>\n",
       "      <td>1274.93</td>\n",
       "      <td>...</td>\n",
       "      <td>NaN</td>\n",
       "      <td>NaN</td>\n",
       "      <td>NaN</td>\n",
       "      <td>NaN</td>\n",
       "      <td>NaN</td>\n",
       "      <td>NaN</td>\n",
       "      <td>NaN</td>\n",
       "      <td>NaN</td>\n",
       "      <td>NaN</td>\n",
       "      <td>NaN</td>\n",
       "    </tr>\n",
       "    <tr>\n",
       "      <th>...</th>\n",
       "      <td>...</td>\n",
       "      <td>...</td>\n",
       "      <td>...</td>\n",
       "      <td>...</td>\n",
       "      <td>...</td>\n",
       "      <td>...</td>\n",
       "      <td>...</td>\n",
       "      <td>...</td>\n",
       "      <td>...</td>\n",
       "      <td>...</td>\n",
       "      <td>...</td>\n",
       "      <td>...</td>\n",
       "      <td>...</td>\n",
       "      <td>...</td>\n",
       "      <td>...</td>\n",
       "      <td>...</td>\n",
       "      <td>...</td>\n",
       "      <td>...</td>\n",
       "      <td>...</td>\n",
       "      <td>...</td>\n",
       "      <td>...</td>\n",
       "    </tr>\n",
       "    <tr>\n",
       "      <th>19216</th>\n",
       "      <td>5865</td>\n",
       "      <td>60</td>\n",
       "      <td>1038</td>\n",
       "      <td>2017-11-28</td>\n",
       "      <td>1.0</td>\n",
       "      <td>Giant Bicycles</td>\n",
       "      <td>Standard</td>\n",
       "      <td>high</td>\n",
       "      <td>small</td>\n",
       "      <td>1977.36</td>\n",
       "      <td>...</td>\n",
       "      <td>NaN</td>\n",
       "      <td>NaN</td>\n",
       "      <td>NaN</td>\n",
       "      <td>NaN</td>\n",
       "      <td>NaN</td>\n",
       "      <td>NaN</td>\n",
       "      <td>NaN</td>\n",
       "      <td>NaN</td>\n",
       "      <td>NaN</td>\n",
       "      <td>NaN</td>\n",
       "    </tr>\n",
       "    <tr>\n",
       "      <th>19217</th>\n",
       "      <td>122</td>\n",
       "      <td>24</td>\n",
       "      <td>1038</td>\n",
       "      <td>2017-12-01</td>\n",
       "      <td>1.0</td>\n",
       "      <td>Solex</td>\n",
       "      <td>Road</td>\n",
       "      <td>medium</td>\n",
       "      <td>large</td>\n",
       "      <td>1777.80</td>\n",
       "      <td>...</td>\n",
       "      <td>NaN</td>\n",
       "      <td>NaN</td>\n",
       "      <td>NaN</td>\n",
       "      <td>NaN</td>\n",
       "      <td>NaN</td>\n",
       "      <td>NaN</td>\n",
       "      <td>NaN</td>\n",
       "      <td>NaN</td>\n",
       "      <td>NaN</td>\n",
       "      <td>NaN</td>\n",
       "    </tr>\n",
       "    <tr>\n",
       "      <th>19218</th>\n",
       "      <td>12141</td>\n",
       "      <td>82</td>\n",
       "      <td>1038</td>\n",
       "      <td>2017-12-18</td>\n",
       "      <td>0.0</td>\n",
       "      <td>Norco Bicycles</td>\n",
       "      <td>Standard</td>\n",
       "      <td>high</td>\n",
       "      <td>medium</td>\n",
       "      <td>1148.64</td>\n",
       "      <td>...</td>\n",
       "      <td>NaN</td>\n",
       "      <td>NaN</td>\n",
       "      <td>NaN</td>\n",
       "      <td>NaN</td>\n",
       "      <td>NaN</td>\n",
       "      <td>NaN</td>\n",
       "      <td>NaN</td>\n",
       "      <td>NaN</td>\n",
       "      <td>NaN</td>\n",
       "      <td>NaN</td>\n",
       "    </tr>\n",
       "    <tr>\n",
       "      <th>19363</th>\n",
       "      <td>10027</td>\n",
       "      <td>3</td>\n",
       "      <td>1628</td>\n",
       "      <td>2017-08-08</td>\n",
       "      <td>0.0</td>\n",
       "      <td>Trek Bicycles</td>\n",
       "      <td>Standard</td>\n",
       "      <td>medium</td>\n",
       "      <td>large</td>\n",
       "      <td>2091.47</td>\n",
       "      <td>...</td>\n",
       "      <td>NaN</td>\n",
       "      <td>NaN</td>\n",
       "      <td>NaN</td>\n",
       "      <td>NaN</td>\n",
       "      <td>NaN</td>\n",
       "      <td>NaN</td>\n",
       "      <td>NaN</td>\n",
       "      <td>NaN</td>\n",
       "      <td>NaN</td>\n",
       "      <td>NaN</td>\n",
       "    </tr>\n",
       "    <tr>\n",
       "      <th>19364</th>\n",
       "      <td>3291</td>\n",
       "      <td>24</td>\n",
       "      <td>1628</td>\n",
       "      <td>2017-08-19</td>\n",
       "      <td>0.0</td>\n",
       "      <td>Solex</td>\n",
       "      <td>Road</td>\n",
       "      <td>medium</td>\n",
       "      <td>large</td>\n",
       "      <td>1777.80</td>\n",
       "      <td>...</td>\n",
       "      <td>NaN</td>\n",
       "      <td>NaN</td>\n",
       "      <td>NaN</td>\n",
       "      <td>NaN</td>\n",
       "      <td>NaN</td>\n",
       "      <td>NaN</td>\n",
       "      <td>NaN</td>\n",
       "      <td>NaN</td>\n",
       "      <td>NaN</td>\n",
       "      <td>NaN</td>\n",
       "    </tr>\n",
       "  </tbody>\n",
       "</table>\n",
       "<p>444 rows × 24 columns</p>\n",
       "</div>"
      ],
      "text/plain": [
       "      transaction_id product_id customer_id transaction_date online_order  \\\n",
       "439             9037         49         892       2017-01-02          0.0   \n",
       "440             1843         85         892       2017-01-09          1.0   \n",
       "441            14562         11         892       2017-04-20          0.0   \n",
       "442            19069         69         892       2017-05-24          0.0   \n",
       "443            10350         11         892       2017-06-09          0.0   \n",
       "...              ...        ...         ...              ...          ...   \n",
       "19216           5865         60        1038       2017-11-28          1.0   \n",
       "19217            122         24        1038       2017-12-01          1.0   \n",
       "19218          12141         82        1038       2017-12-18          0.0   \n",
       "19363          10027          3        1628       2017-08-08          0.0   \n",
       "19364           3291         24        1628       2017-08-19          0.0   \n",
       "\n",
       "                brand product_line product_class product_size  list_price  \\\n",
       "439     Trek Bicycles         Road        medium       medium      533.51   \n",
       "440          WeareA2B     Standard        medium       medium      752.64   \n",
       "441    Giant Bicycles     Standard          high       medium     1274.93   \n",
       "442    Giant Bicycles         Road        medium       medium      792.90   \n",
       "443    Giant Bicycles     Standard          high       medium     1274.93   \n",
       "...               ...          ...           ...          ...         ...   \n",
       "19216  Giant Bicycles     Standard          high        small     1977.36   \n",
       "19217           Solex         Road        medium        large     1777.80   \n",
       "19218  Norco Bicycles     Standard          high       medium     1148.64   \n",
       "19363   Trek Bicycles     Standard        medium        large     2091.47   \n",
       "19364           Solex         Road        medium        large     1777.80   \n",
       "\n",
       "       ...  job_title job_industry_category wealth_segment  owns_car tenure  \\\n",
       "439    ...        NaN                   NaN            NaN       NaN    NaN   \n",
       "440    ...        NaN                   NaN            NaN       NaN    NaN   \n",
       "441    ...        NaN                   NaN            NaN       NaN    NaN   \n",
       "442    ...        NaN                   NaN            NaN       NaN    NaN   \n",
       "443    ...        NaN                   NaN            NaN       NaN    NaN   \n",
       "...    ...        ...                   ...            ...       ...    ...   \n",
       "19216  ...        NaN                   NaN            NaN       NaN    NaN   \n",
       "19217  ...        NaN                   NaN            NaN       NaN    NaN   \n",
       "19218  ...        NaN                   NaN            NaN       NaN    NaN   \n",
       "19363  ...        NaN                   NaN            NaN       NaN    NaN   \n",
       "19364  ...        NaN                   NaN            NaN       NaN    NaN   \n",
       "\n",
       "      postcode state  country  property_valuation  age  \n",
       "439        NaN   NaN      NaN                 NaN  NaN  \n",
       "440        NaN   NaN      NaN                 NaN  NaN  \n",
       "441        NaN   NaN      NaN                 NaN  NaN  \n",
       "442        NaN   NaN      NaN                 NaN  NaN  \n",
       "443        NaN   NaN      NaN                 NaN  NaN  \n",
       "...        ...   ...      ...                 ...  ...  \n",
       "19216      NaN   NaN      NaN                 NaN  NaN  \n",
       "19217      NaN   NaN      NaN                 NaN  NaN  \n",
       "19218      NaN   NaN      NaN                 NaN  NaN  \n",
       "19363      NaN   NaN      NaN                 NaN  NaN  \n",
       "19364      NaN   NaN      NaN                 NaN  NaN  \n",
       "\n",
       "[444 rows x 24 columns]"
      ]
     },
     "execution_count": 83,
     "metadata": {},
     "output_type": "execute_result"
    }
   ],
   "source": [
    "print(color.BOLD +'rows where gender is blank',\"\\n\"+ color.END)\n",
    "all_transactions[all_transactions['gender'].isnull()]"
   ]
  },
  {
   "cell_type": "markdown",
   "id": "b09b934a",
   "metadata": {},
   "source": [
    "delete all rows where gender and other details are not available"
   ]
  },
  {
   "cell_type": "code",
   "execution_count": 84,
   "id": "61ec4caa",
   "metadata": {},
   "outputs": [],
   "source": [
    "all_transactions.dropna(subset=['gender'], inplace=True)"
   ]
  },
  {
   "cell_type": "code",
   "execution_count": 85,
   "id": "db36b70e",
   "metadata": {},
   "outputs": [
    {
     "name": "stdout",
     "output_type": "stream",
     "text": [
      "\u001b[1m\u001b[94m\n",
      " No morer null in dataset\u001b[0m\n"
     ]
    },
    {
     "data": {
      "text/plain": [
       "transaction_id                         0\n",
       "product_id                             0\n",
       "customer_id                            0\n",
       "transaction_date                       0\n",
       "online_order                           0\n",
       "brand                                  0\n",
       "product_line                           0\n",
       "product_class                          0\n",
       "product_size                           0\n",
       "list_price                             0\n",
       "standard_cost                          0\n",
       "product_first_sold_date                0\n",
       "gender                                 0\n",
       "past_3_years_bike_related_purchases    0\n",
       "job_title                              0\n",
       "job_industry_category                  0\n",
       "wealth_segment                         0\n",
       "owns_car                               0\n",
       "tenure                                 0\n",
       "postcode                               0\n",
       "state                                  0\n",
       "country                                0\n",
       "property_valuation                     0\n",
       "age                                    0\n",
       "dtype: int64"
      ]
     },
     "execution_count": 85,
     "metadata": {},
     "output_type": "execute_result"
    }
   ],
   "source": [
    "print(color.BOLD +color.BLUE +\"\\n\",\"No morer null in dataset\"+ color.END)\n",
    "all_transactions.isnull().sum()"
   ]
  },
  {
   "cell_type": "code",
   "execution_count": 86,
   "id": "db7766e6",
   "metadata": {},
   "outputs": [
    {
     "name": "stdout",
     "output_type": "stream",
     "text": [
      "\u001b[1mNow we have 19178 rows and 24 columns in the dataset. \n",
      "\u001b[0m\n"
     ]
    }
   ],
   "source": [
    "print(color.BOLD + \"Now we have {} rows and {} columns in the dataset.\".format(all_transactions.shape[0],all_transactions.shape[1]),\"\\n\"+ color.END)\n"
   ]
  },
  {
   "cell_type": "code",
   "execution_count": 87,
   "id": "fdfcf88c",
   "metadata": {},
   "outputs": [
    {
     "name": "stdout",
     "output_type": "stream",
     "text": [
      "\u001b[1mNow we have 3415 customer_id in the dataset. \n",
      "\u001b[0m\n"
     ]
    }
   ],
   "source": [
    "print(color.BOLD + \"Now we have {} customer_id in the dataset.\".format(len(pd.unique(all_transactions['customer_id']))),\"\\n\"+ color.END)\n",
    " "
   ]
  },
  {
   "cell_type": "code",
   "execution_count": 88,
   "id": "ba45bab1",
   "metadata": {},
   "outputs": [],
   "source": [
    "#all_transactions.to_csv(\"all_transactions_existing_customers.csv\")"
   ]
  },
  {
   "cell_type": "code",
   "execution_count": 89,
   "id": "84f710a7",
   "metadata": {},
   "outputs": [],
   "source": [
    "#all_transactions.to_excel(\"all_transactions_existing_customers.xlsx\")  "
   ]
  },
  {
   "cell_type": "markdown",
   "id": "de0b43d1",
   "metadata": {},
   "source": [
    "### <span style='color:green'>Prepare data for model building</span>"
   ]
  },
  {
   "cell_type": "code",
   "execution_count": 90,
   "id": "824f8688",
   "metadata": {},
   "outputs": [],
   "source": [
    "all_customer_details=all_transactions"
   ]
  },
  {
   "cell_type": "code",
   "execution_count": 91,
   "id": "78f80494",
   "metadata": {},
   "outputs": [
    {
     "data": {
      "text/plain": [
       "Index(['transaction_id', 'product_id', 'customer_id', 'transaction_date',\n",
       "       'online_order', 'brand', 'product_line', 'product_class',\n",
       "       'product_size', 'list_price', 'standard_cost',\n",
       "       'product_first_sold_date', 'gender',\n",
       "       'past_3_years_bike_related_purchases', 'job_title',\n",
       "       'job_industry_category', 'wealth_segment', 'owns_car', 'tenure',\n",
       "       'postcode', 'state', 'country', 'property_valuation', 'age'],\n",
       "      dtype='object')"
      ]
     },
     "execution_count": 91,
     "metadata": {},
     "output_type": "execute_result"
    }
   ],
   "source": [
    "all_customer_details.columns"
   ]
  },
  {
   "cell_type": "code",
   "execution_count": 92,
   "id": "ac8a523f",
   "metadata": {},
   "outputs": [
    {
     "data": {
      "text/plain": [
       "(19178, 24)"
      ]
     },
     "execution_count": 92,
     "metadata": {},
     "output_type": "execute_result"
    }
   ],
   "source": [
    "all_customer_details.shape"
   ]
  },
  {
   "cell_type": "markdown",
   "id": "6464f2b0",
   "metadata": {},
   "source": [
    " "
   ]
  },
  {
   "cell_type": "markdown",
   "id": "bf9a0825",
   "metadata": {},
   "source": [
    "### RFM analysis\n",
    "RFM stands for recency, frequency, monetary value.<br> In business analytics, we often use this concept to divide customers into different segments, like high-value customers, medium value customers or low-value customers, and similarly many others.<br>"
   ]
  },
  {
   "cell_type": "markdown",
   "id": "5df80ff5",
   "metadata": {},
   "source": [
    "### Calculating Recency\n",
    "Here we are calculating recency for customers who had made a purchase with a company."
   ]
  },
  {
   "cell_type": "code",
   "execution_count": 93,
   "id": "cf68cf44",
   "metadata": {},
   "outputs": [
    {
     "name": "stdout",
     "output_type": "stream",
     "text": [
      "\u001b[1mOldest transaction date is 2017-01-01 00:00:00 \n",
      "\u001b[0m\n",
      "\u001b[1mLatest transaction date is 2017-12-30 00:00:00 \n",
      "\u001b[0m\n"
     ]
    }
   ],
   "source": [
    "print(color.BOLD + \"Oldest transaction date is {}\".format(min(all_customer_details['transaction_date'])),\"\\n\"+ color.END)\n",
    "print(color.BOLD + \"Latest transaction date is {}\".format(max(all_customer_details['transaction_date'])),\"\\n\"+ color.END)"
   ]
  },
  {
   "cell_type": "markdown",
   "id": "7fc90c81",
   "metadata": {},
   "source": [
    "Since all the date values belong to 2017 we will take Jan 1 2018 as the benchmark to calculate the recency"
   ]
  },
  {
   "cell_type": "code",
   "execution_count": 94,
   "id": "80dba624",
   "metadata": {},
   "outputs": [],
   "source": [
    "benchmark_date = datetime(2018, 1, 1)\n",
    "all_customer_details['recency'] = all_customer_details['transaction_date'].apply(lambda x: (benchmark_date - x).days)"
   ]
  },
  {
   "cell_type": "markdown",
   "id": "4ab07d1d",
   "metadata": {},
   "source": [
    "### Calculating Frequency\n",
    "We are here calculating the frequency of frequent transactions of the customer in ordering/buying some product from the company.\n",
    "Count unique transactions for each customer"
   ]
  },
  {
   "cell_type": "markdown",
   "id": "b7ac4886",
   "metadata": {},
   "source": [
    "### Calculating Monetary Value\n",
    "Here we are calculating the monetary value of customer spend on purchasing products from the company.\n",
    "Total list_price(spending) for each customer"
   ]
  },
  {
   "cell_type": "code",
   "execution_count": 95,
   "id": "71e96fcd",
   "metadata": {},
   "outputs": [],
   "source": [
    "df_ = all_customer_details.copy()"
   ]
  },
  {
   "cell_type": "code",
   "execution_count": 96,
   "id": "9c239892",
   "metadata": {
    "scrolled": false
   },
   "outputs": [],
   "source": [
    "all_customer_details= all_customer_details.groupby(['customer_id'], sort=True).agg({'standard_cost': 'sum', 'online_order': lambda x: x.mode()[0],\n",
    "                                                                                    'list_price': 'sum','recency':'min', 'transaction_id': lambda x: x.nunique(),\n",
    "                                                                                   'gender': lambda x: x.mode()[0],'past_3_years_bike_related_purchases': lambda x: x.mode()[0], \n",
    "                                                                                    'job_title': lambda x: x.mode()[0],'job_industry_category': lambda x: x.mode()[0],\n",
    "                                                                                    'wealth_segment': lambda x: x.mode()[0], 'owns_car': lambda x: x.mode()[0],'tenure': lambda x: x.mode()[0],\n",
    "                                                                                    'postcode': lambda x: x.mode()[0],'state': lambda x: x.mode()[0], 'country': lambda x: x.mode()[0],\n",
    "                                                                                    'property_valuation': lambda x: x.mode()[0],'age': lambda x: x.mode()[0]}).reset_index()"
   ]
  },
  {
   "cell_type": "code",
   "execution_count": 97,
   "id": "c4ffb0cb",
   "metadata": {},
   "outputs": [
    {
     "data": {
      "text/plain": [
       "(3415, 18)"
      ]
     },
     "execution_count": 97,
     "metadata": {},
     "output_type": "execute_result"
    }
   ],
   "source": [
    "all_customer_details.shape"
   ]
  },
  {
   "cell_type": "code",
   "execution_count": 98,
   "id": "2ad254db",
   "metadata": {},
   "outputs": [
    {
     "data": {
      "text/html": [
       "<div>\n",
       "<style scoped>\n",
       "    .dataframe tbody tr th:only-of-type {\n",
       "        vertical-align: middle;\n",
       "    }\n",
       "\n",
       "    .dataframe tbody tr th {\n",
       "        vertical-align: top;\n",
       "    }\n",
       "\n",
       "    .dataframe thead th {\n",
       "        text-align: right;\n",
       "    }\n",
       "</style>\n",
       "<table border=\"1\" class=\"dataframe\">\n",
       "  <thead>\n",
       "    <tr style=\"text-align: right;\">\n",
       "      <th></th>\n",
       "      <th>customer_id</th>\n",
       "      <th>standard_cost</th>\n",
       "      <th>online_order</th>\n",
       "      <th>list_price</th>\n",
       "      <th>recency</th>\n",
       "      <th>transaction_id</th>\n",
       "      <th>gender</th>\n",
       "      <th>past_3_years_bike_related_purchases</th>\n",
       "      <th>job_title</th>\n",
       "      <th>job_industry_category</th>\n",
       "      <th>wealth_segment</th>\n",
       "      <th>owns_car</th>\n",
       "      <th>tenure</th>\n",
       "      <th>postcode</th>\n",
       "      <th>state</th>\n",
       "      <th>country</th>\n",
       "      <th>property_valuation</th>\n",
       "      <th>age</th>\n",
       "    </tr>\n",
       "  </thead>\n",
       "  <tbody>\n",
       "    <tr>\n",
       "      <th>0</th>\n",
       "      <td>1</td>\n",
       "      <td>6066.36</td>\n",
       "      <td>1.0</td>\n",
       "      <td>9084.45</td>\n",
       "      <td>9</td>\n",
       "      <td>11</td>\n",
       "      <td>Female</td>\n",
       "      <td>93.0</td>\n",
       "      <td>Executive Secretary</td>\n",
       "      <td>Health</td>\n",
       "      <td>Mass Customer</td>\n",
       "      <td>1.0</td>\n",
       "      <td>11.0</td>\n",
       "      <td>2016.0</td>\n",
       "      <td>New South Wales</td>\n",
       "      <td>Australia</td>\n",
       "      <td>10.0</td>\n",
       "      <td>69.0</td>\n",
       "    </tr>\n",
       "    <tr>\n",
       "      <th>1</th>\n",
       "      <td>2</td>\n",
       "      <td>1922.81</td>\n",
       "      <td>0.0</td>\n",
       "      <td>4149.07</td>\n",
       "      <td>130</td>\n",
       "      <td>3</td>\n",
       "      <td>Male</td>\n",
       "      <td>81.0</td>\n",
       "      <td>Administrative Officer</td>\n",
       "      <td>Financial Services</td>\n",
       "      <td>Mass Customer</td>\n",
       "      <td>1.0</td>\n",
       "      <td>16.0</td>\n",
       "      <td>2153.0</td>\n",
       "      <td>New South Wales</td>\n",
       "      <td>Australia</td>\n",
       "      <td>10.0</td>\n",
       "      <td>42.0</td>\n",
       "    </tr>\n",
       "    <tr>\n",
       "      <th>2</th>\n",
       "      <td>3</td>\n",
       "      <td>6525.42</td>\n",
       "      <td>0.0</td>\n",
       "      <td>9888.23</td>\n",
       "      <td>104</td>\n",
       "      <td>8</td>\n",
       "      <td>Male</td>\n",
       "      <td>61.0</td>\n",
       "      <td>Business Systems Development Analyst</td>\n",
       "      <td>Manufacturing</td>\n",
       "      <td>Mass Customer</td>\n",
       "      <td>1.0</td>\n",
       "      <td>15.0</td>\n",
       "      <td>2170.0</td>\n",
       "      <td>New South Wales</td>\n",
       "      <td>Australia</td>\n",
       "      <td>8.0</td>\n",
       "      <td>68.0</td>\n",
       "    </tr>\n",
       "    <tr>\n",
       "      <th>3</th>\n",
       "      <td>4</td>\n",
       "      <td>827.15</td>\n",
       "      <td>0.0</td>\n",
       "      <td>1047.72</td>\n",
       "      <td>197</td>\n",
       "      <td>2</td>\n",
       "      <td>Male</td>\n",
       "      <td>33.0</td>\n",
       "      <td>Business Systems Development Analyst</td>\n",
       "      <td>IT</td>\n",
       "      <td>Mass Customer</td>\n",
       "      <td>0.0</td>\n",
       "      <td>7.0</td>\n",
       "      <td>4211.0</td>\n",
       "      <td>Queensland</td>\n",
       "      <td>Australia</td>\n",
       "      <td>9.0</td>\n",
       "      <td>61.0</td>\n",
       "    </tr>\n",
       "    <tr>\n",
       "      <th>4</th>\n",
       "      <td>5</td>\n",
       "      <td>3508.26</td>\n",
       "      <td>0.0</td>\n",
       "      <td>5903.20</td>\n",
       "      <td>18</td>\n",
       "      <td>6</td>\n",
       "      <td>Female</td>\n",
       "      <td>56.0</td>\n",
       "      <td>Senior Editor</td>\n",
       "      <td>Manufacturing</td>\n",
       "      <td>Affluent Customer</td>\n",
       "      <td>1.0</td>\n",
       "      <td>8.0</td>\n",
       "      <td>2448.0</td>\n",
       "      <td>New South Wales</td>\n",
       "      <td>Australia</td>\n",
       "      <td>4.0</td>\n",
       "      <td>45.0</td>\n",
       "    </tr>\n",
       "    <tr>\n",
       "      <th>...</th>\n",
       "      <td>...</td>\n",
       "      <td>...</td>\n",
       "      <td>...</td>\n",
       "      <td>...</td>\n",
       "      <td>...</td>\n",
       "      <td>...</td>\n",
       "      <td>...</td>\n",
       "      <td>...</td>\n",
       "      <td>...</td>\n",
       "      <td>...</td>\n",
       "      <td>...</td>\n",
       "      <td>...</td>\n",
       "      <td>...</td>\n",
       "      <td>...</td>\n",
       "      <td>...</td>\n",
       "      <td>...</td>\n",
       "      <td>...</td>\n",
       "      <td>...</td>\n",
       "    </tr>\n",
       "    <tr>\n",
       "      <th>3410</th>\n",
       "      <td>3496</td>\n",
       "      <td>2679.54</td>\n",
       "      <td>1.0</td>\n",
       "      <td>4725.38</td>\n",
       "      <td>258</td>\n",
       "      <td>4</td>\n",
       "      <td>Male</td>\n",
       "      <td>99.0</td>\n",
       "      <td>Editor</td>\n",
       "      <td>Manufacturing</td>\n",
       "      <td>Mass Customer</td>\n",
       "      <td>1.0</td>\n",
       "      <td>19.0</td>\n",
       "      <td>2171.0</td>\n",
       "      <td>New South Wales</td>\n",
       "      <td>Australia</td>\n",
       "      <td>9.0</td>\n",
       "      <td>36.0</td>\n",
       "    </tr>\n",
       "    <tr>\n",
       "      <th>3411</th>\n",
       "      <td>3497</td>\n",
       "      <td>2095.75</td>\n",
       "      <td>1.0</td>\n",
       "      <td>3744.07</td>\n",
       "      <td>54</td>\n",
       "      <td>3</td>\n",
       "      <td>Female</td>\n",
       "      <td>73.0</td>\n",
       "      <td>Administrative Assistant IV</td>\n",
       "      <td>Manufacturing</td>\n",
       "      <td>Affluent Customer</td>\n",
       "      <td>1.0</td>\n",
       "      <td>18.0</td>\n",
       "      <td>3976.0</td>\n",
       "      <td>Victoria</td>\n",
       "      <td>Australia</td>\n",
       "      <td>5.0</td>\n",
       "      <td>36.0</td>\n",
       "    </tr>\n",
       "    <tr>\n",
       "      <th>3412</th>\n",
       "      <td>3498</td>\n",
       "      <td>2029.73</td>\n",
       "      <td>1.0</td>\n",
       "      <td>5177.06</td>\n",
       "      <td>129</td>\n",
       "      <td>6</td>\n",
       "      <td>Female</td>\n",
       "      <td>28.0</td>\n",
       "      <td>Business Systems Development Analyst</td>\n",
       "      <td>Manufacturing</td>\n",
       "      <td>Mass Customer</td>\n",
       "      <td>0.0</td>\n",
       "      <td>5.0</td>\n",
       "      <td>3012.0</td>\n",
       "      <td>Victoria</td>\n",
       "      <td>Australia</td>\n",
       "      <td>4.0</td>\n",
       "      <td>27.0</td>\n",
       "    </tr>\n",
       "    <tr>\n",
       "      <th>3413</th>\n",
       "      <td>3499</td>\n",
       "      <td>2718.23</td>\n",
       "      <td>1.0</td>\n",
       "      <td>7673.48</td>\n",
       "      <td>53</td>\n",
       "      <td>7</td>\n",
       "      <td>Male</td>\n",
       "      <td>29.0</td>\n",
       "      <td>Business Systems Development Analyst</td>\n",
       "      <td>Manufacturing</td>\n",
       "      <td>Mass Customer</td>\n",
       "      <td>1.0</td>\n",
       "      <td>7.0</td>\n",
       "      <td>4073.0</td>\n",
       "      <td>Queensland</td>\n",
       "      <td>Australia</td>\n",
       "      <td>9.0</td>\n",
       "      <td>43.0</td>\n",
       "    </tr>\n",
       "    <tr>\n",
       "      <th>3414</th>\n",
       "      <td>3500</td>\n",
       "      <td>3136.55</td>\n",
       "      <td>0.0</td>\n",
       "      <td>4922.41</td>\n",
       "      <td>146</td>\n",
       "      <td>6</td>\n",
       "      <td>Female</td>\n",
       "      <td>71.0</td>\n",
       "      <td>Business Systems Development Analyst</td>\n",
       "      <td>Entertainment</td>\n",
       "      <td>Affluent Customer</td>\n",
       "      <td>0.0</td>\n",
       "      <td>17.0</td>\n",
       "      <td>2100.0</td>\n",
       "      <td>New South Wales</td>\n",
       "      <td>Australia</td>\n",
       "      <td>10.0</td>\n",
       "      <td>55.0</td>\n",
       "    </tr>\n",
       "  </tbody>\n",
       "</table>\n",
       "<p>3415 rows × 18 columns</p>\n",
       "</div>"
      ],
      "text/plain": [
       "      customer_id  standard_cost  online_order  list_price  recency  \\\n",
       "0               1        6066.36           1.0     9084.45        9   \n",
       "1               2        1922.81           0.0     4149.07      130   \n",
       "2               3        6525.42           0.0     9888.23      104   \n",
       "3               4         827.15           0.0     1047.72      197   \n",
       "4               5        3508.26           0.0     5903.20       18   \n",
       "...           ...            ...           ...         ...      ...   \n",
       "3410         3496        2679.54           1.0     4725.38      258   \n",
       "3411         3497        2095.75           1.0     3744.07       54   \n",
       "3412         3498        2029.73           1.0     5177.06      129   \n",
       "3413         3499        2718.23           1.0     7673.48       53   \n",
       "3414         3500        3136.55           0.0     4922.41      146   \n",
       "\n",
       "      transaction_id  gender  past_3_years_bike_related_purchases  \\\n",
       "0                 11  Female                                 93.0   \n",
       "1                  3    Male                                 81.0   \n",
       "2                  8    Male                                 61.0   \n",
       "3                  2    Male                                 33.0   \n",
       "4                  6  Female                                 56.0   \n",
       "...              ...     ...                                  ...   \n",
       "3410               4    Male                                 99.0   \n",
       "3411               3  Female                                 73.0   \n",
       "3412               6  Female                                 28.0   \n",
       "3413               7    Male                                 29.0   \n",
       "3414               6  Female                                 71.0   \n",
       "\n",
       "                                 job_title job_industry_category  \\\n",
       "0                      Executive Secretary                Health   \n",
       "1                   Administrative Officer    Financial Services   \n",
       "2     Business Systems Development Analyst         Manufacturing   \n",
       "3     Business Systems Development Analyst                    IT   \n",
       "4                            Senior Editor         Manufacturing   \n",
       "...                                    ...                   ...   \n",
       "3410                                Editor         Manufacturing   \n",
       "3411           Administrative Assistant IV         Manufacturing   \n",
       "3412  Business Systems Development Analyst         Manufacturing   \n",
       "3413  Business Systems Development Analyst         Manufacturing   \n",
       "3414  Business Systems Development Analyst         Entertainment   \n",
       "\n",
       "         wealth_segment  owns_car  tenure  postcode            state  \\\n",
       "0         Mass Customer       1.0    11.0    2016.0  New South Wales   \n",
       "1         Mass Customer       1.0    16.0    2153.0  New South Wales   \n",
       "2         Mass Customer       1.0    15.0    2170.0  New South Wales   \n",
       "3         Mass Customer       0.0     7.0    4211.0       Queensland   \n",
       "4     Affluent Customer       1.0     8.0    2448.0  New South Wales   \n",
       "...                 ...       ...     ...       ...              ...   \n",
       "3410      Mass Customer       1.0    19.0    2171.0  New South Wales   \n",
       "3411  Affluent Customer       1.0    18.0    3976.0         Victoria   \n",
       "3412      Mass Customer       0.0     5.0    3012.0         Victoria   \n",
       "3413      Mass Customer       1.0     7.0    4073.0       Queensland   \n",
       "3414  Affluent Customer       0.0    17.0    2100.0  New South Wales   \n",
       "\n",
       "        country  property_valuation   age  \n",
       "0     Australia                10.0  69.0  \n",
       "1     Australia                10.0  42.0  \n",
       "2     Australia                 8.0  68.0  \n",
       "3     Australia                 9.0  61.0  \n",
       "4     Australia                 4.0  45.0  \n",
       "...         ...                 ...   ...  \n",
       "3410  Australia                 9.0  36.0  \n",
       "3411  Australia                 5.0  36.0  \n",
       "3412  Australia                 4.0  27.0  \n",
       "3413  Australia                 9.0  43.0  \n",
       "3414  Australia                10.0  55.0  \n",
       "\n",
       "[3415 rows x 18 columns]"
      ]
     },
     "execution_count": 98,
     "metadata": {},
     "output_type": "execute_result"
    }
   ],
   "source": [
    "all_customer_details"
   ]
  },
  {
   "cell_type": "markdown",
   "id": "bc5b6469",
   "metadata": {},
   "source": [
    "Here online_order indicates the most preferred mode of oder on-line or off-line"
   ]
  },
  {
   "cell_type": "markdown",
   "id": "f5ce8e9a",
   "metadata": {},
   "source": [
    "### Rename columns\n"
   ]
  },
  {
   "cell_type": "code",
   "execution_count": 99,
   "id": "d3ff6d97",
   "metadata": {},
   "outputs": [],
   "source": [
    "all_customer_details.rename(columns={'list_price': 'monetary', 'transaction_id': 'frequency'}, inplace=True)"
   ]
  },
  {
   "cell_type": "code",
   "execution_count": 100,
   "id": "059678a2",
   "metadata": {},
   "outputs": [
    {
     "name": "stdout",
     "output_type": "stream",
     "text": [
      "\u001b[1mNow we have details for 3415 in the dataset. \n",
      "\u001b[0m\n"
     ]
    }
   ],
   "source": [
    "print(color.BOLD + \"Now we have details for {} in the dataset.\".format(len(all_customer_details)),\"\\n\"+ color.END)\n"
   ]
  },
  {
   "cell_type": "markdown",
   "id": "44b07e84",
   "metadata": {},
   "source": [
    "### Ranking Customer’s based upon their recency, frequency, and monetary score\n",
    "Here we are normalizing the rank of the customers within a company to analyze the ranking."
   ]
  },
  {
   "cell_type": "code",
   "execution_count": 101,
   "id": "bb5b17e0",
   "metadata": {},
   "outputs": [],
   "source": [
    "all_customer_details['R_rank'] = all_customer_details['recency'].rank(ascending=False)\n",
    "all_customer_details['F_rank'] = all_customer_details['frequency'].rank(ascending=True)\n",
    "all_customer_details['M_rank'] = all_customer_details['monetary'].rank(ascending=True)"
   ]
  },
  {
   "cell_type": "code",
   "execution_count": 102,
   "id": "a6548f46",
   "metadata": {},
   "outputs": [],
   "source": [
    "def normalize(x,maximum_x):\n",
    "    return((x/maximum_x)*100)\n",
    "\n",
    "# normalizing the rank of the customers\n",
    "all_customer_details['R_rank_norm'] = all_customer_details['R_rank'].apply(lambda x: normalize(x, all_customer_details['R_rank'].max()))\n",
    "all_customer_details['F_rank_norm'] = all_customer_details['F_rank'].apply(lambda x: normalize(x, all_customer_details['F_rank'].max()))\n",
    "all_customer_details['M_rank_norm'] = all_customer_details['M_rank'].apply(lambda x: normalize(x, all_customer_details['M_rank'].max()))\n",
    "\n",
    "all_customer_details.drop(columns=['R_rank', 'F_rank', 'M_rank'], inplace=True)"
   ]
  },
  {
   "cell_type": "markdown",
   "id": "ddba9391",
   "metadata": {},
   "source": [
    "### Calculating RFM score\n",
    "RFM score is calculated based upon recency, frequency, monetary value normalize ranks.<br> Based upon this score we divide our customers. Here we rate them on a scale of 5.<br>  Formula used for calculating rfm score is : 0.15*Recency score + 0.28*Frequency score + 0.57 *Monetary score\n",
    "\n",
    "### Weight.\n",
    "By default, the highest importance when calculating scores is given to the recency data, followed by frequency, and then monetary. If required, you can amend the weighting affecting one or several of these to change which is given the highest importance.\n",
    "\n",
    "The RFM score is calculated as follows: (Recency score x Recency weight) + (Frequency score x Frequency weight) + (Monetary score x Monetary weight)."
   ]
  },
  {
   "cell_type": "code",
   "execution_count": 103,
   "id": "5bc9633c",
   "metadata": {},
   "outputs": [],
   "source": [
    "all_customer_details['RFM_Score'] = 0.25 * all_customer_details['R_rank_norm']+0.35 * all_customer_details['F_rank_norm']+0.5 * all_customer_details['M_rank_norm']\n",
    "all_customer_details['RFM_Score'] *= 0.05\n",
    "all_customer_details = all_customer_details.round(2)"
   ]
  },
  {
   "cell_type": "code",
   "execution_count": 104,
   "id": "d12ddd2e",
   "metadata": {},
   "outputs": [
    {
     "data": {
      "text/html": [
       "<div>\n",
       "<style scoped>\n",
       "    .dataframe tbody tr th:only-of-type {\n",
       "        vertical-align: middle;\n",
       "    }\n",
       "\n",
       "    .dataframe tbody tr th {\n",
       "        vertical-align: top;\n",
       "    }\n",
       "\n",
       "    .dataframe thead th {\n",
       "        text-align: right;\n",
       "    }\n",
       "</style>\n",
       "<table border=\"1\" class=\"dataframe\">\n",
       "  <thead>\n",
       "    <tr style=\"text-align: right;\">\n",
       "      <th></th>\n",
       "      <th>customer_id</th>\n",
       "      <th>standard_cost</th>\n",
       "      <th>online_order</th>\n",
       "      <th>monetary</th>\n",
       "      <th>recency</th>\n",
       "      <th>frequency</th>\n",
       "      <th>gender</th>\n",
       "      <th>past_3_years_bike_related_purchases</th>\n",
       "      <th>job_title</th>\n",
       "      <th>job_industry_category</th>\n",
       "      <th>...</th>\n",
       "      <th>tenure</th>\n",
       "      <th>postcode</th>\n",
       "      <th>state</th>\n",
       "      <th>country</th>\n",
       "      <th>property_valuation</th>\n",
       "      <th>age</th>\n",
       "      <th>R_rank_norm</th>\n",
       "      <th>F_rank_norm</th>\n",
       "      <th>M_rank_norm</th>\n",
       "      <th>RFM_Score</th>\n",
       "    </tr>\n",
       "  </thead>\n",
       "  <tbody>\n",
       "    <tr>\n",
       "      <th>0</th>\n",
       "      <td>1</td>\n",
       "      <td>6066.36</td>\n",
       "      <td>1.0</td>\n",
       "      <td>9084.45</td>\n",
       "      <td>9</td>\n",
       "      <td>11</td>\n",
       "      <td>Female</td>\n",
       "      <td>93.0</td>\n",
       "      <td>Executive Secretary</td>\n",
       "      <td>Health</td>\n",
       "      <td>...</td>\n",
       "      <td>11.0</td>\n",
       "      <td>2016.0</td>\n",
       "      <td>New South Wales</td>\n",
       "      <td>Australia</td>\n",
       "      <td>10.0</td>\n",
       "      <td>69.0</td>\n",
       "      <td>90.21</td>\n",
       "      <td>98.04</td>\n",
       "      <td>83.81</td>\n",
       "      <td>4.94</td>\n",
       "    </tr>\n",
       "    <tr>\n",
       "      <th>1</th>\n",
       "      <td>2</td>\n",
       "      <td>1922.81</td>\n",
       "      <td>0.0</td>\n",
       "      <td>4149.07</td>\n",
       "      <td>130</td>\n",
       "      <td>3</td>\n",
       "      <td>Male</td>\n",
       "      <td>81.0</td>\n",
       "      <td>Administrative Officer</td>\n",
       "      <td>Financial Services</td>\n",
       "      <td>...</td>\n",
       "      <td>16.0</td>\n",
       "      <td>2153.0</td>\n",
       "      <td>New South Wales</td>\n",
       "      <td>Australia</td>\n",
       "      <td>10.0</td>\n",
       "      <td>42.0</td>\n",
       "      <td>13.43</td>\n",
       "      <td>13.05</td>\n",
       "      <td>25.42</td>\n",
       "      <td>1.03</td>\n",
       "    </tr>\n",
       "    <tr>\n",
       "      <th>2</th>\n",
       "      <td>3</td>\n",
       "      <td>6525.42</td>\n",
       "      <td>0.0</td>\n",
       "      <td>9888.23</td>\n",
       "      <td>104</td>\n",
       "      <td>8</td>\n",
       "      <td>Male</td>\n",
       "      <td>61.0</td>\n",
       "      <td>Business Systems Development Analyst</td>\n",
       "      <td>Manufacturing</td>\n",
       "      <td>...</td>\n",
       "      <td>15.0</td>\n",
       "      <td>2170.0</td>\n",
       "      <td>New South Wales</td>\n",
       "      <td>Australia</td>\n",
       "      <td>8.0</td>\n",
       "      <td>68.0</td>\n",
       "      <td>19.59</td>\n",
       "      <td>84.68</td>\n",
       "      <td>88.40</td>\n",
       "      <td>3.94</td>\n",
       "    </tr>\n",
       "    <tr>\n",
       "      <th>3</th>\n",
       "      <td>4</td>\n",
       "      <td>827.15</td>\n",
       "      <td>0.0</td>\n",
       "      <td>1047.72</td>\n",
       "      <td>197</td>\n",
       "      <td>2</td>\n",
       "      <td>Male</td>\n",
       "      <td>33.0</td>\n",
       "      <td>Business Systems Development Analyst</td>\n",
       "      <td>IT</td>\n",
       "      <td>...</td>\n",
       "      <td>7.0</td>\n",
       "      <td>4211.0</td>\n",
       "      <td>Queensland</td>\n",
       "      <td>Australia</td>\n",
       "      <td>9.0</td>\n",
       "      <td>61.0</td>\n",
       "      <td>4.08</td>\n",
       "      <td>4.61</td>\n",
       "      <td>1.76</td>\n",
       "      <td>0.18</td>\n",
       "    </tr>\n",
       "    <tr>\n",
       "      <th>4</th>\n",
       "      <td>5</td>\n",
       "      <td>3508.26</td>\n",
       "      <td>0.0</td>\n",
       "      <td>5903.20</td>\n",
       "      <td>18</td>\n",
       "      <td>6</td>\n",
       "      <td>Female</td>\n",
       "      <td>56.0</td>\n",
       "      <td>Senior Editor</td>\n",
       "      <td>Manufacturing</td>\n",
       "      <td>...</td>\n",
       "      <td>8.0</td>\n",
       "      <td>2448.0</td>\n",
       "      <td>New South Wales</td>\n",
       "      <td>Australia</td>\n",
       "      <td>4.0</td>\n",
       "      <td>45.0</td>\n",
       "      <td>77.95</td>\n",
       "      <td>59.09</td>\n",
       "      <td>49.69</td>\n",
       "      <td>3.25</td>\n",
       "    </tr>\n",
       "    <tr>\n",
       "      <th>...</th>\n",
       "      <td>...</td>\n",
       "      <td>...</td>\n",
       "      <td>...</td>\n",
       "      <td>...</td>\n",
       "      <td>...</td>\n",
       "      <td>...</td>\n",
       "      <td>...</td>\n",
       "      <td>...</td>\n",
       "      <td>...</td>\n",
       "      <td>...</td>\n",
       "      <td>...</td>\n",
       "      <td>...</td>\n",
       "      <td>...</td>\n",
       "      <td>...</td>\n",
       "      <td>...</td>\n",
       "      <td>...</td>\n",
       "      <td>...</td>\n",
       "      <td>...</td>\n",
       "      <td>...</td>\n",
       "      <td>...</td>\n",
       "      <td>...</td>\n",
       "    </tr>\n",
       "    <tr>\n",
       "      <th>3410</th>\n",
       "      <td>3496</td>\n",
       "      <td>2679.54</td>\n",
       "      <td>1.0</td>\n",
       "      <td>4725.38</td>\n",
       "      <td>258</td>\n",
       "      <td>4</td>\n",
       "      <td>Male</td>\n",
       "      <td>99.0</td>\n",
       "      <td>Editor</td>\n",
       "      <td>Manufacturing</td>\n",
       "      <td>...</td>\n",
       "      <td>19.0</td>\n",
       "      <td>2171.0</td>\n",
       "      <td>New South Wales</td>\n",
       "      <td>Australia</td>\n",
       "      <td>9.0</td>\n",
       "      <td>36.0</td>\n",
       "      <td>1.36</td>\n",
       "      <td>25.94</td>\n",
       "      <td>33.56</td>\n",
       "      <td>1.31</td>\n",
       "    </tr>\n",
       "    <tr>\n",
       "      <th>3411</th>\n",
       "      <td>3497</td>\n",
       "      <td>2095.75</td>\n",
       "      <td>1.0</td>\n",
       "      <td>3744.07</td>\n",
       "      <td>54</td>\n",
       "      <td>3</td>\n",
       "      <td>Female</td>\n",
       "      <td>73.0</td>\n",
       "      <td>Administrative Assistant IV</td>\n",
       "      <td>Manufacturing</td>\n",
       "      <td>...</td>\n",
       "      <td>18.0</td>\n",
       "      <td>3976.0</td>\n",
       "      <td>Victoria</td>\n",
       "      <td>Australia</td>\n",
       "      <td>5.0</td>\n",
       "      <td>36.0</td>\n",
       "      <td>45.16</td>\n",
       "      <td>13.05</td>\n",
       "      <td>20.59</td>\n",
       "      <td>1.31</td>\n",
       "    </tr>\n",
       "    <tr>\n",
       "      <th>3412</th>\n",
       "      <td>3498</td>\n",
       "      <td>2029.73</td>\n",
       "      <td>1.0</td>\n",
       "      <td>5177.06</td>\n",
       "      <td>129</td>\n",
       "      <td>6</td>\n",
       "      <td>Female</td>\n",
       "      <td>28.0</td>\n",
       "      <td>Business Systems Development Analyst</td>\n",
       "      <td>Manufacturing</td>\n",
       "      <td>...</td>\n",
       "      <td>5.0</td>\n",
       "      <td>3012.0</td>\n",
       "      <td>Victoria</td>\n",
       "      <td>Australia</td>\n",
       "      <td>4.0</td>\n",
       "      <td>27.0</td>\n",
       "      <td>13.59</td>\n",
       "      <td>59.09</td>\n",
       "      <td>39.94</td>\n",
       "      <td>2.20</td>\n",
       "    </tr>\n",
       "    <tr>\n",
       "      <th>3413</th>\n",
       "      <td>3499</td>\n",
       "      <td>2718.23</td>\n",
       "      <td>1.0</td>\n",
       "      <td>7673.48</td>\n",
       "      <td>53</td>\n",
       "      <td>7</td>\n",
       "      <td>Male</td>\n",
       "      <td>29.0</td>\n",
       "      <td>Business Systems Development Analyst</td>\n",
       "      <td>Manufacturing</td>\n",
       "      <td>...</td>\n",
       "      <td>7.0</td>\n",
       "      <td>4073.0</td>\n",
       "      <td>Queensland</td>\n",
       "      <td>Australia</td>\n",
       "      <td>9.0</td>\n",
       "      <td>43.0</td>\n",
       "      <td>45.81</td>\n",
       "      <td>73.93</td>\n",
       "      <td>71.30</td>\n",
       "      <td>3.65</td>\n",
       "    </tr>\n",
       "    <tr>\n",
       "      <th>3414</th>\n",
       "      <td>3500</td>\n",
       "      <td>3136.55</td>\n",
       "      <td>0.0</td>\n",
       "      <td>4922.41</td>\n",
       "      <td>146</td>\n",
       "      <td>6</td>\n",
       "      <td>Female</td>\n",
       "      <td>71.0</td>\n",
       "      <td>Business Systems Development Analyst</td>\n",
       "      <td>Entertainment</td>\n",
       "      <td>...</td>\n",
       "      <td>17.0</td>\n",
       "      <td>2100.0</td>\n",
       "      <td>New South Wales</td>\n",
       "      <td>Australia</td>\n",
       "      <td>10.0</td>\n",
       "      <td>55.0</td>\n",
       "      <td>10.05</td>\n",
       "      <td>59.09</td>\n",
       "      <td>36.28</td>\n",
       "      <td>2.07</td>\n",
       "    </tr>\n",
       "  </tbody>\n",
       "</table>\n",
       "<p>3415 rows × 22 columns</p>\n",
       "</div>"
      ],
      "text/plain": [
       "      customer_id  standard_cost  online_order  monetary  recency  frequency  \\\n",
       "0               1        6066.36           1.0   9084.45        9         11   \n",
       "1               2        1922.81           0.0   4149.07      130          3   \n",
       "2               3        6525.42           0.0   9888.23      104          8   \n",
       "3               4         827.15           0.0   1047.72      197          2   \n",
       "4               5        3508.26           0.0   5903.20       18          6   \n",
       "...           ...            ...           ...       ...      ...        ...   \n",
       "3410         3496        2679.54           1.0   4725.38      258          4   \n",
       "3411         3497        2095.75           1.0   3744.07       54          3   \n",
       "3412         3498        2029.73           1.0   5177.06      129          6   \n",
       "3413         3499        2718.23           1.0   7673.48       53          7   \n",
       "3414         3500        3136.55           0.0   4922.41      146          6   \n",
       "\n",
       "      gender  past_3_years_bike_related_purchases  \\\n",
       "0     Female                                 93.0   \n",
       "1       Male                                 81.0   \n",
       "2       Male                                 61.0   \n",
       "3       Male                                 33.0   \n",
       "4     Female                                 56.0   \n",
       "...      ...                                  ...   \n",
       "3410    Male                                 99.0   \n",
       "3411  Female                                 73.0   \n",
       "3412  Female                                 28.0   \n",
       "3413    Male                                 29.0   \n",
       "3414  Female                                 71.0   \n",
       "\n",
       "                                 job_title job_industry_category  ... tenure  \\\n",
       "0                      Executive Secretary                Health  ...   11.0   \n",
       "1                   Administrative Officer    Financial Services  ...   16.0   \n",
       "2     Business Systems Development Analyst         Manufacturing  ...   15.0   \n",
       "3     Business Systems Development Analyst                    IT  ...    7.0   \n",
       "4                            Senior Editor         Manufacturing  ...    8.0   \n",
       "...                                    ...                   ...  ...    ...   \n",
       "3410                                Editor         Manufacturing  ...   19.0   \n",
       "3411           Administrative Assistant IV         Manufacturing  ...   18.0   \n",
       "3412  Business Systems Development Analyst         Manufacturing  ...    5.0   \n",
       "3413  Business Systems Development Analyst         Manufacturing  ...    7.0   \n",
       "3414  Business Systems Development Analyst         Entertainment  ...   17.0   \n",
       "\n",
       "      postcode            state    country property_valuation   age  \\\n",
       "0       2016.0  New South Wales  Australia               10.0  69.0   \n",
       "1       2153.0  New South Wales  Australia               10.0  42.0   \n",
       "2       2170.0  New South Wales  Australia                8.0  68.0   \n",
       "3       4211.0       Queensland  Australia                9.0  61.0   \n",
       "4       2448.0  New South Wales  Australia                4.0  45.0   \n",
       "...        ...              ...        ...                ...   ...   \n",
       "3410    2171.0  New South Wales  Australia                9.0  36.0   \n",
       "3411    3976.0         Victoria  Australia                5.0  36.0   \n",
       "3412    3012.0         Victoria  Australia                4.0  27.0   \n",
       "3413    4073.0       Queensland  Australia                9.0  43.0   \n",
       "3414    2100.0  New South Wales  Australia               10.0  55.0   \n",
       "\n",
       "      R_rank_norm  F_rank_norm  M_rank_norm  RFM_Score  \n",
       "0           90.21        98.04        83.81       4.94  \n",
       "1           13.43        13.05        25.42       1.03  \n",
       "2           19.59        84.68        88.40       3.94  \n",
       "3            4.08         4.61         1.76       0.18  \n",
       "4           77.95        59.09        49.69       3.25  \n",
       "...           ...          ...          ...        ...  \n",
       "3410         1.36        25.94        33.56       1.31  \n",
       "3411        45.16        13.05        20.59       1.31  \n",
       "3412        13.59        59.09        39.94       2.20  \n",
       "3413        45.81        73.93        71.30       3.65  \n",
       "3414        10.05        59.09        36.28       2.07  \n",
       "\n",
       "[3415 rows x 22 columns]"
      ]
     },
     "execution_count": 104,
     "metadata": {},
     "output_type": "execute_result"
    }
   ],
   "source": [
    "all_customer_details"
   ]
  },
  {
   "cell_type": "code",
   "execution_count": 105,
   "id": "a7e75759",
   "metadata": {},
   "outputs": [
    {
     "data": {
      "text/html": [
       "<div>\n",
       "<style scoped>\n",
       "    .dataframe tbody tr th:only-of-type {\n",
       "        vertical-align: middle;\n",
       "    }\n",
       "\n",
       "    .dataframe tbody tr th {\n",
       "        vertical-align: top;\n",
       "    }\n",
       "\n",
       "    .dataframe thead th {\n",
       "        text-align: right;\n",
       "    }\n",
       "</style>\n",
       "<table border=\"1\" class=\"dataframe\">\n",
       "  <thead>\n",
       "    <tr style=\"text-align: right;\">\n",
       "      <th></th>\n",
       "      <th>recency</th>\n",
       "      <th>frequency</th>\n",
       "      <th>monetary</th>\n",
       "      <th>RFM_Score</th>\n",
       "    </tr>\n",
       "  </thead>\n",
       "  <tbody>\n",
       "    <tr>\n",
       "      <th>count</th>\n",
       "      <td>3415.000000</td>\n",
       "      <td>3415.000000</td>\n",
       "      <td>3415.000000</td>\n",
       "      <td>3415.000000</td>\n",
       "    </tr>\n",
       "    <tr>\n",
       "      <th>mean</th>\n",
       "      <td>64.091654</td>\n",
       "      <td>5.615813</td>\n",
       "      <td>6212.168067</td>\n",
       "      <td>2.755192</td>\n",
       "    </tr>\n",
       "    <tr>\n",
       "      <th>std</th>\n",
       "      <td>58.717015</td>\n",
       "      <td>2.296552</td>\n",
       "      <td>2927.980764</td>\n",
       "      <td>1.339610</td>\n",
       "    </tr>\n",
       "    <tr>\n",
       "      <th>min</th>\n",
       "      <td>2.000000</td>\n",
       "      <td>1.000000</td>\n",
       "      <td>60.340000</td>\n",
       "      <td>0.020000</td>\n",
       "    </tr>\n",
       "    <tr>\n",
       "      <th>25%</th>\n",
       "      <td>20.000000</td>\n",
       "      <td>4.000000</td>\n",
       "      <td>4112.745000</td>\n",
       "      <td>1.680000</td>\n",
       "    </tr>\n",
       "    <tr>\n",
       "      <th>50%</th>\n",
       "      <td>47.000000</td>\n",
       "      <td>5.000000</td>\n",
       "      <td>5930.270000</td>\n",
       "      <td>2.750000</td>\n",
       "    </tr>\n",
       "    <tr>\n",
       "      <th>75%</th>\n",
       "      <td>89.000000</td>\n",
       "      <td>7.000000</td>\n",
       "      <td>8059.600000</td>\n",
       "      <td>3.850000</td>\n",
       "    </tr>\n",
       "    <tr>\n",
       "      <th>max</th>\n",
       "      <td>355.000000</td>\n",
       "      <td>14.000000</td>\n",
       "      <td>19071.320000</td>\n",
       "      <td>5.460000</td>\n",
       "    </tr>\n",
       "  </tbody>\n",
       "</table>\n",
       "</div>"
      ],
      "text/plain": [
       "           recency    frequency      monetary    RFM_Score\n",
       "count  3415.000000  3415.000000   3415.000000  3415.000000\n",
       "mean     64.091654     5.615813   6212.168067     2.755192\n",
       "std      58.717015     2.296552   2927.980764     1.339610\n",
       "min       2.000000     1.000000     60.340000     0.020000\n",
       "25%      20.000000     4.000000   4112.745000     1.680000\n",
       "50%      47.000000     5.000000   5930.270000     2.750000\n",
       "75%      89.000000     7.000000   8059.600000     3.850000\n",
       "max     355.000000    14.000000  19071.320000     5.460000"
      ]
     },
     "execution_count": 105,
     "metadata": {},
     "output_type": "execute_result"
    }
   ],
   "source": [
    "all_customer_details[['recency','frequency','monetary','RFM_Score']].describe()"
   ]
  },
  {
   "cell_type": "code",
   "execution_count": 106,
   "id": "23883bf1",
   "metadata": {},
   "outputs": [
    {
     "name": "stderr",
     "output_type": "stream",
     "text": [
      "C:\\Users\\chand\\anaconda3\\lib\\site-packages\\seaborn\\distributions.py:2619: FutureWarning: `distplot` is a deprecated function and will be removed in a future version. Please adapt your code to use either `displot` (a figure-level function with similar flexibility) or `histplot` (an axes-level function for histograms).\n",
      "  warnings.warn(msg, FutureWarning)\n"
     ]
    },
    {
     "data": {
      "image/png": "[encoded data removed]",
      "text/plain": [
       "<Figure size 432x288 with 1 Axes>"
      ]
     },
     "metadata": {
      "needs_background": "light"
     },
     "output_type": "display_data"
    }
   ],
   "source": [
    "import seaborn as sns\n",
    "ax = sns.distplot(all_customer_details['RFM_Score'], color=\"y\")"
   ]
  },
  {
   "cell_type": "markdown",
   "id": "e98aebcb",
   "metadata": {},
   "source": [
    "##### Rating Customer based upon the RFM score\n",
    "* rfm score >4.50 : 'Premium Customer'<br>\n",
    "* 4.50 > rfm score > 4.00 : 'High Value Customer'<br>\n",
    "* 4.00>rfm score >3.00 : 'Loyal Customer'<br>\n",
    "* 3.00>rfm score>1.50 : 'Budget Customer'<br>\n",
    "* rfm score<1.50 : 'Low-value customer'<br>"
   ]
  },
  {
   "cell_type": "code",
   "execution_count": 107,
   "id": "7cca292b",
   "metadata": {},
   "outputs": [],
   "source": [
    "conditions = [(all_customer_details['RFM_Score']>=4.50),\n",
    "              (all_customer_details['RFM_Score']<4.50)& (all_customer_details['RFM_Score']>=4.00),\n",
    "              (all_customer_details['RFM_Score']<4.00)& (all_customer_details['RFM_Score']>=3.00),\n",
    "              (all_customer_details['RFM_Score']<3.00)& (all_customer_details['RFM_Score']>=1.50),\n",
    "              (all_customer_details['RFM_Score']<1.50)]\n",
    "\n",
    "choices = ['Premium Customer','High Value Customer','Loyal Customer','Budget Customer','Low-value customer']\n",
    "all_customer_details['Customer_segment'] = np.select(conditions, choices, default=np.nan)"
   ]
  },
  {
   "cell_type": "code",
   "execution_count": 132,
   "id": "fe27c55a",
   "metadata": {},
   "outputs": [],
   "source": [
    "#all_customer_details.to_excel(\"all_customer_details.xlsx\")  "
   ]
  },
  {
   "cell_type": "markdown",
   "id": "b0e3d9ba",
   "metadata": {},
   "source": [
    "## <span style='color:Blue'> Load New customer details </span>\n"
   ]
  },
  {
   "cell_type": "code",
   "execution_count": 133,
   "id": "3fc620fa",
   "metadata": {},
   "outputs": [
    {
     "name": "stderr",
     "output_type": "stream",
     "text": [
      "C:\\Users\\chand\\AppData\\Local\\Temp/ipykernel_2940/2602960791.py:1: FutureWarning: Inferring datetime64[ns] from data containing strings is deprecated and will be removed in a future version. To retain the old behavior explicitly pass Series(data, dtype={value.dtype})\n",
      "  new_customers = pd.read_excel(excel_sheet, sheet_name=2, header=1)\n"
     ]
    }
   ],
   "source": [
    "new_customers = pd.read_excel(excel_sheet, sheet_name=2, header=1)\n",
    "#isinstance(transactions, pd.DataFrame)"
   ]
  },
  {
   "cell_type": "code",
   "execution_count": 134,
   "id": "e009b600",
   "metadata": {},
   "outputs": [
    {
     "data": {
      "text/html": [
       "<div>\n",
       "<style scoped>\n",
       "    .dataframe tbody tr th:only-of-type {\n",
       "        vertical-align: middle;\n",
       "    }\n",
       "\n",
       "    .dataframe tbody tr th {\n",
       "        vertical-align: top;\n",
       "    }\n",
       "\n",
       "    .dataframe thead th {\n",
       "        text-align: right;\n",
       "    }\n",
       "</style>\n",
       "<table border=\"1\" class=\"dataframe\">\n",
       "  <thead>\n",
       "    <tr style=\"text-align: right;\">\n",
       "      <th></th>\n",
       "      <th>first_name</th>\n",
       "      <th>last_name</th>\n",
       "      <th>gender</th>\n",
       "      <th>past_3_years_bike_related_purchases</th>\n",
       "      <th>DOB</th>\n",
       "      <th>job_title</th>\n",
       "      <th>job_industry_category</th>\n",
       "      <th>wealth_segment</th>\n",
       "      <th>deceased_indicator</th>\n",
       "      <th>owns_car</th>\n",
       "      <th>...</th>\n",
       "      <th>state</th>\n",
       "      <th>country</th>\n",
       "      <th>property_valuation</th>\n",
       "      <th>Unnamed: 16</th>\n",
       "      <th>Unnamed: 17</th>\n",
       "      <th>Unnamed: 18</th>\n",
       "      <th>Unnamed: 19</th>\n",
       "      <th>Unnamed: 20</th>\n",
       "      <th>Rank</th>\n",
       "      <th>Value</th>\n",
       "    </tr>\n",
       "  </thead>\n",
       "  <tbody>\n",
       "    <tr>\n",
       "      <th>0</th>\n",
       "      <td>Chickie</td>\n",
       "      <td>Brister</td>\n",
       "      <td>Male</td>\n",
       "      <td>86</td>\n",
       "      <td>1957-07-12</td>\n",
       "      <td>General Manager</td>\n",
       "      <td>Manufacturing</td>\n",
       "      <td>Mass Customer</td>\n",
       "      <td>N</td>\n",
       "      <td>Yes</td>\n",
       "      <td>...</td>\n",
       "      <td>QLD</td>\n",
       "      <td>Australia</td>\n",
       "      <td>6</td>\n",
       "      <td>0.63</td>\n",
       "      <td>0.7875</td>\n",
       "      <td>0.984375</td>\n",
       "      <td>0.836719</td>\n",
       "      <td>1</td>\n",
       "      <td>1</td>\n",
       "      <td>1.718750</td>\n",
       "    </tr>\n",
       "    <tr>\n",
       "      <th>1</th>\n",
       "      <td>Morly</td>\n",
       "      <td>Genery</td>\n",
       "      <td>Male</td>\n",
       "      <td>69</td>\n",
       "      <td>1970-03-22</td>\n",
       "      <td>Structural Engineer</td>\n",
       "      <td>Property</td>\n",
       "      <td>Mass Customer</td>\n",
       "      <td>N</td>\n",
       "      <td>No</td>\n",
       "      <td>...</td>\n",
       "      <td>NSW</td>\n",
       "      <td>Australia</td>\n",
       "      <td>11</td>\n",
       "      <td>0.48</td>\n",
       "      <td>0.4800</td>\n",
       "      <td>0.600000</td>\n",
       "      <td>0.510000</td>\n",
       "      <td>1</td>\n",
       "      <td>1</td>\n",
       "      <td>1.718750</td>\n",
       "    </tr>\n",
       "    <tr>\n",
       "      <th>2</th>\n",
       "      <td>Ardelis</td>\n",
       "      <td>Forrester</td>\n",
       "      <td>Female</td>\n",
       "      <td>10</td>\n",
       "      <td>1974-08-28</td>\n",
       "      <td>Senior Cost Accountant</td>\n",
       "      <td>Financial Services</td>\n",
       "      <td>Affluent Customer</td>\n",
       "      <td>N</td>\n",
       "      <td>No</td>\n",
       "      <td>...</td>\n",
       "      <td>VIC</td>\n",
       "      <td>Australia</td>\n",
       "      <td>5</td>\n",
       "      <td>0.96</td>\n",
       "      <td>0.9600</td>\n",
       "      <td>0.960000</td>\n",
       "      <td>0.960000</td>\n",
       "      <td>1</td>\n",
       "      <td>1</td>\n",
       "      <td>1.718750</td>\n",
       "    </tr>\n",
       "    <tr>\n",
       "      <th>3</th>\n",
       "      <td>Lucine</td>\n",
       "      <td>Stutt</td>\n",
       "      <td>Female</td>\n",
       "      <td>64</td>\n",
       "      <td>1979-01-28</td>\n",
       "      <td>Account Representative III</td>\n",
       "      <td>Manufacturing</td>\n",
       "      <td>Affluent Customer</td>\n",
       "      <td>N</td>\n",
       "      <td>Yes</td>\n",
       "      <td>...</td>\n",
       "      <td>QLD</td>\n",
       "      <td>Australia</td>\n",
       "      <td>1</td>\n",
       "      <td>0.86</td>\n",
       "      <td>1.0750</td>\n",
       "      <td>1.075000</td>\n",
       "      <td>1.075000</td>\n",
       "      <td>4</td>\n",
       "      <td>4</td>\n",
       "      <td>1.703125</td>\n",
       "    </tr>\n",
       "    <tr>\n",
       "      <th>4</th>\n",
       "      <td>Melinda</td>\n",
       "      <td>Hadlee</td>\n",
       "      <td>Female</td>\n",
       "      <td>34</td>\n",
       "      <td>1965-09-21</td>\n",
       "      <td>Financial Analyst</td>\n",
       "      <td>Financial Services</td>\n",
       "      <td>Affluent Customer</td>\n",
       "      <td>N</td>\n",
       "      <td>No</td>\n",
       "      <td>...</td>\n",
       "      <td>NSW</td>\n",
       "      <td>Australia</td>\n",
       "      <td>9</td>\n",
       "      <td>0.68</td>\n",
       "      <td>0.6800</td>\n",
       "      <td>0.850000</td>\n",
       "      <td>0.850000</td>\n",
       "      <td>4</td>\n",
       "      <td>4</td>\n",
       "      <td>1.703125</td>\n",
       "    </tr>\n",
       "  </tbody>\n",
       "</table>\n",
       "<p>5 rows × 23 columns</p>\n",
       "</div>"
      ],
      "text/plain": [
       "  first_name  last_name  gender  past_3_years_bike_related_purchases  \\\n",
       "0    Chickie    Brister    Male                                   86   \n",
       "1      Morly     Genery    Male                                   69   \n",
       "2    Ardelis  Forrester  Female                                   10   \n",
       "3     Lucine      Stutt  Female                                   64   \n",
       "4    Melinda     Hadlee  Female                                   34   \n",
       "\n",
       "         DOB                   job_title job_industry_category  \\\n",
       "0 1957-07-12             General Manager         Manufacturing   \n",
       "1 1970-03-22         Structural Engineer              Property   \n",
       "2 1974-08-28      Senior Cost Accountant    Financial Services   \n",
       "3 1979-01-28  Account Representative III         Manufacturing   \n",
       "4 1965-09-21           Financial Analyst    Financial Services   \n",
       "\n",
       "      wealth_segment deceased_indicator owns_car  ...  state    country  \\\n",
       "0      Mass Customer                  N      Yes  ...    QLD  Australia   \n",
       "1      Mass Customer                  N       No  ...    NSW  Australia   \n",
       "2  Affluent Customer                  N       No  ...    VIC  Australia   \n",
       "3  Affluent Customer                  N      Yes  ...    QLD  Australia   \n",
       "4  Affluent Customer                  N       No  ...    NSW  Australia   \n",
       "\n",
       "   property_valuation Unnamed: 16 Unnamed: 17  Unnamed: 18  Unnamed: 19  \\\n",
       "0                   6        0.63      0.7875     0.984375     0.836719   \n",
       "1                  11        0.48      0.4800     0.600000     0.510000   \n",
       "2                   5        0.96      0.9600     0.960000     0.960000   \n",
       "3                   1        0.86      1.0750     1.075000     1.075000   \n",
       "4                   9        0.68      0.6800     0.850000     0.850000   \n",
       "\n",
       "   Unnamed: 20  Rank     Value  \n",
       "0            1     1  1.718750  \n",
       "1            1     1  1.718750  \n",
       "2            1     1  1.718750  \n",
       "3            4     4  1.703125  \n",
       "4            4     4  1.703125  \n",
       "\n",
       "[5 rows x 23 columns]"
      ]
     },
     "execution_count": 134,
     "metadata": {},
     "output_type": "execute_result"
    }
   ],
   "source": [
    "new_customers.head()"
   ]
  },
  {
   "cell_type": "code",
   "execution_count": 135,
   "id": "7c156602",
   "metadata": {},
   "outputs": [
    {
     "data": {
      "text/html": [
       "<div>\n",
       "<style scoped>\n",
       "    .dataframe tbody tr th:only-of-type {\n",
       "        vertical-align: middle;\n",
       "    }\n",
       "\n",
       "    .dataframe tbody tr th {\n",
       "        vertical-align: top;\n",
       "    }\n",
       "\n",
       "    .dataframe thead th {\n",
       "        text-align: right;\n",
       "    }\n",
       "</style>\n",
       "<table border=\"1\" class=\"dataframe\">\n",
       "  <thead>\n",
       "    <tr style=\"text-align: right;\">\n",
       "      <th></th>\n",
       "      <th>first_name</th>\n",
       "      <th>last_name</th>\n",
       "      <th>gender</th>\n",
       "      <th>past_3_years_bike_related_purchases</th>\n",
       "      <th>DOB</th>\n",
       "      <th>job_title</th>\n",
       "      <th>job_industry_category</th>\n",
       "      <th>wealth_segment</th>\n",
       "      <th>deceased_indicator</th>\n",
       "      <th>owns_car</th>\n",
       "      <th>...</th>\n",
       "      <th>state</th>\n",
       "      <th>country</th>\n",
       "      <th>property_valuation</th>\n",
       "      <th>Unnamed: 16</th>\n",
       "      <th>Unnamed: 17</th>\n",
       "      <th>Unnamed: 18</th>\n",
       "      <th>Unnamed: 19</th>\n",
       "      <th>Unnamed: 20</th>\n",
       "      <th>Rank</th>\n",
       "      <th>Value</th>\n",
       "    </tr>\n",
       "  </thead>\n",
       "  <tbody>\n",
       "    <tr>\n",
       "      <th>995</th>\n",
       "      <td>Ferdinand</td>\n",
       "      <td>Romanetti</td>\n",
       "      <td>Male</td>\n",
       "      <td>60</td>\n",
       "      <td>1959-10-07</td>\n",
       "      <td>Paralegal</td>\n",
       "      <td>Financial Services</td>\n",
       "      <td>Affluent Customer</td>\n",
       "      <td>N</td>\n",
       "      <td>No</td>\n",
       "      <td>...</td>\n",
       "      <td>NSW</td>\n",
       "      <td>Australia</td>\n",
       "      <td>7</td>\n",
       "      <td>0.70</td>\n",
       "      <td>0.7000</td>\n",
       "      <td>0.70000</td>\n",
       "      <td>0.700000</td>\n",
       "      <td>996</td>\n",
       "      <td>996</td>\n",
       "      <td>0.374</td>\n",
       "    </tr>\n",
       "    <tr>\n",
       "      <th>996</th>\n",
       "      <td>Burk</td>\n",
       "      <td>Wortley</td>\n",
       "      <td>Male</td>\n",
       "      <td>22</td>\n",
       "      <td>2001-10-17</td>\n",
       "      <td>Senior Sales Associate</td>\n",
       "      <td>Health</td>\n",
       "      <td>Mass Customer</td>\n",
       "      <td>N</td>\n",
       "      <td>No</td>\n",
       "      <td>...</td>\n",
       "      <td>NSW</td>\n",
       "      <td>Australia</td>\n",
       "      <td>10</td>\n",
       "      <td>0.87</td>\n",
       "      <td>0.8700</td>\n",
       "      <td>1.08750</td>\n",
       "      <td>0.924375</td>\n",
       "      <td>997</td>\n",
       "      <td>997</td>\n",
       "      <td>0.357</td>\n",
       "    </tr>\n",
       "    <tr>\n",
       "      <th>997</th>\n",
       "      <td>Melloney</td>\n",
       "      <td>Temby</td>\n",
       "      <td>Female</td>\n",
       "      <td>17</td>\n",
       "      <td>1954-10-05</td>\n",
       "      <td>Budget/Accounting Analyst IV</td>\n",
       "      <td>Financial Services</td>\n",
       "      <td>Affluent Customer</td>\n",
       "      <td>N</td>\n",
       "      <td>Yes</td>\n",
       "      <td>...</td>\n",
       "      <td>QLD</td>\n",
       "      <td>Australia</td>\n",
       "      <td>2</td>\n",
       "      <td>0.71</td>\n",
       "      <td>0.8875</td>\n",
       "      <td>0.88750</td>\n",
       "      <td>0.887500</td>\n",
       "      <td>997</td>\n",
       "      <td>997</td>\n",
       "      <td>0.357</td>\n",
       "    </tr>\n",
       "    <tr>\n",
       "      <th>998</th>\n",
       "      <td>Dickie</td>\n",
       "      <td>Cubbini</td>\n",
       "      <td>Male</td>\n",
       "      <td>30</td>\n",
       "      <td>1952-12-17</td>\n",
       "      <td>Financial Advisor</td>\n",
       "      <td>Financial Services</td>\n",
       "      <td>Mass Customer</td>\n",
       "      <td>N</td>\n",
       "      <td>Yes</td>\n",
       "      <td>...</td>\n",
       "      <td>QLD</td>\n",
       "      <td>Australia</td>\n",
       "      <td>2</td>\n",
       "      <td>0.48</td>\n",
       "      <td>0.6000</td>\n",
       "      <td>0.60000</td>\n",
       "      <td>0.510000</td>\n",
       "      <td>997</td>\n",
       "      <td>997</td>\n",
       "      <td>0.357</td>\n",
       "    </tr>\n",
       "    <tr>\n",
       "      <th>999</th>\n",
       "      <td>Sylas</td>\n",
       "      <td>Duffill</td>\n",
       "      <td>Male</td>\n",
       "      <td>56</td>\n",
       "      <td>1955-10-02</td>\n",
       "      <td>Staff Accountant IV</td>\n",
       "      <td>Property</td>\n",
       "      <td>Mass Customer</td>\n",
       "      <td>N</td>\n",
       "      <td>Yes</td>\n",
       "      <td>...</td>\n",
       "      <td>NSW</td>\n",
       "      <td>Australia</td>\n",
       "      <td>9</td>\n",
       "      <td>0.70</td>\n",
       "      <td>0.8750</td>\n",
       "      <td>1.09375</td>\n",
       "      <td>0.929688</td>\n",
       "      <td>1000</td>\n",
       "      <td>1000</td>\n",
       "      <td>0.340</td>\n",
       "    </tr>\n",
       "  </tbody>\n",
       "</table>\n",
       "<p>5 rows × 23 columns</p>\n",
       "</div>"
      ],
      "text/plain": [
       "    first_name  last_name  gender  past_3_years_bike_related_purchases  \\\n",
       "995  Ferdinand  Romanetti    Male                                   60   \n",
       "996       Burk    Wortley    Male                                   22   \n",
       "997   Melloney      Temby  Female                                   17   \n",
       "998     Dickie    Cubbini    Male                                   30   \n",
       "999      Sylas    Duffill    Male                                   56   \n",
       "\n",
       "           DOB                     job_title job_industry_category  \\\n",
       "995 1959-10-07                     Paralegal    Financial Services   \n",
       "996 2001-10-17        Senior Sales Associate                Health   \n",
       "997 1954-10-05  Budget/Accounting Analyst IV    Financial Services   \n",
       "998 1952-12-17             Financial Advisor    Financial Services   \n",
       "999 1955-10-02           Staff Accountant IV              Property   \n",
       "\n",
       "        wealth_segment deceased_indicator owns_car  ...  state    country  \\\n",
       "995  Affluent Customer                  N       No  ...    NSW  Australia   \n",
       "996      Mass Customer                  N       No  ...    NSW  Australia   \n",
       "997  Affluent Customer                  N      Yes  ...    QLD  Australia   \n",
       "998      Mass Customer                  N      Yes  ...    QLD  Australia   \n",
       "999      Mass Customer                  N      Yes  ...    NSW  Australia   \n",
       "\n",
       "     property_valuation Unnamed: 16 Unnamed: 17  Unnamed: 18  Unnamed: 19  \\\n",
       "995                   7        0.70      0.7000      0.70000     0.700000   \n",
       "996                  10        0.87      0.8700      1.08750     0.924375   \n",
       "997                   2        0.71      0.8875      0.88750     0.887500   \n",
       "998                   2        0.48      0.6000      0.60000     0.510000   \n",
       "999                   9        0.70      0.8750      1.09375     0.929688   \n",
       "\n",
       "     Unnamed: 20  Rank  Value  \n",
       "995          996   996  0.374  \n",
       "996          997   997  0.357  \n",
       "997          997   997  0.357  \n",
       "998          997   997  0.357  \n",
       "999         1000  1000  0.340  \n",
       "\n",
       "[5 rows x 23 columns]"
      ]
     },
     "execution_count": 135,
     "metadata": {},
     "output_type": "execute_result"
    }
   ],
   "source": [
    "new_customers.tail()"
   ]
  },
  {
   "cell_type": "code",
   "execution_count": 136,
   "id": "77eddc8b",
   "metadata": {},
   "outputs": [
    {
     "name": "stdout",
     "output_type": "stream",
     "text": [
      "\u001b[1mThere are 1000 rows and 23 columns in the dataset. \n",
      "\u001b[0m\n",
      "\u001b[1m\u001b[94mLet's look at the data types available in the dataset\u001b[0m\n",
      "<class 'pandas.core.frame.DataFrame'>\n",
      "RangeIndex: 1000 entries, 0 to 999\n",
      "Data columns (total 23 columns):\n",
      " #   Column                               Non-Null Count  Dtype         \n",
      "---  ------                               --------------  -----         \n",
      " 0   first_name                           1000 non-null   object        \n",
      " 1   last_name                            971 non-null    object        \n",
      " 2   gender                               1000 non-null   object        \n",
      " 3   past_3_years_bike_related_purchases  1000 non-null   int64         \n",
      " 4   DOB                                  983 non-null    datetime64[ns]\n",
      " 5   job_title                            894 non-null    object        \n",
      " 6   job_industry_category                835 non-null    object        \n",
      " 7   wealth_segment                       1000 non-null   object        \n",
      " 8   deceased_indicator                   1000 non-null   object        \n",
      " 9   owns_car                             1000 non-null   object        \n",
      " 10  tenure                               1000 non-null   int64         \n",
      " 11  address                              1000 non-null   object        \n",
      " 12  postcode                             1000 non-null   int64         \n",
      " 13  state                                1000 non-null   object        \n",
      " 14  country                              1000 non-null   object        \n",
      " 15  property_valuation                   1000 non-null   int64         \n",
      " 16  Unnamed: 16                          1000 non-null   float64       \n",
      " 17  Unnamed: 17                          1000 non-null   float64       \n",
      " 18  Unnamed: 18                          1000 non-null   float64       \n",
      " 19  Unnamed: 19                          1000 non-null   float64       \n",
      " 20  Unnamed: 20                          1000 non-null   int64         \n",
      " 21  Rank                                 1000 non-null   int64         \n",
      " 22  Value                                1000 non-null   float64       \n",
      "dtypes: datetime64[ns](1), float64(5), int64(6), object(11)\n",
      "memory usage: 179.8+ KB\n"
     ]
    }
   ],
   "source": [
    "print(color.BOLD + \"There are {} rows and {} columns in the dataset.\".format(new_customers.shape[0],new_customers.shape[1]),\"\\n\"+ color.END)\n",
    "print(color.BOLD +color.BLUE +\"Let's look at the data types available in the dataset\"+ color.END)\n",
    "new_customers.info()"
   ]
  },
  {
   "cell_type": "markdown",
   "id": "79d443e6",
   "metadata": {},
   "source": [
    "There are some unnamed columns we will delete these columns.<br>\n",
    "We can also delete first_name, last_name"
   ]
  },
  {
   "cell_type": "code",
   "execution_count": 137,
   "id": "644dbd86",
   "metadata": {},
   "outputs": [],
   "source": [
    "new_customers.drop(['Unnamed: 16','Unnamed: 17','Unnamed: 18','Unnamed: 19','Unnamed: 20','first_name', 'last_name','Rank','Value','address'], axis = 1, inplace=True)"
   ]
  },
  {
   "cell_type": "markdown",
   "id": "f8642bef",
   "metadata": {},
   "source": [
    "Create a dummy column called customer_id for convenience"
   ]
  },
  {
   "cell_type": "code",
   "execution_count": 138,
   "id": "93e7ecc0",
   "metadata": {},
   "outputs": [],
   "source": [
    "new_customers['customer_id'] = new_customers.index"
   ]
  },
  {
   "cell_type": "markdown",
   "id": "0eca602b",
   "metadata": {},
   "source": [
    "### <span style='color:green'>Change datatypes</span>"
   ]
  },
  {
   "cell_type": "code",
   "execution_count": 139,
   "id": "6ff6a8b4",
   "metadata": {},
   "outputs": [],
   "source": [
    "# Change customer_id and postcode to objects\n",
    "new_customers['customer_id'] = new_customers['customer_id'].astype(object)\n",
    "new_customers['postcode'] = new_customers['postcode'].astype(object)"
   ]
  },
  {
   "cell_type": "markdown",
   "id": "db2de081",
   "metadata": {},
   "source": [
    "### <span style='color:green'>Create new columns</span>"
   ]
  },
  {
   "cell_type": "markdown",
   "id": "9291ec32",
   "metadata": {},
   "source": [
    "### age"
   ]
  },
  {
   "cell_type": "code",
   "execution_count": 140,
   "id": "0b79f565",
   "metadata": {},
   "outputs": [],
   "source": [
    "current_year = dt.datetime.now().year #get current year\n",
    "new_customers['year'] = pd.DatetimeIndex(new_customers['DOB']).year\n",
    "new_customers[\"age\"] = new_customers['year'].apply(lambda x: current_year-x)  # substract to get the year delta"
   ]
  },
  {
   "cell_type": "code",
   "execution_count": 141,
   "id": "94f51b96",
   "metadata": {},
   "outputs": [],
   "source": [
    "# after calculating age we can drop DOB and year columns\n",
    "new_customers.drop(['DOB','year'], axis = 1, inplace=True)"
   ]
  },
  {
   "cell_type": "code",
   "execution_count": 142,
   "id": "31386807",
   "metadata": {},
   "outputs": [
    {
     "name": "stdout",
     "output_type": "stream",
     "text": [
      "\u001b[1m\u001b[94m\n",
      " Summary statistics of dataset\u001b[0m\n"
     ]
    },
    {
     "data": {
      "text/html": [
       "<div>\n",
       "<style scoped>\n",
       "    .dataframe tbody tr th:only-of-type {\n",
       "        vertical-align: middle;\n",
       "    }\n",
       "\n",
       "    .dataframe tbody tr th {\n",
       "        vertical-align: top;\n",
       "    }\n",
       "\n",
       "    .dataframe thead th {\n",
       "        text-align: right;\n",
       "    }\n",
       "</style>\n",
       "<table border=\"1\" class=\"dataframe\">\n",
       "  <thead>\n",
       "    <tr style=\"text-align: right;\">\n",
       "      <th></th>\n",
       "      <th>past_3_years_bike_related_purchases</th>\n",
       "      <th>tenure</th>\n",
       "      <th>property_valuation</th>\n",
       "      <th>age</th>\n",
       "    </tr>\n",
       "  </thead>\n",
       "  <tbody>\n",
       "    <tr>\n",
       "      <th>count</th>\n",
       "      <td>1000.000000</td>\n",
       "      <td>1000.000000</td>\n",
       "      <td>1000.000000</td>\n",
       "      <td>983.000000</td>\n",
       "    </tr>\n",
       "    <tr>\n",
       "      <th>mean</th>\n",
       "      <td>49.836000</td>\n",
       "      <td>11.388000</td>\n",
       "      <td>7.397000</td>\n",
       "      <td>51.206511</td>\n",
       "    </tr>\n",
       "    <tr>\n",
       "      <th>std</th>\n",
       "      <td>27.796686</td>\n",
       "      <td>5.037145</td>\n",
       "      <td>2.758804</td>\n",
       "      <td>17.074268</td>\n",
       "    </tr>\n",
       "    <tr>\n",
       "      <th>min</th>\n",
       "      <td>0.000000</td>\n",
       "      <td>0.000000</td>\n",
       "      <td>1.000000</td>\n",
       "      <td>20.000000</td>\n",
       "    </tr>\n",
       "    <tr>\n",
       "      <th>25%</th>\n",
       "      <td>26.750000</td>\n",
       "      <td>7.000000</td>\n",
       "      <td>6.000000</td>\n",
       "      <td>39.000000</td>\n",
       "    </tr>\n",
       "    <tr>\n",
       "      <th>50%</th>\n",
       "      <td>51.000000</td>\n",
       "      <td>11.000000</td>\n",
       "      <td>8.000000</td>\n",
       "      <td>50.000000</td>\n",
       "    </tr>\n",
       "    <tr>\n",
       "      <th>75%</th>\n",
       "      <td>72.000000</td>\n",
       "      <td>15.000000</td>\n",
       "      <td>9.000000</td>\n",
       "      <td>65.000000</td>\n",
       "    </tr>\n",
       "    <tr>\n",
       "      <th>max</th>\n",
       "      <td>99.000000</td>\n",
       "      <td>22.000000</td>\n",
       "      <td>12.000000</td>\n",
       "      <td>84.000000</td>\n",
       "    </tr>\n",
       "  </tbody>\n",
       "</table>\n",
       "</div>"
      ],
      "text/plain": [
       "       past_3_years_bike_related_purchases       tenure  property_valuation  \\\n",
       "count                          1000.000000  1000.000000         1000.000000   \n",
       "mean                             49.836000    11.388000            7.397000   \n",
       "std                              27.796686     5.037145            2.758804   \n",
       "min                               0.000000     0.000000            1.000000   \n",
       "25%                              26.750000     7.000000            6.000000   \n",
       "50%                              51.000000    11.000000            8.000000   \n",
       "75%                              72.000000    15.000000            9.000000   \n",
       "max                              99.000000    22.000000           12.000000   \n",
       "\n",
       "              age  \n",
       "count  983.000000  \n",
       "mean    51.206511  \n",
       "std     17.074268  \n",
       "min     20.000000  \n",
       "25%     39.000000  \n",
       "50%     50.000000  \n",
       "75%     65.000000  \n",
       "max     84.000000  "
      ]
     },
     "execution_count": 142,
     "metadata": {},
     "output_type": "execute_result"
    }
   ],
   "source": [
    "print(color.BOLD +color.BLUE +\"\\n\",\"Summary statistics of dataset\"+ color.END)\n",
    "new_customers.describe()"
   ]
  },
  {
   "cell_type": "markdown",
   "id": "d1fc4cb8",
   "metadata": {},
   "source": [
    "### <span style='color:green'>Looking at categorical variables</span>"
   ]
  },
  {
   "cell_type": "code",
   "execution_count": 143,
   "id": "ae9a0fdb",
   "metadata": {
    "scrolled": false
   },
   "outputs": [
    {
     "name": "stdout",
     "output_type": "stream",
     "text": [
      "\u001b[1mNumber of unique values in gender is 3 \n",
      "\u001b[0m\n"
     ]
    },
    {
     "data": {
      "image/png": "[encoded data removed]",
      "text/plain": [
       "<Figure size 360x360 with 1 Axes>"
      ]
     },
     "metadata": {
      "needs_background": "light"
     },
     "output_type": "display_data"
    },
    {
     "name": "stdout",
     "output_type": "stream",
     "text": [
      "\n",
      " -------------------------------------------------------------------------------------------------\n",
      "\u001b[1mNumber of unique values in job_industry_category is 9 \n",
      "\u001b[0m\n"
     ]
    },
    {
     "data": {
      "image/png": "[encoded data removed]",
      "text/plain": [
       "<Figure size 360x360 with 1 Axes>"
      ]
     },
     "metadata": {
      "needs_background": "light"
     },
     "output_type": "display_data"
    },
    {
     "name": "stdout",
     "output_type": "stream",
     "text": [
      "\n",
      " -------------------------------------------------------------------------------------------------\n",
      "\u001b[1mNumber of unique values in wealth_segment is 3 \n",
      "\u001b[0m\n"
     ]
    },
    {
     "data": {
      "image/png": "[encoded data removed]",
      "text/plain": [
       "<Figure size 360x360 with 1 Axes>"
      ]
     },
     "metadata": {
      "needs_background": "light"
     },
     "output_type": "display_data"
    },
    {
     "name": "stdout",
     "output_type": "stream",
     "text": [
      "\n",
      " -------------------------------------------------------------------------------------------------\n",
      "\u001b[1mNumber of unique values in deceased_indicator is 1 \n",
      "\u001b[0m\n"
     ]
    },
    {
     "data": {
      "image/png": "[encoded data removed]",
      "text/plain": [
       "<Figure size 360x360 with 1 Axes>"
      ]
     },
     "metadata": {
      "needs_background": "light"
     },
     "output_type": "display_data"
    },
    {
     "name": "stdout",
     "output_type": "stream",
     "text": [
      "\n",
      " -------------------------------------------------------------------------------------------------\n",
      "\u001b[1mNumber of unique values in owns_car is 2 \n",
      "\u001b[0m\n"
     ]
    },
    {
     "data": {
      "image/png": "[encoded data removed]",
      "text/plain": [
       "<Figure size 360x360 with 1 Axes>"
      ]
     },
     "metadata": {
      "needs_background": "light"
     },
     "output_type": "display_data"
    },
    {
     "name": "stdout",
     "output_type": "stream",
     "text": [
      "\n",
      " -------------------------------------------------------------------------------------------------\n",
      "\u001b[1mNumber of unique values in state is 3 \n",
      "\u001b[0m\n"
     ]
    },
    {
     "data": {
      "image/png": "[encoded data removed]",
      "text/plain": [
       "<Figure size 360x360 with 1 Axes>"
      ]
     },
     "metadata": {
      "needs_background": "light"
     },
     "output_type": "display_data"
    },
    {
     "name": "stdout",
     "output_type": "stream",
     "text": [
      "\n",
      " -------------------------------------------------------------------------------------------------\n",
      "\u001b[1mNumber of unique values in country is 1 \n",
      "\u001b[0m\n"
     ]
    },
    {
     "data": {
      "image/png": "[encoded data removed]",
      "text/plain": [
       "<Figure size 360x360 with 1 Axes>"
      ]
     },
     "metadata": {
      "needs_background": "light"
     },
     "output_type": "display_data"
    },
    {
     "name": "stdout",
     "output_type": "stream",
     "text": [
      "\n",
      " -------------------------------------------------------------------------------------------------\n"
     ]
    }
   ],
   "source": [
    "%matplotlib inline\n",
    "cat_column_list = ['gender','job_industry_category', 'wealth_segment', 'deceased_indicator', 'owns_car', 'state', 'country']\n",
    "\n",
    "for column in cat_column_list:\n",
    "    count_uniques = pd.DataFrame(new_customers[column].value_counts()).rename(columns={column:'Total_Count'}).sort_values('Total_Count',ascending=False)\n",
    "    \n",
    "    # parameters in format function.\n",
    "    print(color.BOLD +\"Number of unique values in {} is {}\".format(column, count_uniques.shape[0]), \"\\n\"+ color.END)\n",
    "\n",
    "    # Create Figure\n",
    "    fig, ax = plt.subplots(figsize=(5,5))\n",
    "\n",
    "    ax = sns.barplot(x=count_uniques.index.values.tolist()  , y=\"Total_Count\", data=count_uniques, palette= 'viridis')\n",
    "    # rotates labels and aligns them horizontally to left \n",
    "    plt.setp( ax.xaxis.get_majorticklabels(), rotation=90, ha=\"left\" )\n",
    "\n",
    "    plt.tight_layout()\n",
    "    plt.show()\n",
    "\n",
    "    print(\"\\n\",'-------------------------------------------------------------------------------------------------')"
   ]
  },
  {
   "cell_type": "markdown",
   "id": "aa3819a7",
   "metadata": {},
   "source": [
    "### gender\n",
    "change \"U\" : \"Unidentified\""
   ]
  },
  {
   "cell_type": "code",
   "execution_count": 144,
   "id": "349d86af",
   "metadata": {},
   "outputs": [],
   "source": [
    "gender_dict = {\"U\" : \"Unidentified\"}\n",
    "new_customers.replace({\"gender\": gender_dict},inplace=True)"
   ]
  },
  {
   "cell_type": "markdown",
   "id": "918858ee",
   "metadata": {},
   "source": [
    "### owns_car\n",
    "Encode owns car to \"Yes\" : 1, \"No\" : 0"
   ]
  },
  {
   "cell_type": "code",
   "execution_count": 145,
   "id": "9b1645a2",
   "metadata": {},
   "outputs": [],
   "source": [
    "car_dict = {\"Yes\" : 1, \"No\" : 0}\n",
    "new_customers.replace({\"owns_car\": car_dict},inplace=True)"
   ]
  },
  {
   "cell_type": "markdown",
   "id": "31582c69",
   "metadata": {},
   "source": [
    "### state\n",
    "In states NSW & New South Wales and also VIC & Victoria are same we can replace those values"
   ]
  },
  {
   "cell_type": "code",
   "execution_count": 146,
   "id": "a3e81f87",
   "metadata": {},
   "outputs": [],
   "source": [
    "state_dict = {\"NSW\" : 'New South Wales', \"VIC\" : 'Victoria', \"QLD\" : 'Queensland'}\n",
    "new_customers.replace({\"state\": state_dict},inplace=True)"
   ]
  },
  {
   "cell_type": "markdown",
   "id": "14ed827e",
   "metadata": {},
   "source": [
    "### drop columns deceased_indicator and country"
   ]
  },
  {
   "cell_type": "code",
   "execution_count": 147,
   "id": "ff991f6d",
   "metadata": {},
   "outputs": [],
   "source": [
    "new_customers.drop(['deceased_indicator','country'], axis = 1, inplace=True)"
   ]
  },
  {
   "cell_type": "markdown",
   "id": "f1082ac5",
   "metadata": {},
   "source": [
    "### <span style='color:green'>Missing Value Treatment</span>"
   ]
  },
  {
   "cell_type": "code",
   "execution_count": 148,
   "id": "0f9eb203",
   "metadata": {},
   "outputs": [
    {
     "name": "stdout",
     "output_type": "stream",
     "text": [
      "\u001b[1m\u001b[94m\n",
      " Null values in the columns of dataset\u001b[0m\n"
     ]
    },
    {
     "data": {
      "text/plain": [
       "gender                                   0\n",
       "past_3_years_bike_related_purchases      0\n",
       "job_title                              106\n",
       "job_industry_category                  165\n",
       "wealth_segment                           0\n",
       "owns_car                                 0\n",
       "tenure                                   0\n",
       "postcode                                 0\n",
       "state                                    0\n",
       "property_valuation                       0\n",
       "customer_id                              0\n",
       "age                                     17\n",
       "dtype: int64"
      ]
     },
     "execution_count": 148,
     "metadata": {},
     "output_type": "execute_result"
    }
   ],
   "source": [
    "print(color.BOLD +color.BLUE +\"\\n\",\"Null values in the columns of dataset\"+ color.END)\n",
    "new_customers.isnull().sum()"
   ]
  },
  {
   "cell_type": "markdown",
   "id": "95ed3aa8",
   "metadata": {},
   "source": [
    "There are some null values in the age, job industry and title column we will replace those as done previously"
   ]
  },
  {
   "cell_type": "markdown",
   "id": "7ea6be28",
   "metadata": {},
   "source": [
    "### job_industry_category"
   ]
  },
  {
   "cell_type": "code",
   "execution_count": 149,
   "id": "85bca3c5",
   "metadata": {},
   "outputs": [],
   "source": [
    "new_customers['job_industry_category'] = new_customers.groupby(['gender','age','postcode'], sort=True)['job_industry_category'].fillna(new_customers['job_industry_category'].mode()[0])"
   ]
  },
  {
   "cell_type": "markdown",
   "id": "c79b107c",
   "metadata": {},
   "source": [
    "replaced the missing values in the job_industry_category with group mode of 'gender','age','postcode'\n",
    "There are still some more values missing replace them with group by state and mode"
   ]
  },
  {
   "cell_type": "code",
   "execution_count": 150,
   "id": "557404df",
   "metadata": {},
   "outputs": [],
   "source": [
    "new_customers['job_industry_category'] = new_customers.groupby(['state'], sort=True)['job_industry_category'].fillna(new_customers['job_industry_category'].mode()[0])"
   ]
  },
  {
   "cell_type": "code",
   "execution_count": 151,
   "id": "858bcbc3",
   "metadata": {},
   "outputs": [],
   "source": [
    "new_customers['job_industry_category'] = new_customers['job_industry_category'].fillna(new_customers['job_industry_category'].mode()[0])"
   ]
  },
  {
   "cell_type": "markdown",
   "id": "79cb3953",
   "metadata": {},
   "source": [
    "### job_title"
   ]
  },
  {
   "cell_type": "code",
   "execution_count": 152,
   "id": "9a6e3311",
   "metadata": {},
   "outputs": [],
   "source": [
    "new_customers['job_title'] = new_customers.groupby(['gender','age','job_industry_category','postcode'], sort=True)['job_title'].fillna(new_customers[\"job_title\"].mode()[0])"
   ]
  },
  {
   "cell_type": "markdown",
   "id": "6a5f6053",
   "metadata": {},
   "source": [
    "replaced the missing values in the job_title with group mode of 'gender','age','job_industry_category','postcode'"
   ]
  },
  {
   "cell_type": "code",
   "execution_count": 153,
   "id": "78d127f0",
   "metadata": {},
   "outputs": [],
   "source": [
    "new_customers['job_title'] = new_customers.groupby(['state','job_industry_category'], sort=True)['job_title'].fillna(new_customers[\"job_title\"].mode()[0])"
   ]
  },
  {
   "cell_type": "markdown",
   "id": "efbddd17",
   "metadata": {},
   "source": [
    "replaced the missing values in the job_title with group mode of 'state' & 'job_industry_category'"
   ]
  },
  {
   "cell_type": "code",
   "execution_count": 154,
   "id": "0e0e6083",
   "metadata": {},
   "outputs": [],
   "source": [
    "new_customers['job_title'] = new_customers['job_title'].fillna(new_customers[\"job_title\"].mode()[0])"
   ]
  },
  {
   "cell_type": "markdown",
   "id": "d0db1fed",
   "metadata": {},
   "source": [
    "replaced the missing values in the job_title with group mode "
   ]
  },
  {
   "cell_type": "markdown",
   "id": "179d3da9",
   "metadata": {},
   "source": [
    "### age"
   ]
  },
  {
   "cell_type": "code",
   "execution_count": 155,
   "id": "883ee5ba",
   "metadata": {},
   "outputs": [],
   "source": [
    "new_customers['age'] = new_customers.groupby(['postcode','gender','job_industry_category','job_title'], sort=True)['age'].fillna(new_customers[\"age\"].mean())"
   ]
  },
  {
   "cell_type": "markdown",
   "id": "649dd1d1",
   "metadata": {},
   "source": [
    "replaced the missing values in the age with group mean of 'postcode','gender','job_industry_category','job_title'"
   ]
  },
  {
   "cell_type": "code",
   "execution_count": 156,
   "id": "f9cd02cb",
   "metadata": {},
   "outputs": [
    {
     "name": "stdout",
     "output_type": "stream",
     "text": [
      "\u001b[1m\u001b[94m\n",
      " Null values in the columns of dataset\u001b[0m\n"
     ]
    },
    {
     "data": {
      "text/plain": [
       "gender                                 0\n",
       "past_3_years_bike_related_purchases    0\n",
       "job_title                              0\n",
       "job_industry_category                  0\n",
       "wealth_segment                         0\n",
       "owns_car                               0\n",
       "tenure                                 0\n",
       "postcode                               0\n",
       "state                                  0\n",
       "property_valuation                     0\n",
       "customer_id                            0\n",
       "age                                    0\n",
       "dtype: int64"
      ]
     },
     "execution_count": 156,
     "metadata": {},
     "output_type": "execute_result"
    }
   ],
   "source": [
    "print(color.BOLD +color.BLUE +\"\\n\",\"Null values in the columns of dataset\"+ color.END)\n",
    "new_customers.isnull().sum()"
   ]
  },
  {
   "cell_type": "markdown",
   "id": "bab5be85",
   "metadata": {},
   "source": [
    "no more missing values"
   ]
  },
  {
   "cell_type": "code",
   "execution_count": 157,
   "id": "55325b60",
   "metadata": {},
   "outputs": [],
   "source": [
    "#new_customers.to_excel(\"new_customers.xlsx\")  "
   ]
  },
  {
   "cell_type": "code",
   "execution_count": null,
   "id": "20965765",
   "metadata": {},
   "outputs": [],
   "source": []
  }
 ],
 "metadata": {
  "hide_input": false,
  "kernelspec": {
   "display_name": "Python 3 (ipykernel)",
   "language": "python",
   "name": "python3"
  },
  "language_info": {
   "codemirror_mode": {
    "name": "ipython",
    "version": 3
   },
   "file_extension": ".py",
   "mimetype": "text/x-python",
   "name": "python",
   "nbconvert_exporter": "python",
   "pygments_lexer": "ipython3",
   "version": "3.9.7"
  }
 },
 "nbformat": 4,
 "nbformat_minor": 5
}
